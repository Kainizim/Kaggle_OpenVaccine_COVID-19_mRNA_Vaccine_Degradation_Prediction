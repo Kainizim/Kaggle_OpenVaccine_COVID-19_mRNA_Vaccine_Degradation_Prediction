{
  "nbformat": 4,
  "nbformat_minor": 0,
  "metadata": {
    "colab": {
      "name": "OpenVaccine Kaggle.ipynb",
      "provenance": [],
      "collapsed_sections": []
    },
    "kernelspec": {
      "name": "python3",
      "display_name": "Python 3"
    },
    "language_info": {
      "name": "python"
    }
  },
  "cells": [
    {
      "cell_type": "markdown",
      "metadata": {
        "id": "s3hTAxFIJ0Yi"
      },
      "source": [
        "# Import des modules"
      ]
    },
    {
      "cell_type": "code",
      "metadata": {
        "id": "Jl_WiwvJJ40W"
      },
      "source": [
        "import numpy as np\n",
        "import pandas as pd\n",
        "import matplotlib.pyplot as plt\n",
        "\n",
        "#Tensorflow\n",
        "from tensorflow.keras.utils import to_categorical\n",
        "from tensorflow.keras.models import Sequential\n",
        "from tensorflow.keras.layers import Dense\n",
        "from tensorflow.keras.utils import plot_model\n",
        "import tensorflow as tf\n",
        "from tensorflow.keras.callbacks import ModelCheckpoint, EarlyStopping, LearningRateScheduler, ReduceLROnPlateau\n",
        "from tensorflow.keras.layers import Conv1D\n",
        "from tensorflow.keras.layers import Dropout\n",
        "\n",
        "from keras import backend\n",
        "\n",
        "#Ski-learn\n",
        "from sklearn.model_selection import StratifiedKFold, GroupKFold"
      ],
      "execution_count": 1,
      "outputs": []
    },
    {
      "cell_type": "code",
      "metadata": {
        "id": "IWiQZp7WhhM1"
      },
      "source": [
        "#Télécharger les fichiers de données\n",
        "from google.colab import files"
      ],
      "execution_count": 2,
      "outputs": []
    },
    {
      "cell_type": "markdown",
      "metadata": {
        "id": "PurhWiB8GrQi"
      },
      "source": [
        "# Importation des données"
      ]
    },
    {
      "cell_type": "code",
      "metadata": {
        "id": "mQHkwNEkbLek"
      },
      "source": [
        "train_data = pd.read_json(\"train.json\", lines = True).drop('index' , axis = 1)\n",
        "test_data = pd.read_json(\"test.json\", lines = True).drop('index' , axis = 1)\n",
        "sample_data = pd.read_csv(\"sample_submission.csv\")"
      ],
      "execution_count": 3,
      "outputs": []
    },
    {
      "cell_type": "markdown",
      "metadata": {
        "id": "K2Ht8ki4N_cz"
      },
      "source": [
        "### Vérification des données"
      ]
    },
    {
      "cell_type": "code",
      "metadata": {
        "id": "s2uC1txDMex4",
        "colab": {
          "base_uri": "https://localhost:8080/",
          "height": 469
        },
        "outputId": "b01a1eaf-6d86-4b94-9236-51b80ba2483f"
      },
      "source": [
        "train_data.head()"
      ],
      "execution_count": 4,
      "outputs": [
        {
          "output_type": "execute_result",
          "data": {
            "text/html": [
              "<div>\n",
              "<style scoped>\n",
              "    .dataframe tbody tr th:only-of-type {\n",
              "        vertical-align: middle;\n",
              "    }\n",
              "\n",
              "    .dataframe tbody tr th {\n",
              "        vertical-align: top;\n",
              "    }\n",
              "\n",
              "    .dataframe thead th {\n",
              "        text-align: right;\n",
              "    }\n",
              "</style>\n",
              "<table border=\"1\" class=\"dataframe\">\n",
              "  <thead>\n",
              "    <tr style=\"text-align: right;\">\n",
              "      <th></th>\n",
              "      <th>id</th>\n",
              "      <th>sequence</th>\n",
              "      <th>structure</th>\n",
              "      <th>predicted_loop_type</th>\n",
              "      <th>signal_to_noise</th>\n",
              "      <th>SN_filter</th>\n",
              "      <th>seq_length</th>\n",
              "      <th>seq_scored</th>\n",
              "      <th>reactivity_error</th>\n",
              "      <th>deg_error_Mg_pH10</th>\n",
              "      <th>deg_error_pH10</th>\n",
              "      <th>deg_error_Mg_50C</th>\n",
              "      <th>deg_error_50C</th>\n",
              "      <th>reactivity</th>\n",
              "      <th>deg_Mg_pH10</th>\n",
              "      <th>deg_pH10</th>\n",
              "      <th>deg_Mg_50C</th>\n",
              "      <th>deg_50C</th>\n",
              "    </tr>\n",
              "  </thead>\n",
              "  <tbody>\n",
              "    <tr>\n",
              "      <th>0</th>\n",
              "      <td>id_001f94081</td>\n",
              "      <td>GGAAAAGCUCUAAUAACAGGAGACUAGGACUACGUAUUUCUAGGUA...</td>\n",
              "      <td>.....((((((.......)))).)).((.....((..((((((......</td>\n",
              "      <td>EEEEESSSSSSHHHHHHHSSSSBSSXSSIIIIISSIISSSSSSHHH...</td>\n",
              "      <td>6.894</td>\n",
              "      <td>1</td>\n",
              "      <td>107</td>\n",
              "      <td>68</td>\n",
              "      <td>[0.1359, 0.20700000000000002, 0.1633, 0.1452, ...</td>\n",
              "      <td>[0.26130000000000003, 0.38420000000000004, 0.1...</td>\n",
              "      <td>[0.2631, 0.28600000000000003, 0.0964, 0.1574, ...</td>\n",
              "      <td>[0.1501, 0.275, 0.0947, 0.18660000000000002, 0...</td>\n",
              "      <td>[0.2167, 0.34750000000000003, 0.188, 0.2124, 0...</td>\n",
              "      <td>[0.3297, 1.5693000000000001, 1.1227, 0.8686, 0...</td>\n",
              "      <td>[0.7556, 2.983, 0.2526, 1.3789, 0.637600000000...</td>\n",
              "      <td>[2.3375, 3.5060000000000002, 0.3008, 1.0108, 0...</td>\n",
              "      <td>[0.35810000000000003, 2.9683, 0.2589, 1.4552, ...</td>\n",
              "      <td>[0.6382, 3.4773, 0.9988, 1.3228, 0.78770000000...</td>\n",
              "    </tr>\n",
              "    <tr>\n",
              "      <th>1</th>\n",
              "      <td>id_0049f53ba</td>\n",
              "      <td>GGAAAAAGCGCGCGCGGUUAGCGCGCGCUUUUGCGCGCGCUGUACC...</td>\n",
              "      <td>.....(((((((((((((((((((((((....)))))))))).)))...</td>\n",
              "      <td>EEEEESSSSSSSSSSSSSSSSSSSSSSSHHHHSSSSSSSSSSBSSS...</td>\n",
              "      <td>0.193</td>\n",
              "      <td>0</td>\n",
              "      <td>107</td>\n",
              "      <td>68</td>\n",
              "      <td>[2.8272, 2.8272, 2.8272, 4.7343, 2.5676, 2.567...</td>\n",
              "      <td>[73705.3985, 73705.3985, 73705.3985, 73705.398...</td>\n",
              "      <td>[10.1986, 9.2418, 5.0933, 5.0933, 5.0933, 5.09...</td>\n",
              "      <td>[16.6174, 13.868, 8.1968, 8.1968, 8.1968, 8.19...</td>\n",
              "      <td>[15.4857, 7.9596, 13.3957, 5.8777, 5.8777, 5.8...</td>\n",
              "      <td>[0.0, 0.0, 0.0, 2.2965, 0.0, 0.0, 0.0, 0.0, 0....</td>\n",
              "      <td>[0.0, 0.0, 0.0, 0.0, 0.0, 0.0, 0.0, 0.0, 0.0, ...</td>\n",
              "      <td>[4.947, 4.4523, 0.0, 0.0, 0.0, 0.0, 0.0, 0.0, ...</td>\n",
              "      <td>[4.8511, 4.0426, 0.0, 0.0, 0.0, 0.0, 0.0, 0.0,...</td>\n",
              "      <td>[7.6692, 0.0, 10.9561, 0.0, 0.0, 0.0, 0.0, 0.0...</td>\n",
              "    </tr>\n",
              "    <tr>\n",
              "      <th>2</th>\n",
              "      <td>id_006f36f57</td>\n",
              "      <td>GGAAAGUGCUCAGAUAAGCUAAGCUCGAAUAGCAAUCGAAUAGAAU...</td>\n",
              "      <td>.....((((.((.....((((.(((.....)))..((((......)...</td>\n",
              "      <td>EEEEESSSSISSIIIIISSSSMSSSHHHHHSSSMMSSSSHHHHHHS...</td>\n",
              "      <td>8.800</td>\n",
              "      <td>1</td>\n",
              "      <td>107</td>\n",
              "      <td>68</td>\n",
              "      <td>[0.0931, 0.13290000000000002, 0.11280000000000...</td>\n",
              "      <td>[0.1365, 0.2237, 0.1812, 0.1333, 0.1148, 0.160...</td>\n",
              "      <td>[0.17020000000000002, 0.178, 0.111, 0.091, 0.0...</td>\n",
              "      <td>[0.1033, 0.1464, 0.1126, 0.09620000000000001, ...</td>\n",
              "      <td>[0.14980000000000002, 0.1761, 0.1517, 0.116700...</td>\n",
              "      <td>[0.44820000000000004, 1.4822, 1.1819, 0.743400...</td>\n",
              "      <td>[0.2504, 1.4021, 0.9804, 0.49670000000000003, ...</td>\n",
              "      <td>[2.243, 2.9361, 1.0553, 0.721, 0.6396000000000...</td>\n",
              "      <td>[0.5163, 1.6823000000000001, 1.0426, 0.7902, 0...</td>\n",
              "      <td>[0.9501000000000001, 1.7974999999999999, 1.499...</td>\n",
              "    </tr>\n",
              "    <tr>\n",
              "      <th>3</th>\n",
              "      <td>id_0082d463b</td>\n",
              "      <td>GGAAAAGCGCGCGCGCGCGCGCGAAAAAGCGCGCGCGCGCGCGCGC...</td>\n",
              "      <td>......((((((((((((((((......))))))))))))))))((...</td>\n",
              "      <td>EEEEEESSSSSSSSSSSSSSSSHHHHHHSSSSSSSSSSSSSSSSSS...</td>\n",
              "      <td>0.104</td>\n",
              "      <td>0</td>\n",
              "      <td>107</td>\n",
              "      <td>68</td>\n",
              "      <td>[3.5229, 6.0748, 3.0374, 3.0374, 3.0374, 3.037...</td>\n",
              "      <td>[73705.3985, 73705.3985, 73705.3985, 73705.398...</td>\n",
              "      <td>[11.8007, 12.7566, 5.7733, 5.7733, 5.7733, 5.7...</td>\n",
              "      <td>[121286.7181, 121286.7182, 121286.7181, 121286...</td>\n",
              "      <td>[15.3995, 8.1124, 7.7824, 7.7824, 7.7824, 7.78...</td>\n",
              "      <td>[0.0, 2.2399, 0.0, 0.0, 0.0, 0.0, 0.0, 0.0, 0....</td>\n",
              "      <td>[0.0, -0.5083, 0.0, 0.0, 0.0, 0.0, 0.0, 0.0, 0...</td>\n",
              "      <td>[3.4248, 6.8128, 0.0, 0.0, 0.0, 0.0, 0.0, 0.0,...</td>\n",
              "      <td>[0.0, -0.8365, 0.0, 0.0, 0.0, 0.0, 0.0, 0.0, 0...</td>\n",
              "      <td>[7.6692, -1.3223, 0.0, 0.0, 0.0, 0.0, 0.0, 0.0...</td>\n",
              "    </tr>\n",
              "    <tr>\n",
              "      <th>4</th>\n",
              "      <td>id_0087940f4</td>\n",
              "      <td>GGAAAAUAUAUAAUAUAUUAUAUAAAUAUAUUAUAGAAGUAUAAUA...</td>\n",
              "      <td>.....(((((((.((((((((((((.(((((((((....)))))))...</td>\n",
              "      <td>EEEEESSSSSSSBSSSSSSSSSSSSBSSSSSSSSSHHHHSSSSSSS...</td>\n",
              "      <td>0.423</td>\n",
              "      <td>0</td>\n",
              "      <td>107</td>\n",
              "      <td>68</td>\n",
              "      <td>[1.665, 2.1728, 2.0041, 1.2405, 0.620200000000...</td>\n",
              "      <td>[4.2139, 3.9637000000000002, 3.2467, 2.4716, 1...</td>\n",
              "      <td>[3.0942, 3.015, 2.1212, 2.0552, 0.881500000000...</td>\n",
              "      <td>[2.6717, 2.4818, 1.9919, 2.5484999999999998, 1...</td>\n",
              "      <td>[1.3285, 3.6173, 1.3057, 1.3021, 1.1507, 1.150...</td>\n",
              "      <td>[0.8267, 2.6577, 2.8481, 0.40090000000000003, ...</td>\n",
              "      <td>[2.1058, 3.138, 2.5437000000000003, 1.0932, 0....</td>\n",
              "      <td>[4.7366, 4.6243, 1.2068, 1.1538, 0.0, 0.0, 0.7...</td>\n",
              "      <td>[2.2052, 1.7947000000000002, 0.7457, 3.1233, 0...</td>\n",
              "      <td>[0.0, 5.1198, -0.3551, -0.3518, 0.0, 0.0, 0.0,...</td>\n",
              "    </tr>\n",
              "  </tbody>\n",
              "</table>\n",
              "</div>"
            ],
            "text/plain": [
              "             id  ...                                            deg_50C\n",
              "0  id_001f94081  ...  [0.6382, 3.4773, 0.9988, 1.3228, 0.78770000000...\n",
              "1  id_0049f53ba  ...  [7.6692, 0.0, 10.9561, 0.0, 0.0, 0.0, 0.0, 0.0...\n",
              "2  id_006f36f57  ...  [0.9501000000000001, 1.7974999999999999, 1.499...\n",
              "3  id_0082d463b  ...  [7.6692, -1.3223, 0.0, 0.0, 0.0, 0.0, 0.0, 0.0...\n",
              "4  id_0087940f4  ...  [0.0, 5.1198, -0.3551, -0.3518, 0.0, 0.0, 0.0,...\n",
              "\n",
              "[5 rows x 18 columns]"
            ]
          },
          "metadata": {},
          "execution_count": 4
        }
      ]
    },
    {
      "cell_type": "code",
      "metadata": {
        "id": "UTQuQmj8MgQX",
        "colab": {
          "base_uri": "https://localhost:8080/",
          "height": 206
        },
        "outputId": "fd97e31a-4f54-4033-a923-fb0fe40819aa"
      },
      "source": [
        "test_data.head()"
      ],
      "execution_count": 5,
      "outputs": [
        {
          "output_type": "execute_result",
          "data": {
            "text/html": [
              "<div>\n",
              "<style scoped>\n",
              "    .dataframe tbody tr th:only-of-type {\n",
              "        vertical-align: middle;\n",
              "    }\n",
              "\n",
              "    .dataframe tbody tr th {\n",
              "        vertical-align: top;\n",
              "    }\n",
              "\n",
              "    .dataframe thead th {\n",
              "        text-align: right;\n",
              "    }\n",
              "</style>\n",
              "<table border=\"1\" class=\"dataframe\">\n",
              "  <thead>\n",
              "    <tr style=\"text-align: right;\">\n",
              "      <th></th>\n",
              "      <th>id</th>\n",
              "      <th>sequence</th>\n",
              "      <th>structure</th>\n",
              "      <th>predicted_loop_type</th>\n",
              "      <th>seq_length</th>\n",
              "      <th>seq_scored</th>\n",
              "    </tr>\n",
              "  </thead>\n",
              "  <tbody>\n",
              "    <tr>\n",
              "      <th>0</th>\n",
              "      <td>id_00073f8be</td>\n",
              "      <td>GGAAAAGUACGACUUGAGUACGGAAAACGUACCAACUCGAUUAAAA...</td>\n",
              "      <td>......((((((((((.(((((.....))))))))((((((((......</td>\n",
              "      <td>EEEEEESSSSSSSSSSBSSSSSHHHHHSSSSSSSSSSSSSSSSHHH...</td>\n",
              "      <td>107</td>\n",
              "      <td>68</td>\n",
              "    </tr>\n",
              "    <tr>\n",
              "      <th>1</th>\n",
              "      <td>id_000ae4237</td>\n",
              "      <td>GGAAACGGGUUCCGCGGAUUGCUGCUAAUAAGAGUAAUCUCUAAAU...</td>\n",
              "      <td>.....((((..((((((...(((((.....((((....)))).......</td>\n",
              "      <td>EEEEESSSSIISSSSSSIIISSSSSIIIIISSSSHHHHSSSSIIII...</td>\n",
              "      <td>130</td>\n",
              "      <td>91</td>\n",
              "    </tr>\n",
              "    <tr>\n",
              "      <th>2</th>\n",
              "      <td>id_00131c573</td>\n",
              "      <td>GGAAAACAAAACGGCCUGGAAGACGAAGGAAUUCGGCGCGAAGGCC...</td>\n",
              "      <td>...........((.(((.(.(..((..((..((((...))))..))...</td>\n",
              "      <td>EEEEEEEEEEESSISSSISISIISSIISSIISSSSHHHSSSSIISS...</td>\n",
              "      <td>107</td>\n",
              "      <td>68</td>\n",
              "    </tr>\n",
              "    <tr>\n",
              "      <th>3</th>\n",
              "      <td>id_00181fd34</td>\n",
              "      <td>GGAAAGGAUCUCUAUCGAAGGAUAGAGAUCGCUCGCGACGGCACGA...</td>\n",
              "      <td>......((((((((((....))))))))))((((((..((.(((.....</td>\n",
              "      <td>EEEEEESSSSSSSSSSHHHHSSSSSSSSSSSSSSSSIISSISSSHH...</td>\n",
              "      <td>107</td>\n",
              "      <td>68</td>\n",
              "    </tr>\n",
              "    <tr>\n",
              "      <th>4</th>\n",
              "      <td>id_0020473f7</td>\n",
              "      <td>GGAAACCCGCCCGCGCCCGCCCGCGCUGCUGCCGUGCCUCCUCUCC...</td>\n",
              "      <td>.....(((((((((((((((((((((((((((((((((((((((((...</td>\n",
              "      <td>EEEEESSSSSSSSSSSSSSSSSSSSSSSSSSSSSSSSSSSSSSSSS...</td>\n",
              "      <td>130</td>\n",
              "      <td>91</td>\n",
              "    </tr>\n",
              "  </tbody>\n",
              "</table>\n",
              "</div>"
            ],
            "text/plain": [
              "             id  ... seq_scored\n",
              "0  id_00073f8be  ...         68\n",
              "1  id_000ae4237  ...         91\n",
              "2  id_00131c573  ...         68\n",
              "3  id_00181fd34  ...         68\n",
              "4  id_0020473f7  ...         91\n",
              "\n",
              "[5 rows x 6 columns]"
            ]
          },
          "metadata": {},
          "execution_count": 5
        }
      ]
    },
    {
      "cell_type": "code",
      "metadata": {
        "id": "h0eZhgryMhw4",
        "colab": {
          "base_uri": "https://localhost:8080/",
          "height": 206
        },
        "outputId": "f656c528-c77c-42fc-e62a-de4d3bc734d5"
      },
      "source": [
        "sample_data.head()"
      ],
      "execution_count": 6,
      "outputs": [
        {
          "output_type": "execute_result",
          "data": {
            "text/html": [
              "<div>\n",
              "<style scoped>\n",
              "    .dataframe tbody tr th:only-of-type {\n",
              "        vertical-align: middle;\n",
              "    }\n",
              "\n",
              "    .dataframe tbody tr th {\n",
              "        vertical-align: top;\n",
              "    }\n",
              "\n",
              "    .dataframe thead th {\n",
              "        text-align: right;\n",
              "    }\n",
              "</style>\n",
              "<table border=\"1\" class=\"dataframe\">\n",
              "  <thead>\n",
              "    <tr style=\"text-align: right;\">\n",
              "      <th></th>\n",
              "      <th>id_seqpos</th>\n",
              "      <th>reactivity</th>\n",
              "      <th>deg_Mg_pH10</th>\n",
              "      <th>deg_pH10</th>\n",
              "      <th>deg_Mg_50C</th>\n",
              "      <th>deg_50C</th>\n",
              "    </tr>\n",
              "  </thead>\n",
              "  <tbody>\n",
              "    <tr>\n",
              "      <th>0</th>\n",
              "      <td>id_00073f8be_0</td>\n",
              "      <td>0.0</td>\n",
              "      <td>0.0</td>\n",
              "      <td>0.0</td>\n",
              "      <td>0.0</td>\n",
              "      <td>0.0</td>\n",
              "    </tr>\n",
              "    <tr>\n",
              "      <th>1</th>\n",
              "      <td>id_00073f8be_1</td>\n",
              "      <td>0.0</td>\n",
              "      <td>0.0</td>\n",
              "      <td>0.0</td>\n",
              "      <td>0.0</td>\n",
              "      <td>0.0</td>\n",
              "    </tr>\n",
              "    <tr>\n",
              "      <th>2</th>\n",
              "      <td>id_00073f8be_2</td>\n",
              "      <td>0.0</td>\n",
              "      <td>0.0</td>\n",
              "      <td>0.0</td>\n",
              "      <td>0.0</td>\n",
              "      <td>0.0</td>\n",
              "    </tr>\n",
              "    <tr>\n",
              "      <th>3</th>\n",
              "      <td>id_00073f8be_3</td>\n",
              "      <td>0.0</td>\n",
              "      <td>0.0</td>\n",
              "      <td>0.0</td>\n",
              "      <td>0.0</td>\n",
              "      <td>0.0</td>\n",
              "    </tr>\n",
              "    <tr>\n",
              "      <th>4</th>\n",
              "      <td>id_00073f8be_4</td>\n",
              "      <td>0.0</td>\n",
              "      <td>0.0</td>\n",
              "      <td>0.0</td>\n",
              "      <td>0.0</td>\n",
              "      <td>0.0</td>\n",
              "    </tr>\n",
              "  </tbody>\n",
              "</table>\n",
              "</div>"
            ],
            "text/plain": [
              "        id_seqpos  reactivity  deg_Mg_pH10  deg_pH10  deg_Mg_50C  deg_50C\n",
              "0  id_00073f8be_0         0.0          0.0       0.0         0.0      0.0\n",
              "1  id_00073f8be_1         0.0          0.0       0.0         0.0      0.0\n",
              "2  id_00073f8be_2         0.0          0.0       0.0         0.0      0.0\n",
              "3  id_00073f8be_3         0.0          0.0       0.0         0.0      0.0\n",
              "4  id_00073f8be_4         0.0          0.0       0.0         0.0      0.0"
            ]
          },
          "metadata": {},
          "execution_count": 6
        }
      ]
    },
    {
      "cell_type": "markdown",
      "metadata": {
        "id": "Jeym2tPDOzAQ"
      },
      "source": [
        "## Data encoding"
      ]
    },
    {
      "cell_type": "markdown",
      "metadata": {
        "id": "6B3Po3GUOIWT"
      },
      "source": [
        "II)a) Filtrage des données "
      ]
    },
    {
      "cell_type": "code",
      "metadata": {
        "id": "0tFzQcF7OPT_"
      },
      "source": [
        "train_data = train_data[train_data[\"SN_filter\"] == 1]"
      ],
      "execution_count": 7,
      "outputs": []
    },
    {
      "cell_type": "code",
      "metadata": {
        "id": "EJPUkR8NOToX",
        "colab": {
          "base_uri": "https://localhost:8080/",
          "height": 434
        },
        "outputId": "bea625ae-b693-45d3-ec76-9f2357b4ba77"
      },
      "source": [
        "train_data.head()"
      ],
      "execution_count": 8,
      "outputs": [
        {
          "output_type": "execute_result",
          "data": {
            "text/html": [
              "<div>\n",
              "<style scoped>\n",
              "    .dataframe tbody tr th:only-of-type {\n",
              "        vertical-align: middle;\n",
              "    }\n",
              "\n",
              "    .dataframe tbody tr th {\n",
              "        vertical-align: top;\n",
              "    }\n",
              "\n",
              "    .dataframe thead th {\n",
              "        text-align: right;\n",
              "    }\n",
              "</style>\n",
              "<table border=\"1\" class=\"dataframe\">\n",
              "  <thead>\n",
              "    <tr style=\"text-align: right;\">\n",
              "      <th></th>\n",
              "      <th>id</th>\n",
              "      <th>sequence</th>\n",
              "      <th>structure</th>\n",
              "      <th>predicted_loop_type</th>\n",
              "      <th>signal_to_noise</th>\n",
              "      <th>SN_filter</th>\n",
              "      <th>seq_length</th>\n",
              "      <th>seq_scored</th>\n",
              "      <th>reactivity_error</th>\n",
              "      <th>deg_error_Mg_pH10</th>\n",
              "      <th>deg_error_pH10</th>\n",
              "      <th>deg_error_Mg_50C</th>\n",
              "      <th>deg_error_50C</th>\n",
              "      <th>reactivity</th>\n",
              "      <th>deg_Mg_pH10</th>\n",
              "      <th>deg_pH10</th>\n",
              "      <th>deg_Mg_50C</th>\n",
              "      <th>deg_50C</th>\n",
              "    </tr>\n",
              "  </thead>\n",
              "  <tbody>\n",
              "    <tr>\n",
              "      <th>0</th>\n",
              "      <td>id_001f94081</td>\n",
              "      <td>GGAAAAGCUCUAAUAACAGGAGACUAGGACUACGUAUUUCUAGGUA...</td>\n",
              "      <td>.....((((((.......)))).)).((.....((..((((((......</td>\n",
              "      <td>EEEEESSSSSSHHHHHHHSSSSBSSXSSIIIIISSIISSSSSSHHH...</td>\n",
              "      <td>6.894</td>\n",
              "      <td>1</td>\n",
              "      <td>107</td>\n",
              "      <td>68</td>\n",
              "      <td>[0.1359, 0.20700000000000002, 0.1633, 0.1452, ...</td>\n",
              "      <td>[0.26130000000000003, 0.38420000000000004, 0.1...</td>\n",
              "      <td>[0.2631, 0.28600000000000003, 0.0964, 0.1574, ...</td>\n",
              "      <td>[0.1501, 0.275, 0.0947, 0.18660000000000002, 0...</td>\n",
              "      <td>[0.2167, 0.34750000000000003, 0.188, 0.2124, 0...</td>\n",
              "      <td>[0.3297, 1.5693000000000001, 1.1227, 0.8686, 0...</td>\n",
              "      <td>[0.7556, 2.983, 0.2526, 1.3789, 0.637600000000...</td>\n",
              "      <td>[2.3375, 3.5060000000000002, 0.3008, 1.0108, 0...</td>\n",
              "      <td>[0.35810000000000003, 2.9683, 0.2589, 1.4552, ...</td>\n",
              "      <td>[0.6382, 3.4773, 0.9988, 1.3228, 0.78770000000...</td>\n",
              "    </tr>\n",
              "    <tr>\n",
              "      <th>2</th>\n",
              "      <td>id_006f36f57</td>\n",
              "      <td>GGAAAGUGCUCAGAUAAGCUAAGCUCGAAUAGCAAUCGAAUAGAAU...</td>\n",
              "      <td>.....((((.((.....((((.(((.....)))..((((......)...</td>\n",
              "      <td>EEEEESSSSISSIIIIISSSSMSSSHHHHHSSSMMSSSSHHHHHHS...</td>\n",
              "      <td>8.800</td>\n",
              "      <td>1</td>\n",
              "      <td>107</td>\n",
              "      <td>68</td>\n",
              "      <td>[0.0931, 0.13290000000000002, 0.11280000000000...</td>\n",
              "      <td>[0.1365, 0.2237, 0.1812, 0.1333, 0.1148, 0.160...</td>\n",
              "      <td>[0.17020000000000002, 0.178, 0.111, 0.091, 0.0...</td>\n",
              "      <td>[0.1033, 0.1464, 0.1126, 0.09620000000000001, ...</td>\n",
              "      <td>[0.14980000000000002, 0.1761, 0.1517, 0.116700...</td>\n",
              "      <td>[0.44820000000000004, 1.4822, 1.1819, 0.743400...</td>\n",
              "      <td>[0.2504, 1.4021, 0.9804, 0.49670000000000003, ...</td>\n",
              "      <td>[2.243, 2.9361, 1.0553, 0.721, 0.6396000000000...</td>\n",
              "      <td>[0.5163, 1.6823000000000001, 1.0426, 0.7902, 0...</td>\n",
              "      <td>[0.9501000000000001, 1.7974999999999999, 1.499...</td>\n",
              "    </tr>\n",
              "    <tr>\n",
              "      <th>5</th>\n",
              "      <td>id_00ab2d761</td>\n",
              "      <td>GGAAAGCGCCGCGGCGGUAGCGGCAGCGAGGAGCGCUACCAAGGCA...</td>\n",
              "      <td>.....(.(((((.(((((((((...........)))))))..(((....</td>\n",
              "      <td>EEEEESISSSSSISSSSSSSSSHHHHHHHHHHHSSSSSSSMMSSSH...</td>\n",
              "      <td>4.136</td>\n",
              "      <td>1</td>\n",
              "      <td>107</td>\n",
              "      <td>68</td>\n",
              "      <td>[0.1942, 0.2041, 0.1626, 0.1213, 0.10590000000...</td>\n",
              "      <td>[0.2726, 0.2984, 0.21660000000000001, 0.1637, ...</td>\n",
              "      <td>[0.3393, 0.2728, 0.2005, 0.1703, 0.1495, 0.134...</td>\n",
              "      <td>[0.165, 0.20520000000000002, 0.179, 0.1333, 0....</td>\n",
              "      <td>[0.2864, 0.24710000000000001, 0.2222, 0.1903, ...</td>\n",
              "      <td>[0.7642, 1.6641, 1.0622, 0.5008, 0.4107, 0.133...</td>\n",
              "      <td>[0.9559000000000001, 1.9442, 1.0114, 0.5105000...</td>\n",
              "      <td>[1.9554, 2.1298, 1.0403, 0.609, 0.5486, 0.386,...</td>\n",
              "      <td>[0.22460000000000002, 1.7281, 1.381, 0.6623, 0...</td>\n",
              "      <td>[0.5882000000000001, 1.1786, 0.9704, 0.6035, 0...</td>\n",
              "    </tr>\n",
              "    <tr>\n",
              "      <th>6</th>\n",
              "      <td>id_00abef1d7</td>\n",
              "      <td>GGAAAACAAUUGCAUCGUUAGUACGACUCCACAGCGUAAGCUGUGG...</td>\n",
              "      <td>.........((((((((......((((((((((((....)))))))...</td>\n",
              "      <td>EEEEEEEEESSSSSSSSIIIIIISSSSSSSSSSSSHHHHSSSSSSS...</td>\n",
              "      <td>2.485</td>\n",
              "      <td>1</td>\n",
              "      <td>107</td>\n",
              "      <td>68</td>\n",
              "      <td>[0.422, 0.5478000000000001, 0.4749000000000000...</td>\n",
              "      <td>[0.4801, 0.7943, 0.42160000000000003, 0.397300...</td>\n",
              "      <td>[0.9822000000000001, 1.272, 0.6940000000000001...</td>\n",
              "      <td>[0.5827, 0.7555000000000001, 0.5949, 0.4511, 0...</td>\n",
              "      <td>[0.9306000000000001, 1.0496, 0.5844, 0.7796000...</td>\n",
              "      <td>[0.895, 2.3377, 2.2305, 2.003, 1.9006, 1.0373,...</td>\n",
              "      <td>[0.46040000000000003, 3.6695, 0.78550000000000...</td>\n",
              "      <td>[2.7711, 7.365, 1.6924000000000001, 1.43840000...</td>\n",
              "      <td>[1.073, 2.8604000000000003, 1.9936, 1.0273, 1....</td>\n",
              "      <td>[2.0964, 3.3688000000000002, 0.6399, 2.1053, 1...</td>\n",
              "    </tr>\n",
              "    <tr>\n",
              "      <th>7</th>\n",
              "      <td>id_00b436dec</td>\n",
              "      <td>GGAAAUCAUCGAGGACGGGUCCGUUCAGCACGCGAAAGCGUCGUGA...</td>\n",
              "      <td>.....(((((((((((..(((((((((..((((....))))..)))...</td>\n",
              "      <td>EEEEESSSSSSSSSSSIISSSSSSSSSIISSSSHHHHSSSSIISSS...</td>\n",
              "      <td>1.727</td>\n",
              "      <td>1</td>\n",
              "      <td>107</td>\n",
              "      <td>68</td>\n",
              "      <td>[0.4843, 0.5233, 0.4554, 0.43520000000000003, ...</td>\n",
              "      <td>[0.8719, 1.0307, 0.6649, 0.34500000000000003, ...</td>\n",
              "      <td>[0.7045, 0.7775000000000001, 0.5662, 0.4561, 0...</td>\n",
              "      <td>[0.384, 0.723, 0.4766, 0.30260000000000004, 0....</td>\n",
              "      <td>[0.7429, 0.9137000000000001, 0.480400000000000...</td>\n",
              "      <td>[1.1576, 1.5137, 1.3382, 1.5622, 1.2121, 0.295...</td>\n",
              "      <td>[1.6912, 5.2652, 2.3901, 0.45890000000000003, ...</td>\n",
              "      <td>[1.8641, 2.3767, 1.149, 1.0132, 0.9876, 0.0, 0...</td>\n",
              "      <td>[0.49060000000000004, 4.6339, 1.95860000000000...</td>\n",
              "      <td>[1.2852000000000001, 2.5460000000000003, 0.234...</td>\n",
              "    </tr>\n",
              "  </tbody>\n",
              "</table>\n",
              "</div>"
            ],
            "text/plain": [
              "             id  ...                                            deg_50C\n",
              "0  id_001f94081  ...  [0.6382, 3.4773, 0.9988, 1.3228, 0.78770000000...\n",
              "2  id_006f36f57  ...  [0.9501000000000001, 1.7974999999999999, 1.499...\n",
              "5  id_00ab2d761  ...  [0.5882000000000001, 1.1786, 0.9704, 0.6035, 0...\n",
              "6  id_00abef1d7  ...  [2.0964, 3.3688000000000002, 0.6399, 2.1053, 1...\n",
              "7  id_00b436dec  ...  [1.2852000000000001, 2.5460000000000003, 0.234...\n",
              "\n",
              "[5 rows x 18 columns]"
            ]
          },
          "metadata": {},
          "execution_count": 8
        }
      ]
    },
    {
      "cell_type": "markdown",
      "metadata": {
        "id": "3j4XvCj0OsJS"
      },
      "source": [
        "### Création de x_train et y_train"
      ]
    },
    {
      "cell_type": "code",
      "metadata": {
        "id": "dVEIDyowOxLt"
      },
      "source": [
        "x_train = train_data[[\"sequence\", \"structure\", \"predicted_loop_type\"]]\n",
        "y_train = train_data[[\"reactivity\", \"deg_Mg_pH10\", \"deg_pH10\", \"deg_Mg_50C\", \"deg_50C\"]]"
      ],
      "execution_count": 9,
      "outputs": []
    },
    {
      "cell_type": "code",
      "metadata": {
        "id": "NaILbdJaPAE_",
        "colab": {
          "base_uri": "https://localhost:8080/",
          "height": 206
        },
        "outputId": "6d94b51c-e8e0-4506-a654-621e247f420b"
      },
      "source": [
        "x_train.head()"
      ],
      "execution_count": 10,
      "outputs": [
        {
          "output_type": "execute_result",
          "data": {
            "text/html": [
              "<div>\n",
              "<style scoped>\n",
              "    .dataframe tbody tr th:only-of-type {\n",
              "        vertical-align: middle;\n",
              "    }\n",
              "\n",
              "    .dataframe tbody tr th {\n",
              "        vertical-align: top;\n",
              "    }\n",
              "\n",
              "    .dataframe thead th {\n",
              "        text-align: right;\n",
              "    }\n",
              "</style>\n",
              "<table border=\"1\" class=\"dataframe\">\n",
              "  <thead>\n",
              "    <tr style=\"text-align: right;\">\n",
              "      <th></th>\n",
              "      <th>sequence</th>\n",
              "      <th>structure</th>\n",
              "      <th>predicted_loop_type</th>\n",
              "    </tr>\n",
              "  </thead>\n",
              "  <tbody>\n",
              "    <tr>\n",
              "      <th>0</th>\n",
              "      <td>GGAAAAGCUCUAAUAACAGGAGACUAGGACUACGUAUUUCUAGGUA...</td>\n",
              "      <td>.....((((((.......)))).)).((.....((..((((((......</td>\n",
              "      <td>EEEEESSSSSSHHHHHHHSSSSBSSXSSIIIIISSIISSSSSSHHH...</td>\n",
              "    </tr>\n",
              "    <tr>\n",
              "      <th>2</th>\n",
              "      <td>GGAAAGUGCUCAGAUAAGCUAAGCUCGAAUAGCAAUCGAAUAGAAU...</td>\n",
              "      <td>.....((((.((.....((((.(((.....)))..((((......)...</td>\n",
              "      <td>EEEEESSSSISSIIIIISSSSMSSSHHHHHSSSMMSSSSHHHHHHS...</td>\n",
              "    </tr>\n",
              "    <tr>\n",
              "      <th>5</th>\n",
              "      <td>GGAAAGCGCCGCGGCGGUAGCGGCAGCGAGGAGCGCUACCAAGGCA...</td>\n",
              "      <td>.....(.(((((.(((((((((...........)))))))..(((....</td>\n",
              "      <td>EEEEESISSSSSISSSSSSSSSHHHHHHHHHHHSSSSSSSMMSSSH...</td>\n",
              "    </tr>\n",
              "    <tr>\n",
              "      <th>6</th>\n",
              "      <td>GGAAAACAAUUGCAUCGUUAGUACGACUCCACAGCGUAAGCUGUGG...</td>\n",
              "      <td>.........((((((((......((((((((((((....)))))))...</td>\n",
              "      <td>EEEEEEEEESSSSSSSSIIIIIISSSSSSSSSSSSHHHHSSSSSSS...</td>\n",
              "    </tr>\n",
              "    <tr>\n",
              "      <th>7</th>\n",
              "      <td>GGAAAUCAUCGAGGACGGGUCCGUUCAGCACGCGAAAGCGUCGUGA...</td>\n",
              "      <td>.....(((((((((((..(((((((((..((((....))))..)))...</td>\n",
              "      <td>EEEEESSSSSSSSSSSIISSSSSSSSSIISSSSHHHHSSSSIISSS...</td>\n",
              "    </tr>\n",
              "  </tbody>\n",
              "</table>\n",
              "</div>"
            ],
            "text/plain": [
              "                                            sequence  ...                                predicted_loop_type\n",
              "0  GGAAAAGCUCUAAUAACAGGAGACUAGGACUACGUAUUUCUAGGUA...  ...  EEEEESSSSSSHHHHHHHSSSSBSSXSSIIIIISSIISSSSSSHHH...\n",
              "2  GGAAAGUGCUCAGAUAAGCUAAGCUCGAAUAGCAAUCGAAUAGAAU...  ...  EEEEESSSSISSIIIIISSSSMSSSHHHHHSSSMMSSSSHHHHHHS...\n",
              "5  GGAAAGCGCCGCGGCGGUAGCGGCAGCGAGGAGCGCUACCAAGGCA...  ...  EEEEESISSSSSISSSSSSSSSHHHHHHHHHHHSSSSSSSMMSSSH...\n",
              "6  GGAAAACAAUUGCAUCGUUAGUACGACUCCACAGCGUAAGCUGUGG...  ...  EEEEEEEEESSSSSSSSIIIIIISSSSSSSSSSSSHHHHSSSSSSS...\n",
              "7  GGAAAUCAUCGAGGACGGGUCCGUUCAGCACGCGAAAGCGUCGUGA...  ...  EEEEESSSSSSSSSSSIISSSSSSSSSIISSSSHHHHSSSSIISSS...\n",
              "\n",
              "[5 rows x 3 columns]"
            ]
          },
          "metadata": {},
          "execution_count": 10
        }
      ]
    },
    {
      "cell_type": "code",
      "metadata": {
        "id": "LqeGBbgNPE-J",
        "colab": {
          "base_uri": "https://localhost:8080/",
          "height": 206
        },
        "outputId": "9c86bc19-bc14-43fa-decc-d1c43c41d29f"
      },
      "source": [
        "y_train.head()"
      ],
      "execution_count": 11,
      "outputs": [
        {
          "output_type": "execute_result",
          "data": {
            "text/html": [
              "<div>\n",
              "<style scoped>\n",
              "    .dataframe tbody tr th:only-of-type {\n",
              "        vertical-align: middle;\n",
              "    }\n",
              "\n",
              "    .dataframe tbody tr th {\n",
              "        vertical-align: top;\n",
              "    }\n",
              "\n",
              "    .dataframe thead th {\n",
              "        text-align: right;\n",
              "    }\n",
              "</style>\n",
              "<table border=\"1\" class=\"dataframe\">\n",
              "  <thead>\n",
              "    <tr style=\"text-align: right;\">\n",
              "      <th></th>\n",
              "      <th>reactivity</th>\n",
              "      <th>deg_Mg_pH10</th>\n",
              "      <th>deg_pH10</th>\n",
              "      <th>deg_Mg_50C</th>\n",
              "      <th>deg_50C</th>\n",
              "    </tr>\n",
              "  </thead>\n",
              "  <tbody>\n",
              "    <tr>\n",
              "      <th>0</th>\n",
              "      <td>[0.3297, 1.5693000000000001, 1.1227, 0.8686, 0...</td>\n",
              "      <td>[0.7556, 2.983, 0.2526, 1.3789, 0.637600000000...</td>\n",
              "      <td>[2.3375, 3.5060000000000002, 0.3008, 1.0108, 0...</td>\n",
              "      <td>[0.35810000000000003, 2.9683, 0.2589, 1.4552, ...</td>\n",
              "      <td>[0.6382, 3.4773, 0.9988, 1.3228, 0.78770000000...</td>\n",
              "    </tr>\n",
              "    <tr>\n",
              "      <th>2</th>\n",
              "      <td>[0.44820000000000004, 1.4822, 1.1819, 0.743400...</td>\n",
              "      <td>[0.2504, 1.4021, 0.9804, 0.49670000000000003, ...</td>\n",
              "      <td>[2.243, 2.9361, 1.0553, 0.721, 0.6396000000000...</td>\n",
              "      <td>[0.5163, 1.6823000000000001, 1.0426, 0.7902, 0...</td>\n",
              "      <td>[0.9501000000000001, 1.7974999999999999, 1.499...</td>\n",
              "    </tr>\n",
              "    <tr>\n",
              "      <th>5</th>\n",
              "      <td>[0.7642, 1.6641, 1.0622, 0.5008, 0.4107, 0.133...</td>\n",
              "      <td>[0.9559000000000001, 1.9442, 1.0114, 0.5105000...</td>\n",
              "      <td>[1.9554, 2.1298, 1.0403, 0.609, 0.5486, 0.386,...</td>\n",
              "      <td>[0.22460000000000002, 1.7281, 1.381, 0.6623, 0...</td>\n",
              "      <td>[0.5882000000000001, 1.1786, 0.9704, 0.6035, 0...</td>\n",
              "    </tr>\n",
              "    <tr>\n",
              "      <th>6</th>\n",
              "      <td>[0.895, 2.3377, 2.2305, 2.003, 1.9006, 1.0373,...</td>\n",
              "      <td>[0.46040000000000003, 3.6695, 0.78550000000000...</td>\n",
              "      <td>[2.7711, 7.365, 1.6924000000000001, 1.43840000...</td>\n",
              "      <td>[1.073, 2.8604000000000003, 1.9936, 1.0273, 1....</td>\n",
              "      <td>[2.0964, 3.3688000000000002, 0.6399, 2.1053, 1...</td>\n",
              "    </tr>\n",
              "    <tr>\n",
              "      <th>7</th>\n",
              "      <td>[1.1576, 1.5137, 1.3382, 1.5622, 1.2121, 0.295...</td>\n",
              "      <td>[1.6912, 5.2652, 2.3901, 0.45890000000000003, ...</td>\n",
              "      <td>[1.8641, 2.3767, 1.149, 1.0132, 0.9876, 0.0, 0...</td>\n",
              "      <td>[0.49060000000000004, 4.6339, 1.95860000000000...</td>\n",
              "      <td>[1.2852000000000001, 2.5460000000000003, 0.234...</td>\n",
              "    </tr>\n",
              "  </tbody>\n",
              "</table>\n",
              "</div>"
            ],
            "text/plain": [
              "                                          reactivity  ...                                            deg_50C\n",
              "0  [0.3297, 1.5693000000000001, 1.1227, 0.8686, 0...  ...  [0.6382, 3.4773, 0.9988, 1.3228, 0.78770000000...\n",
              "2  [0.44820000000000004, 1.4822, 1.1819, 0.743400...  ...  [0.9501000000000001, 1.7974999999999999, 1.499...\n",
              "5  [0.7642, 1.6641, 1.0622, 0.5008, 0.4107, 0.133...  ...  [0.5882000000000001, 1.1786, 0.9704, 0.6035, 0...\n",
              "6  [0.895, 2.3377, 2.2305, 2.003, 1.9006, 1.0373,...  ...  [2.0964, 3.3688000000000002, 0.6399, 2.1053, 1...\n",
              "7  [1.1576, 1.5137, 1.3382, 1.5622, 1.2121, 0.295...  ...  [1.2852000000000001, 2.5460000000000003, 0.234...\n",
              "\n",
              "[5 rows x 5 columns]"
            ]
          },
          "metadata": {},
          "execution_count": 11
        }
      ]
    },
    {
      "cell_type": "markdown",
      "metadata": {
        "id": "HdhswQ_HPKx8"
      },
      "source": [
        "### One-hot encoding - x_train"
      ]
    },
    {
      "cell_type": "markdown",
      "metadata": {
        "id": "7fHs-ZUASkNs"
      },
      "source": [
        "#### One-hot encoding ARN"
      ]
    },
    {
      "cell_type": "markdown",
      "metadata": {
        "id": "h9IEZ0NWP2Em"
      },
      "source": [
        "##### Création du dictionnaire ARN"
      ]
    },
    {
      "cell_type": "code",
      "metadata": {
        "id": "30tzQxd-POmv"
      },
      "source": [
        "arn_dico = {x:i for i, x in enumerate(\"ACGU\")}"
      ],
      "execution_count": 12,
      "outputs": []
    },
    {
      "cell_type": "code",
      "metadata": {
        "colab": {
          "base_uri": "https://localhost:8080/"
        },
        "id": "SLd0qgtmPVh_",
        "outputId": "05721f9d-6880-46ba-aa87-daa1fedab59e"
      },
      "source": [
        "arn_dico"
      ],
      "execution_count": 13,
      "outputs": [
        {
          "output_type": "execute_result",
          "data": {
            "text/plain": [
              "{'A': 0, 'C': 1, 'G': 2, 'U': 3}"
            ]
          },
          "metadata": {},
          "execution_count": 13
        }
      ]
    },
    {
      "cell_type": "markdown",
      "metadata": {
        "id": "A-JThh4NQ4iy"
      },
      "source": [
        "##### Création du tableau de comptage"
      ]
    },
    {
      "cell_type": "code",
      "metadata": {
        "id": "LQ7pEJgPPqO3"
      },
      "source": [
        "x_train_seq = x_train[\"sequence\"].apply(lambda seq: [arn_dico[x] for x in seq])"
      ],
      "execution_count": 14,
      "outputs": []
    },
    {
      "cell_type": "code",
      "metadata": {
        "id": "6VhIebzEP1Dg",
        "colab": {
          "base_uri": "https://localhost:8080/"
        },
        "outputId": "a783e3d2-b9d0-49e6-d22a-65f75dfccec2"
      },
      "source": [
        "np.shape(x_train_seq)"
      ],
      "execution_count": 15,
      "outputs": [
        {
          "output_type": "execute_result",
          "data": {
            "text/plain": [
              "(1589,)"
            ]
          },
          "metadata": {},
          "execution_count": 15
        }
      ]
    },
    {
      "cell_type": "markdown",
      "metadata": {
        "id": "QOULtykBQ-on"
      },
      "source": [
        "##### Mise en place dans un array ordonnée avec les 4 colonnes correspondant aux acides aminés"
      ]
    },
    {
      "cell_type": "code",
      "metadata": {
        "id": "N1gvpLEAQJEw"
      },
      "source": [
        "x_train_seq = np.array(x_train_seq.values.tolist())"
      ],
      "execution_count": 16,
      "outputs": []
    },
    {
      "cell_type": "code",
      "metadata": {
        "id": "PN2ZAI7kQQcm",
        "colab": {
          "base_uri": "https://localhost:8080/"
        },
        "outputId": "cab7433c-e3fd-4eb1-d524-7d0b51eed22c"
      },
      "source": [
        "#print(x_train_seq)\n",
        "np.shape(x_train_seq)"
      ],
      "execution_count": 17,
      "outputs": [
        {
          "output_type": "execute_result",
          "data": {
            "text/plain": [
              "(1589, 107)"
            ]
          },
          "metadata": {},
          "execution_count": 17
        }
      ]
    },
    {
      "cell_type": "markdown",
      "metadata": {
        "id": "5RwKnaI7RJ4B"
      },
      "source": [
        "Ordre des colonnes : A C G U"
      ]
    },
    {
      "cell_type": "code",
      "metadata": {
        "id": "60X7ddTwQaB1"
      },
      "source": [
        "x_train_seq_cat = to_categorical(x_train_seq, 4)"
      ],
      "execution_count": 18,
      "outputs": []
    },
    {
      "cell_type": "code",
      "metadata": {
        "id": "i-i-P8V6Qc76",
        "colab": {
          "base_uri": "https://localhost:8080/"
        },
        "outputId": "4ec206b8-0231-49f9-c280-e8d6565c94e6"
      },
      "source": [
        "#print(x_train_seq_cat)\n",
        "np.shape(x_train_seq_cat)"
      ],
      "execution_count": 19,
      "outputs": [
        {
          "output_type": "execute_result",
          "data": {
            "text/plain": [
              "(1589, 107, 4)"
            ]
          },
          "metadata": {},
          "execution_count": 19
        }
      ]
    },
    {
      "cell_type": "markdown",
      "metadata": {
        "id": "CXRHHnReSgkg"
      },
      "source": [
        "#### One-hot encoding Structure"
      ]
    },
    {
      "cell_type": "markdown",
      "metadata": {
        "id": "u2xM4QPeRc5e"
      },
      "source": [
        "Création du dictionnaire Structure"
      ]
    },
    {
      "cell_type": "code",
      "metadata": {
        "id": "F4OrTrrGRfsR"
      },
      "source": [
        "structure_dico = {x:i for i, x in enumerate(\".()\")}\n",
        "x_train_struct = x_train[\"structure\"].apply(lambda seq: [structure_dico[x] for x in seq])\n",
        "x_train_struct = np.array(x_train_struct.values.tolist())\n",
        "x_train_struct_cat = to_categorical(x_train_struct, 3)"
      ],
      "execution_count": 20,
      "outputs": []
    },
    {
      "cell_type": "code",
      "metadata": {
        "colab": {
          "base_uri": "https://localhost:8080/"
        },
        "id": "meP9z5muSTOG",
        "outputId": "6e4443b6-5e98-4f03-cb63-1f86ea25c5de"
      },
      "source": [
        "structure_dico"
      ],
      "execution_count": 21,
      "outputs": [
        {
          "output_type": "execute_result",
          "data": {
            "text/plain": [
              "{'(': 1, ')': 2, '.': 0}"
            ]
          },
          "metadata": {},
          "execution_count": 21
        }
      ]
    },
    {
      "cell_type": "markdown",
      "metadata": {
        "id": "GYu0C82DR1uI"
      },
      "source": [
        "Ordre des colonnes : . ( )"
      ]
    },
    {
      "cell_type": "code",
      "metadata": {
        "id": "j0SiJ_2URwCY",
        "colab": {
          "base_uri": "https://localhost:8080/"
        },
        "outputId": "acbb2e23-6309-4e3d-d94a-0d554adb5373"
      },
      "source": [
        "#print(x_train_struct_cat)\n",
        "np.shape(x_train_struct_cat)"
      ],
      "execution_count": 22,
      "outputs": [
        {
          "output_type": "execute_result",
          "data": {
            "text/plain": [
              "(1589, 107, 3)"
            ]
          },
          "metadata": {},
          "execution_count": 22
        }
      ]
    },
    {
      "cell_type": "markdown",
      "metadata": {
        "id": "ycH9fXz3Sc1S"
      },
      "source": [
        "#### One-hot encoding loop"
      ]
    },
    {
      "cell_type": "markdown",
      "metadata": {
        "id": "oxS26FHkSwCh"
      },
      "source": [
        "Création du dictionnaire et mise en place du tableau loop"
      ]
    },
    {
      "cell_type": "code",
      "metadata": {
        "id": "jdPKIJ6GSAtk"
      },
      "source": [
        "dico_loop = {x:i for i, x in enumerate(\"BEHIMSX\")}\n",
        "x_train_loop = x_train[\"predicted_loop_type\"].apply(lambda seq: [dico_loop[x] for x in seq])\n",
        "x_train_loop = np.array(x_train_loop.values.tolist())\n",
        "x_train_loop_cat = to_categorical(x_train_loop, 7)"
      ],
      "execution_count": 23,
      "outputs": []
    },
    {
      "cell_type": "code",
      "metadata": {
        "colab": {
          "base_uri": "https://localhost:8080/"
        },
        "id": "foamTAr7SPqi",
        "outputId": "2878b8eb-10f7-40e5-e960-c841c4b7f978"
      },
      "source": [
        "dico_loop"
      ],
      "execution_count": 24,
      "outputs": [
        {
          "output_type": "execute_result",
          "data": {
            "text/plain": [
              "{'B': 0, 'E': 1, 'H': 2, 'I': 3, 'M': 4, 'S': 5, 'X': 6}"
            ]
          },
          "metadata": {},
          "execution_count": 24
        }
      ]
    },
    {
      "cell_type": "markdown",
      "metadata": {
        "id": "AMFydzczS4k2"
      },
      "source": [
        "Ordre des colonnes : B E H I M S X"
      ]
    },
    {
      "cell_type": "code",
      "metadata": {
        "id": "r2yYjh3dS89_",
        "colab": {
          "base_uri": "https://localhost:8080/"
        },
        "outputId": "63293265-a076-43c5-e2f6-b519b73ea76b"
      },
      "source": [
        "#print(x_train_loop_cat)\n",
        "np.shape(x_train_loop_cat)"
      ],
      "execution_count": 25,
      "outputs": [
        {
          "output_type": "execute_result",
          "data": {
            "text/plain": [
              "(1589, 107, 7)"
            ]
          },
          "metadata": {},
          "execution_count": 25
        }
      ]
    },
    {
      "cell_type": "markdown",
      "metadata": {
        "id": "9BpB_xk5TX7W"
      },
      "source": [
        "### Concaténation des 3 tableaux dans x_train"
      ]
    },
    {
      "cell_type": "code",
      "metadata": {
        "colab": {
          "base_uri": "https://localhost:8080/"
        },
        "id": "ugTIY6kiTNjx",
        "outputId": "41d4ab59-59b8-46db-ee96-100903964307"
      },
      "source": [
        "#print(x_train)\n",
        "np.shape(x_train)"
      ],
      "execution_count": 26,
      "outputs": [
        {
          "output_type": "execute_result",
          "data": {
            "text/plain": [
              "(1589, 3)"
            ]
          },
          "metadata": {},
          "execution_count": 26
        }
      ]
    },
    {
      "cell_type": "code",
      "metadata": {
        "id": "dMeLtS4s8XYe"
      },
      "source": [
        "x_train = np.concatenate((x_train_seq_cat, x_train_struct_cat, x_train_loop_cat), axis=2)"
      ],
      "execution_count": 27,
      "outputs": []
    },
    {
      "cell_type": "markdown",
      "metadata": {
        "id": "teX9RBWITfc3"
      },
      "source": [
        "### Selectoin des 68 premières bases"
      ]
    },
    {
      "cell_type": "code",
      "metadata": {
        "id": "FjRN-hpFTjr5"
      },
      "source": [
        "x_train = x_train[:,:68,:]"
      ],
      "execution_count": 28,
      "outputs": []
    },
    {
      "cell_type": "code",
      "metadata": {
        "id": "rjPT0pOPToZY",
        "colab": {
          "base_uri": "https://localhost:8080/"
        },
        "outputId": "c4a48c52-5069-4c73-d52a-1a5486601a5f"
      },
      "source": [
        "np.shape(x_train)"
      ],
      "execution_count": 29,
      "outputs": [
        {
          "output_type": "execute_result",
          "data": {
            "text/plain": [
              "(1589, 68, 14)"
            ]
          },
          "metadata": {},
          "execution_count": 29
        }
      ]
    },
    {
      "cell_type": "markdown",
      "metadata": {
        "id": "cqQI7cH9Va9H"
      },
      "source": [
        "### Creation de y_train"
      ]
    },
    {
      "cell_type": "code",
      "metadata": {
        "id": "-rsDXSx6VaGb"
      },
      "source": [
        "y_train_reactivity =  np.array(y_train[\"reactivity\"].values.tolist())"
      ],
      "execution_count": 30,
      "outputs": []
    },
    {
      "cell_type": "code",
      "metadata": {
        "colab": {
          "base_uri": "https://localhost:8080/"
        },
        "id": "tBsE3ILqVlfo",
        "outputId": "c984ceb8-98a5-41d7-baf1-0caedeb073a5"
      },
      "source": [
        "#print(y_train_reactivity)\n",
        "np.shape(y_train_reactivity)"
      ],
      "execution_count": 31,
      "outputs": [
        {
          "output_type": "execute_result",
          "data": {
            "text/plain": [
              "(1589, 68)"
            ]
          },
          "metadata": {},
          "execution_count": 31
        }
      ]
    },
    {
      "cell_type": "code",
      "metadata": {
        "id": "PoYsmVzsVn6f"
      },
      "source": [
        "y_train_deg_Mg_pH10 =  np.array(y_train[\"deg_Mg_pH10\"].values.tolist())\n",
        "y_train_deg_Mg_50C =  np.array(y_train[\"deg_Mg_50C\"].values.tolist())\n",
        "y_train_deg_pH10 =  np.array(y_train[\"deg_pH10\"].values.tolist())\n",
        "y_train_deg_50C =  np.array(y_train[\"deg_50C\"].values.tolist())"
      ],
      "execution_count": 32,
      "outputs": []
    },
    {
      "cell_type": "markdown",
      "metadata": {
        "id": "pky8diBIWC_a"
      },
      "source": [
        "### Concaténation de y_train le long d'un nouvelle axe"
      ]
    },
    {
      "cell_type": "code",
      "metadata": {
        "id": "Eg5U8-znVuql"
      },
      "source": [
        "y_train =  np.stack([y_train_reactivity, y_train_deg_Mg_pH10, y_train_deg_Mg_50C, y_train_deg_pH10, y_train_deg_50C], axis = 2)"
      ],
      "execution_count": 33,
      "outputs": []
    },
    {
      "cell_type": "code",
      "metadata": {
        "colab": {
          "base_uri": "https://localhost:8080/"
        },
        "id": "fRizYHnZV21i",
        "outputId": "7de17453-8e33-4717-b35f-b7aa30765e76"
      },
      "source": [
        "#print(y_train)\n",
        "np.shape(y_train)"
      ],
      "execution_count": 34,
      "outputs": [
        {
          "output_type": "execute_result",
          "data": {
            "text/plain": [
              "(1589, 68, 5)"
            ]
          },
          "metadata": {},
          "execution_count": 34
        }
      ]
    },
    {
      "cell_type": "markdown",
      "metadata": {
        "id": "t0sUpRRGd-JS"
      },
      "source": [
        "### Modèles d'évaluation en \"10-fold Cross-Validation\""
      ]
    },
    {
      "cell_type": "markdown",
      "metadata": {
        "id": "jkBW0sQVeJn-"
      },
      "source": [
        "Choisir les données que l'ont veut prédire"
      ]
    },
    {
      "cell_type": "code",
      "metadata": {
        "id": "k-LlaXoGeGnU",
        "colab": {
          "base_uri": "https://localhost:8080/"
        },
        "outputId": "3d9ac9df-33ce-4b56-c7cf-77838ba06c9d"
      },
      "source": [
        "y_train =  np.stack([y_train_reactivity, y_train_deg_Mg_pH10, y_train_deg_Mg_50C, y_train_deg_pH10, y_train_deg_50C], axis = 2)\n",
        "y_train.shape[2]"
      ],
      "execution_count": 35,
      "outputs": [
        {
          "output_type": "execute_result",
          "data": {
            "text/plain": [
              "5"
            ]
          },
          "metadata": {},
          "execution_count": 35
        }
      ]
    },
    {
      "cell_type": "code",
      "metadata": {
        "id": "XC-Xl3EipW33"
      },
      "source": [
        "#print(y_train.shape)"
      ],
      "execution_count": 36,
      "outputs": []
    },
    {
      "cell_type": "markdown",
      "metadata": {
        "id": "DfUEMadfvv6_"
      },
      "source": [
        "### One-hot encoding des données Tests"
      ]
    },
    {
      "cell_type": "code",
      "metadata": {
        "id": "3NZaplTBv0KO"
      },
      "source": [
        "X_test_107 = test_data.query(\"seq_length == 107\")\n",
        "X_test_130 = test_data.query(\"seq_length == 130\")"
      ],
      "execution_count": 37,
      "outputs": []
    },
    {
      "cell_type": "code",
      "metadata": {
        "colab": {
          "base_uri": "https://localhost:8080/"
        },
        "id": "etBybXA9jVvK",
        "outputId": "db6ddeb4-b2ec-4815-896f-bb2733903ac6"
      },
      "source": [
        "X_test_107.sum"
      ],
      "execution_count": 38,
      "outputs": [
        {
          "output_type": "execute_result",
          "data": {
            "text/plain": [
              "<bound method DataFrame.sum of                 id  ... seq_scored\n",
              "0     id_00073f8be  ...         68\n",
              "2     id_00131c573  ...         68\n",
              "3     id_00181fd34  ...         68\n",
              "18    id_00ca60e44  ...         68\n",
              "23    id_00e99b69c  ...         68\n",
              "...            ...  ...        ...\n",
              "3609  id_fd96725a9  ...         68\n",
              "3616  id_fe2102731  ...         68\n",
              "3622  id_febefd9c1  ...         68\n",
              "3623  id_ff2d18b94  ...         68\n",
              "3627  id_ff5b068b6  ...         68\n",
              "\n",
              "[629 rows x 6 columns]>"
            ]
          },
          "metadata": {},
          "execution_count": 38
        }
      ]
    },
    {
      "cell_type": "code",
      "metadata": {
        "colab": {
          "base_uri": "https://localhost:8080/"
        },
        "id": "BojDiAWqsJ_x",
        "outputId": "eb6b1762-a4a5-4dbc-a900-9976d4467f1d"
      },
      "source": [
        "X_test_130.sum"
      ],
      "execution_count": 39,
      "outputs": [
        {
          "output_type": "execute_result",
          "data": {
            "text/plain": [
              "<bound method DataFrame.sum of                 id  ... seq_scored\n",
              "1     id_000ae4237  ...         91\n",
              "4     id_0020473f7  ...         91\n",
              "5     id_002852873  ...         91\n",
              "6     id_0031191b7  ...         91\n",
              "7     id_003ab2445  ...         91\n",
              "...            ...  ...        ...\n",
              "3629  id_ff691b7e5  ...         91\n",
              "3630  id_ff9bf3581  ...         91\n",
              "3631  id_ffc8f96a8  ...         91\n",
              "3632  id_ffd7e8cc1  ...         91\n",
              "3633  id_ffda94f24  ...         91\n",
              "\n",
              "[3005 rows x 6 columns]>"
            ]
          },
          "metadata": {},
          "execution_count": 39
        }
      ]
    },
    {
      "cell_type": "markdown",
      "metadata": {
        "id": "KSUGLOcuwMyi"
      },
      "source": [
        "## Données Publiques (107 bp) - Test"
      ]
    },
    {
      "cell_type": "code",
      "metadata": {
        "id": "0L4cm2jzv0P_"
      },
      "source": [
        "#arn_dico = {x:i for i, x in enumerate(\"ACGU\")}\n",
        "X_test_107_seq = X_test_107[\"sequence\"].apply(lambda seq: [arn_dico[x] for x in seq])\n",
        "X_test_107_seq = np.array(X_test_107_seq.tolist())\n",
        "X_test_107_seq = to_categorical(X_test_107_seq, 4)"
      ],
      "execution_count": 40,
      "outputs": []
    },
    {
      "cell_type": "code",
      "metadata": {
        "id": "BKmV25jtJp6x"
      },
      "source": [
        "#structure_dico = {x:i for i, x in enumerate(\".()\")}\n",
        "X_test_107_struct = X_test_107[\"structure\"].apply(lambda seq: [structure_dico[x] for x in seq])\n",
        "X_test_107_struct = np.array(X_test_107_struct.values.tolist())\n",
        "X_test_107_struct = to_categorical(X_test_107_struct, 3)"
      ],
      "execution_count": 41,
      "outputs": []
    },
    {
      "cell_type": "code",
      "metadata": {
        "id": "yr6qXKngJqDL"
      },
      "source": [
        "#dico_loop = {x:i for i, x in enumerate(\"BEHIMSX\")}\n",
        "X_test_107_loop = X_test_107[\"predicted_loop_type\"].apply(lambda seq: [dico_loop[x] for x in seq])\n",
        "X_test_107_loop = np.array(X_test_107_loop.values.tolist())\n",
        "X_test_107_loop = to_categorical(X_test_107_loop, 7)"
      ],
      "execution_count": 42,
      "outputs": []
    },
    {
      "cell_type": "code",
      "metadata": {
        "id": "BFhCx3qkJqJl"
      },
      "source": [
        "X_test_107_all = np.concatenate((X_test_107_seq, X_test_107_struct, X_test_107_loop), axis=2)"
      ],
      "execution_count": 43,
      "outputs": []
    },
    {
      "cell_type": "code",
      "metadata": {
        "id": "tj7M-rRIi2im"
      },
      "source": [
        "X_test_107_all = X_test_107_all[:,:68,:]"
      ],
      "execution_count": 44,
      "outputs": []
    },
    {
      "cell_type": "code",
      "metadata": {
        "colab": {
          "base_uri": "https://localhost:8080/"
        },
        "id": "b0RKBCXbjFS4",
        "outputId": "afa6a81e-12be-4f0b-8fa1-6c55d5abf278"
      },
      "source": [
        "np.shape(X_test_107_all)"
      ],
      "execution_count": 45,
      "outputs": [
        {
          "output_type": "execute_result",
          "data": {
            "text/plain": [
              "(629, 68, 14)"
            ]
          },
          "metadata": {},
          "execution_count": 45
        }
      ]
    },
    {
      "cell_type": "markdown",
      "metadata": {
        "id": "Vwa1wtPIJoIu"
      },
      "source": [
        "## Données Privées (130 bp) - Test"
      ]
    },
    {
      "cell_type": "code",
      "metadata": {
        "id": "DjtvJEwwJrlW"
      },
      "source": [
        "#arn_dico = {x:i for i, x in enumerate(\"ACGU\")}\n",
        "X_test_130_seq = X_test_130[\"sequence\"].apply(lambda seq: [arn_dico[x] for x in seq])\n",
        "X_test_130_seq = np.array(X_test_130_seq.tolist())\n",
        "X_test_130_seq = to_categorical(X_test_130_seq, 4)"
      ],
      "execution_count": 46,
      "outputs": []
    },
    {
      "cell_type": "code",
      "metadata": {
        "id": "u5ppXQ3JJiHt"
      },
      "source": [
        "#structure_dico = {x:i for i, x in enumerate(\".()\")}\n",
        "X_test_130_struct = X_test_130[\"structure\"].apply(lambda seq: [structure_dico[x] for x in seq])\n",
        "X_test_130_struct = np.array(X_test_130_struct.values.tolist())\n",
        "X_test_130_struct = to_categorical(X_test_130_struct, 3)"
      ],
      "execution_count": 47,
      "outputs": []
    },
    {
      "cell_type": "code",
      "metadata": {
        "id": "qiXXEOMVJjyd"
      },
      "source": [
        "#dico_loop = {x:i for i, x in enumerate(\"BEHIMSX\")}\n",
        "X_test_130_loop = X_test_130[\"predicted_loop_type\"].apply(lambda seq: [dico_loop[x] for x in seq])\n",
        "X_test_130_loop = np.array(X_test_130_loop.values.tolist())\n",
        "X_test_130_loop = to_categorical(X_test_130_loop, 7)"
      ],
      "execution_count": 48,
      "outputs": []
    },
    {
      "cell_type": "code",
      "metadata": {
        "id": "VpXJx-xdJlf9"
      },
      "source": [
        "X_test_130_all = np.concatenate((X_test_130_seq, X_test_130_struct, X_test_130_loop), axis=2)"
      ],
      "execution_count": 49,
      "outputs": []
    },
    {
      "cell_type": "markdown",
      "metadata": {
        "id": "VGAekrdQjvPg"
      },
      "source": [
        "# Définition des paramètres métriques et des graphiques d'analyse"
      ]
    },
    {
      "cell_type": "markdown",
      "metadata": {
        "id": "gsoeVhaCefjY"
      },
      "source": [
        "## Evaluation du modèle\n",
        "\n",
        "Dans ce projet, il est spécifier d'utiliser une certaine méthode pour le calcul de l'évaluation de notre modèle, la 'mean columnwise root mean square error' ou MCRMSE, définie comme :\n",
        "$\n",
        "MCRMSE = \\frac{1}{N_t}\\sum\\limits_{j=1}^{N_t}\\sqrt{\\frac{1}{N}\\sum\\limits_{i=1}^{n}(y_{ij}-\\hat{y_{ij}})^2}\n",
        "$\n",
        "\n",
        "On définit donc une fonction pour calculer selon cette équation :"
      ]
    },
    {
      "cell_type": "code",
      "metadata": {
        "id": "08uBUuRl5ymT"
      },
      "source": [
        "def rmse(real_y, prediction_y):\n",
        "    mse = tf.keras.losses.mean_squared_error(real_y, prediction_y)\n",
        "    return backend.sqrt(mse)\n",
        "\n",
        "def MCRMSE(real_y, prediction_y, score_n=y_train.shape[2]):\n",
        "    score = 0\n",
        "    for i in range(score_n):\n",
        "        score += rmse(real_y[:, :, i], prediction_y[:, :, i]) / score_n\n",
        "    return score"
      ],
      "execution_count": 50,
      "outputs": []
    },
    {
      "cell_type": "markdown",
      "metadata": {
        "id": "wJj4Uq6pilzd"
      },
      "source": [
        "Pour voir l'évolution du modèle, on utilisera donc cette fonction à la place de la loss\n",
        "\n",
        "### Visualisation des paramètres\n",
        "\n",
        "Pour visualiser l'évolution des paramètres, on affichera après chaque apprentissage du modèle deux graphiques, représentants l'évolution de la MCRMSE et de la précision du modèle après chaque époques. Pour que le code reste lisible, on définit une fonction qui fera cet affichage en une ligne :"
      ]
    },
    {
      "cell_type": "code",
      "metadata": {
        "id": "OuLy4NsBXpd6"
      },
      "source": [
        "def plot_loss(model_history, title_model):\n",
        "  plt.plot(model_history.history['loss'])\n",
        "  plt.plot(model_history.history['val_loss'])\n",
        "  plt.xlabel(\"epochs\")\n",
        "  plt.ylabel(\"MCRMSE (loss)\")\n",
        "  plt.title(f\"{title_model} loss (MCRMSE)\")\n",
        "  plt.legend(['train', 'val'], loc='upper left')\n",
        "\n",
        "def plot_acc(model_history, title_model):\n",
        "  plt.plot(model_history.history['accuracy'])\n",
        "  plt.plot(model_history.history['val_accuracy'])\n",
        "  plt.xlabel(\"epochs\")\n",
        "  plt.ylabel(\"accuracy\")\n",
        "  plt.title (f\"{title_model} accuracy\")\n",
        "  plt.legend(['train', 'val'], loc='upper left')"
      ],
      "execution_count": 51,
      "outputs": []
    },
    {
      "cell_type": "markdown",
      "metadata": {
        "id": "TZRwfV4jkE2Y"
      },
      "source": [
        "La visualisation de la précision du modèle reste peu fiable car elle est basée sur les même données que l'apprentissage. Elle nous permettera donc d'évaluer provisoirement le modèle mais une deuxième évaluation devra être réalisée avec les données tests. "
      ]
    },
    {
      "cell_type": "markdown",
      "metadata": {
        "id": "B6YGFPi2kxuw"
      },
      "source": [
        "# Création des modèles et première évaluation"
      ]
    },
    {
      "cell_type": "markdown",
      "metadata": {
        "id": "Vz2WOnSRkjLO"
      },
      "source": [
        "## Modèle Dense simple\n",
        "\n",
        "Dans un permier temps, nous allons tester un modèle simple, composer uniquement de couche de type Dense"
      ]
    },
    {
      "cell_type": "code",
      "metadata": {
        "id": "1-NBqxApzcuC",
        "colab": {
          "base_uri": "https://localhost:8080/"
        },
        "outputId": "29866fd0-24cd-4795-d594-6c1ae3ef147e"
      },
      "source": [
        "# Création d'un modèle Dense en séquentiel\n",
        "model_dense = Sequential()\n",
        "model_dense.add(Dense(64, input_shape=(68, 14), activation='softmax'))\n",
        "model_dense.add(Dense(32, activation=\"softmax\"))\n",
        "model_dense.add(Dense(16, activation=\"softmax\"))\n",
        "model_dense.add(Dense(5, activation = \"linear\"))\n",
        "\n",
        "model_dense.compile(optimizer=\"adam\", loss= MCRMSE, metrics=['accuracy'])\n",
        "\n",
        "model_dense.summary()"
      ],
      "execution_count": 52,
      "outputs": [
        {
          "output_type": "stream",
          "name": "stdout",
          "text": [
            "Model: \"sequential\"\n",
            "_________________________________________________________________\n",
            "Layer (type)                 Output Shape              Param #   \n",
            "=================================================================\n",
            "dense (Dense)                (None, 68, 64)            960       \n",
            "_________________________________________________________________\n",
            "dense_1 (Dense)              (None, 68, 32)            2080      \n",
            "_________________________________________________________________\n",
            "dense_2 (Dense)              (None, 68, 16)            528       \n",
            "_________________________________________________________________\n",
            "dense_3 (Dense)              (None, 68, 5)             85        \n",
            "=================================================================\n",
            "Total params: 3,653\n",
            "Trainable params: 3,653\n",
            "Non-trainable params: 0\n",
            "_________________________________________________________________\n"
          ]
        }
      ]
    },
    {
      "cell_type": "code",
      "metadata": {
        "colab": {
          "base_uri": "https://localhost:8080/",
          "height": 533
        },
        "id": "0InumRdWUTpY",
        "outputId": "cb3da23c-639c-4543-fd3f-f0a64d295d9f"
      },
      "source": [
        "tf.keras.utils.plot_model(model_dense, \"Dense_model.png\", show_shapes=True)"
      ],
      "execution_count": 53,
      "outputs": [
        {
          "output_type": "execute_result",
          "data": {
            "image/png": "[encoded data removed]",
            "text/plain": [
              "<IPython.core.display.Image object>"
            ]
          },
          "metadata": {},
          "execution_count": 53
        }
      ]
    },
    {
      "cell_type": "code",
      "metadata": {
        "id": "qgtt-N-v3XrS",
        "colab": {
          "base_uri": "https://localhost:8080/"
        },
        "outputId": "2ee751f8-76bc-4adf-b5c6-a1555d19d43b"
      },
      "source": [
        "history_dense = model_dense.fit(x_train, y_train, epochs= 100, batch_size= 200, validation_split= 0.2)"
      ],
      "execution_count": 54,
      "outputs": [
        {
          "output_type": "stream",
          "name": "stdout",
          "text": [
            "Epoch 1/100\n",
            "7/7 [==============================] - 2s 77ms/step - loss: 0.6455 - accuracy: 0.2193 - val_loss: 0.6395 - val_accuracy: 0.2266\n",
            "Epoch 2/100\n",
            "7/7 [==============================] - 0s 31ms/step - loss: 0.6352 - accuracy: 0.2193 - val_loss: 0.6293 - val_accuracy: 0.2266\n",
            "Epoch 3/100\n",
            "7/7 [==============================] - 0s 36ms/step - loss: 0.6250 - accuracy: 0.2193 - val_loss: 0.6195 - val_accuracy: 0.2266\n",
            "Epoch 4/100\n",
            "7/7 [==============================] - 0s 34ms/step - loss: 0.6152 - accuracy: 0.2193 - val_loss: 0.6099 - val_accuracy: 0.2266\n",
            "Epoch 5/100\n",
            "7/7 [==============================] - 0s 36ms/step - loss: 0.6056 - accuracy: 0.2193 - val_loss: 0.6006 - val_accuracy: 0.2266\n",
            "Epoch 6/100\n",
            "7/7 [==============================] - 0s 36ms/step - loss: 0.5964 - accuracy: 0.2193 - val_loss: 0.5917 - val_accuracy: 0.2266\n",
            "Epoch 7/100\n",
            "7/7 [==============================] - 0s 33ms/step - loss: 0.5876 - accuracy: 0.2193 - val_loss: 0.5831 - val_accuracy: 0.2266\n",
            "Epoch 8/100\n",
            "7/7 [==============================] - 0s 30ms/step - loss: 0.5790 - accuracy: 0.2193 - val_loss: 0.5749 - val_accuracy: 0.2266\n",
            "Epoch 9/100\n",
            "7/7 [==============================] - 0s 31ms/step - loss: 0.5709 - accuracy: 0.2193 - val_loss: 0.5671 - val_accuracy: 0.2266\n",
            "Epoch 10/100\n",
            "7/7 [==============================] - 0s 32ms/step - loss: 0.5631 - accuracy: 0.2193 - val_loss: 0.5596 - val_accuracy: 0.2266\n",
            "Epoch 11/100\n",
            "7/7 [==============================] - 0s 29ms/step - loss: 0.5558 - accuracy: 0.2193 - val_loss: 0.5526 - val_accuracy: 0.2266\n",
            "Epoch 12/100\n",
            "7/7 [==============================] - 0s 34ms/step - loss: 0.5488 - accuracy: 0.2193 - val_loss: 0.5460 - val_accuracy: 0.2266\n",
            "Epoch 13/100\n",
            "7/7 [==============================] - 0s 30ms/step - loss: 0.5422 - accuracy: 0.2193 - val_loss: 0.5397 - val_accuracy: 0.2266\n",
            "Epoch 14/100\n",
            "7/7 [==============================] - 0s 30ms/step - loss: 0.5360 - accuracy: 0.2193 - val_loss: 0.5339 - val_accuracy: 0.2266\n",
            "Epoch 15/100\n",
            "7/7 [==============================] - 0s 34ms/step - loss: 0.5302 - accuracy: 0.2193 - val_loss: 0.5284 - val_accuracy: 0.2266\n",
            "Epoch 16/100\n",
            "7/7 [==============================] - 0s 31ms/step - loss: 0.5249 - accuracy: 0.2193 - val_loss: 0.5233 - val_accuracy: 0.2266\n",
            "Epoch 17/100\n",
            "7/7 [==============================] - 0s 30ms/step - loss: 0.5198 - accuracy: 0.2193 - val_loss: 0.5186 - val_accuracy: 0.2266\n",
            "Epoch 18/100\n",
            "7/7 [==============================] - 0s 31ms/step - loss: 0.5152 - accuracy: 0.2193 - val_loss: 0.5143 - val_accuracy: 0.2266\n",
            "Epoch 19/100\n",
            "7/7 [==============================] - 0s 32ms/step - loss: 0.5110 - accuracy: 0.2193 - val_loss: 0.5104 - val_accuracy: 0.2266\n",
            "Epoch 20/100\n",
            "7/7 [==============================] - 0s 32ms/step - loss: 0.5071 - accuracy: 0.2193 - val_loss: 0.5068 - val_accuracy: 0.2266\n",
            "Epoch 21/100\n",
            "7/7 [==============================] - 0s 33ms/step - loss: 0.5035 - accuracy: 0.2193 - val_loss: 0.5035 - val_accuracy: 0.2266\n",
            "Epoch 22/100\n",
            "7/7 [==============================] - 0s 30ms/step - loss: 0.5003 - accuracy: 0.2193 - val_loss: 0.5005 - val_accuracy: 0.2266\n",
            "Epoch 23/100\n",
            "7/7 [==============================] - 0s 31ms/step - loss: 0.4974 - accuracy: 0.2193 - val_loss: 0.4978 - val_accuracy: 0.2266\n",
            "Epoch 24/100\n",
            "7/7 [==============================] - 0s 30ms/step - loss: 0.4947 - accuracy: 0.2193 - val_loss: 0.4954 - val_accuracy: 0.2266\n",
            "Epoch 25/100\n",
            "7/7 [==============================] - 0s 31ms/step - loss: 0.4924 - accuracy: 0.2193 - val_loss: 0.4933 - val_accuracy: 0.2266\n",
            "Epoch 26/100\n",
            "7/7 [==============================] - 0s 37ms/step - loss: 0.4902 - accuracy: 0.2193 - val_loss: 0.4913 - val_accuracy: 0.2266\n",
            "Epoch 27/100\n",
            "7/7 [==============================] - 0s 31ms/step - loss: 0.4884 - accuracy: 0.2193 - val_loss: 0.4896 - val_accuracy: 0.2266\n",
            "Epoch 28/100\n",
            "7/7 [==============================] - 0s 31ms/step - loss: 0.4867 - accuracy: 0.2193 - val_loss: 0.4881 - val_accuracy: 0.2266\n",
            "Epoch 29/100\n",
            "7/7 [==============================] - 0s 33ms/step - loss: 0.4852 - accuracy: 0.2193 - val_loss: 0.4868 - val_accuracy: 0.2266\n",
            "Epoch 30/100\n",
            "7/7 [==============================] - 0s 32ms/step - loss: 0.4839 - accuracy: 0.2193 - val_loss: 0.4856 - val_accuracy: 0.2266\n",
            "Epoch 31/100\n",
            "7/7 [==============================] - 0s 30ms/step - loss: 0.4828 - accuracy: 0.2193 - val_loss: 0.4846 - val_accuracy: 0.2266\n",
            "Epoch 32/100\n",
            "7/7 [==============================] - 0s 32ms/step - loss: 0.4818 - accuracy: 0.2193 - val_loss: 0.4837 - val_accuracy: 0.2266\n",
            "Epoch 33/100\n",
            "7/7 [==============================] - 0s 32ms/step - loss: 0.4809 - accuracy: 0.2193 - val_loss: 0.4830 - val_accuracy: 0.2266\n",
            "Epoch 34/100\n",
            "7/7 [==============================] - 0s 31ms/step - loss: 0.4801 - accuracy: 0.2193 - val_loss: 0.4823 - val_accuracy: 0.2266\n",
            "Epoch 35/100\n",
            "7/7 [==============================] - 0s 31ms/step - loss: 0.4795 - accuracy: 0.2064 - val_loss: 0.4817 - val_accuracy: 0.2021\n",
            "Epoch 36/100\n",
            "7/7 [==============================] - 0s 32ms/step - loss: 0.4789 - accuracy: 0.1986 - val_loss: 0.4812 - val_accuracy: 0.2021\n",
            "Epoch 37/100\n",
            "7/7 [==============================] - 0s 31ms/step - loss: 0.4784 - accuracy: 0.1986 - val_loss: 0.4808 - val_accuracy: 0.2021\n",
            "Epoch 38/100\n",
            "7/7 [==============================] - 0s 30ms/step - loss: 0.4780 - accuracy: 0.1986 - val_loss: 0.4805 - val_accuracy: 0.2021\n",
            "Epoch 39/100\n",
            "7/7 [==============================] - 0s 30ms/step - loss: 0.4776 - accuracy: 0.1986 - val_loss: 0.4801 - val_accuracy: 0.2021\n",
            "Epoch 40/100\n",
            "7/7 [==============================] - 0s 30ms/step - loss: 0.4773 - accuracy: 0.1986 - val_loss: 0.4799 - val_accuracy: 0.2021\n",
            "Epoch 41/100\n",
            "7/7 [==============================] - 0s 32ms/step - loss: 0.4771 - accuracy: 0.1986 - val_loss: 0.4797 - val_accuracy: 0.2021\n",
            "Epoch 42/100\n",
            "7/7 [==============================] - 0s 32ms/step - loss: 0.4768 - accuracy: 0.1986 - val_loss: 0.4795 - val_accuracy: 0.2021\n",
            "Epoch 43/100\n",
            "7/7 [==============================] - 0s 30ms/step - loss: 0.4766 - accuracy: 0.1986 - val_loss: 0.4793 - val_accuracy: 0.2021\n",
            "Epoch 44/100\n",
            "7/7 [==============================] - 0s 30ms/step - loss: 0.4765 - accuracy: 0.1986 - val_loss: 0.4792 - val_accuracy: 0.2021\n",
            "Epoch 45/100\n",
            "7/7 [==============================] - 0s 32ms/step - loss: 0.4763 - accuracy: 0.1986 - val_loss: 0.4791 - val_accuracy: 0.2021\n",
            "Epoch 46/100\n",
            "7/7 [==============================] - 0s 30ms/step - loss: 0.4762 - accuracy: 0.1986 - val_loss: 0.4790 - val_accuracy: 0.2021\n",
            "Epoch 47/100\n",
            "7/7 [==============================] - 0s 30ms/step - loss: 0.4761 - accuracy: 0.1986 - val_loss: 0.4789 - val_accuracy: 0.2021\n",
            "Epoch 48/100\n",
            "7/7 [==============================] - 0s 39ms/step - loss: 0.4760 - accuracy: 0.1986 - val_loss: 0.4788 - val_accuracy: 0.2021\n",
            "Epoch 49/100\n",
            "7/7 [==============================] - 0s 32ms/step - loss: 0.4760 - accuracy: 0.1986 - val_loss: 0.4788 - val_accuracy: 0.2021\n",
            "Epoch 50/100\n",
            "7/7 [==============================] - 0s 30ms/step - loss: 0.4759 - accuracy: 0.1986 - val_loss: 0.4787 - val_accuracy: 0.2021\n",
            "Epoch 51/100\n",
            "7/7 [==============================] - 0s 31ms/step - loss: 0.4758 - accuracy: 0.1986 - val_loss: 0.4787 - val_accuracy: 0.2021\n",
            "Epoch 52/100\n",
            "7/7 [==============================] - 0s 32ms/step - loss: 0.4758 - accuracy: 0.1986 - val_loss: 0.4786 - val_accuracy: 0.2021\n",
            "Epoch 53/100\n",
            "7/7 [==============================] - 0s 32ms/step - loss: 0.4757 - accuracy: 0.1986 - val_loss: 0.4786 - val_accuracy: 0.2021\n",
            "Epoch 54/100\n",
            "7/7 [==============================] - 0s 30ms/step - loss: 0.4757 - accuracy: 0.1986 - val_loss: 0.4786 - val_accuracy: 0.2021\n",
            "Epoch 55/100\n",
            "7/7 [==============================] - 0s 30ms/step - loss: 0.4757 - accuracy: 0.1986 - val_loss: 0.4785 - val_accuracy: 0.2021\n",
            "Epoch 56/100\n",
            "7/7 [==============================] - 0s 32ms/step - loss: 0.4756 - accuracy: 0.1986 - val_loss: 0.4785 - val_accuracy: 0.2021\n",
            "Epoch 57/100\n",
            "7/7 [==============================] - 0s 30ms/step - loss: 0.4756 - accuracy: 0.1986 - val_loss: 0.4784 - val_accuracy: 0.2021\n",
            "Epoch 58/100\n",
            "7/7 [==============================] - 0s 32ms/step - loss: 0.4755 - accuracy: 0.2125 - val_loss: 0.4784 - val_accuracy: 0.2889\n",
            "Epoch 59/100\n",
            "7/7 [==============================] - 0s 34ms/step - loss: 0.4755 - accuracy: 0.3058 - val_loss: 0.4784 - val_accuracy: 0.3042\n",
            "Epoch 60/100\n",
            "7/7 [==============================] - 0s 31ms/step - loss: 0.4755 - accuracy: 0.3084 - val_loss: 0.4783 - val_accuracy: 0.3030\n",
            "Epoch 61/100\n",
            "7/7 [==============================] - 0s 31ms/step - loss: 0.4754 - accuracy: 0.3118 - val_loss: 0.4783 - val_accuracy: 0.3105\n",
            "Epoch 62/100\n",
            "7/7 [==============================] - 0s 32ms/step - loss: 0.4754 - accuracy: 0.3201 - val_loss: 0.4782 - val_accuracy: 0.3173\n",
            "Epoch 63/100\n",
            "7/7 [==============================] - 0s 29ms/step - loss: 0.4753 - accuracy: 0.3290 - val_loss: 0.4782 - val_accuracy: 0.3222\n",
            "Epoch 64/100\n",
            "7/7 [==============================] - 0s 34ms/step - loss: 0.4753 - accuracy: 0.3144 - val_loss: 0.4781 - val_accuracy: 0.2975\n",
            "Epoch 65/100\n",
            "7/7 [==============================] - 0s 32ms/step - loss: 0.4752 - accuracy: 0.3070 - val_loss: 0.4781 - val_accuracy: 0.3222\n",
            "Epoch 66/100\n",
            "7/7 [==============================] - 0s 32ms/step - loss: 0.4751 - accuracy: 0.3305 - val_loss: 0.4780 - val_accuracy: 0.3173\n",
            "Epoch 67/100\n",
            "7/7 [==============================] - 0s 33ms/step - loss: 0.4750 - accuracy: 0.3249 - val_loss: 0.4779 - val_accuracy: 0.3139\n",
            "Epoch 68/100\n",
            "7/7 [==============================] - 0s 30ms/step - loss: 0.4750 - accuracy: 0.3192 - val_loss: 0.4778 - val_accuracy: 0.3124\n",
            "Epoch 69/100\n",
            "7/7 [==============================] - 0s 31ms/step - loss: 0.4749 - accuracy: 0.3199 - val_loss: 0.4777 - val_accuracy: 0.3128\n",
            "Epoch 70/100\n",
            "7/7 [==============================] - 0s 31ms/step - loss: 0.4748 - accuracy: 0.3144 - val_loss: 0.4776 - val_accuracy: 0.3061\n",
            "Epoch 71/100\n",
            "7/7 [==============================] - 0s 30ms/step - loss: 0.4746 - accuracy: 0.3128 - val_loss: 0.4775 - val_accuracy: 0.3061\n",
            "Epoch 72/100\n",
            "7/7 [==============================] - 0s 31ms/step - loss: 0.4745 - accuracy: 0.3122 - val_loss: 0.4773 - val_accuracy: 0.3036\n",
            "Epoch 73/100\n",
            "7/7 [==============================] - 0s 31ms/step - loss: 0.4744 - accuracy: 0.3119 - val_loss: 0.4772 - val_accuracy: 0.3029\n",
            "Epoch 74/100\n",
            "7/7 [==============================] - 0s 31ms/step - loss: 0.4742 - accuracy: 0.3116 - val_loss: 0.4770 - val_accuracy: 0.3029\n",
            "Epoch 75/100\n",
            "7/7 [==============================] - 0s 32ms/step - loss: 0.4741 - accuracy: 0.3089 - val_loss: 0.4769 - val_accuracy: 0.3030\n",
            "Epoch 76/100\n",
            "7/7 [==============================] - 0s 32ms/step - loss: 0.4739 - accuracy: 0.3085 - val_loss: 0.4767 - val_accuracy: 0.3030\n",
            "Epoch 77/100\n",
            "7/7 [==============================] - 0s 30ms/step - loss: 0.4737 - accuracy: 0.3085 - val_loss: 0.4765 - val_accuracy: 0.3030\n",
            "Epoch 78/100\n",
            "7/7 [==============================] - 0s 31ms/step - loss: 0.4735 - accuracy: 0.3086 - val_loss: 0.4763 - val_accuracy: 0.3035\n",
            "Epoch 79/100\n",
            "7/7 [==============================] - 0s 32ms/step - loss: 0.4733 - accuracy: 0.3084 - val_loss: 0.4760 - val_accuracy: 0.3042\n",
            "Epoch 80/100\n",
            "7/7 [==============================] - 0s 33ms/step - loss: 0.4730 - accuracy: 0.3088 - val_loss: 0.4758 - val_accuracy: 0.3042\n",
            "Epoch 81/100\n",
            "7/7 [==============================] - 0s 32ms/step - loss: 0.4728 - accuracy: 0.3088 - val_loss: 0.4755 - val_accuracy: 0.3042\n",
            "Epoch 82/100\n",
            "7/7 [==============================] - 0s 31ms/step - loss: 0.4725 - accuracy: 0.3088 - val_loss: 0.4752 - val_accuracy: 0.3042\n",
            "Epoch 83/100\n",
            "7/7 [==============================] - 0s 32ms/step - loss: 0.4722 - accuracy: 0.3088 - val_loss: 0.4749 - val_accuracy: 0.3042\n",
            "Epoch 84/100\n",
            "7/7 [==============================] - 0s 33ms/step - loss: 0.4719 - accuracy: 0.3088 - val_loss: 0.4745 - val_accuracy: 0.3042\n",
            "Epoch 85/100\n",
            "7/7 [==============================] - 0s 31ms/step - loss: 0.4716 - accuracy: 0.3088 - val_loss: 0.4742 - val_accuracy: 0.3042\n",
            "Epoch 86/100\n",
            "7/7 [==============================] - 0s 31ms/step - loss: 0.4712 - accuracy: 0.3088 - val_loss: 0.4738 - val_accuracy: 0.3042\n",
            "Epoch 87/100\n",
            "7/7 [==============================] - 0s 33ms/step - loss: 0.4708 - accuracy: 0.3088 - val_loss: 0.4734 - val_accuracy: 0.3042\n",
            "Epoch 88/100\n",
            "7/7 [==============================] - 0s 32ms/step - loss: 0.4704 - accuracy: 0.3088 - val_loss: 0.4730 - val_accuracy: 0.3042\n",
            "Epoch 89/100\n",
            "7/7 [==============================] - 0s 31ms/step - loss: 0.4700 - accuracy: 0.3088 - val_loss: 0.4725 - val_accuracy: 0.3042\n",
            "Epoch 90/100\n",
            "7/7 [==============================] - 0s 33ms/step - loss: 0.4695 - accuracy: 0.3088 - val_loss: 0.4720 - val_accuracy: 0.3042\n",
            "Epoch 91/100\n",
            "7/7 [==============================] - 0s 32ms/step - loss: 0.4690 - accuracy: 0.3088 - val_loss: 0.4715 - val_accuracy: 0.3042\n",
            "Epoch 92/100\n",
            "7/7 [==============================] - 0s 32ms/step - loss: 0.4685 - accuracy: 0.3088 - val_loss: 0.4709 - val_accuracy: 0.3042\n",
            "Epoch 93/100\n",
            "7/7 [==============================] - 0s 33ms/step - loss: 0.4679 - accuracy: 0.3088 - val_loss: 0.4704 - val_accuracy: 0.3042\n",
            "Epoch 94/100\n",
            "7/7 [==============================] - 0s 32ms/step - loss: 0.4674 - accuracy: 0.3088 - val_loss: 0.4698 - val_accuracy: 0.3042\n",
            "Epoch 95/100\n",
            "7/7 [==============================] - 0s 32ms/step - loss: 0.4667 - accuracy: 0.3088 - val_loss: 0.4691 - val_accuracy: 0.3042\n",
            "Epoch 96/100\n",
            "7/7 [==============================] - 0s 33ms/step - loss: 0.4661 - accuracy: 0.3088 - val_loss: 0.4684 - val_accuracy: 0.3042\n",
            "Epoch 97/100\n",
            "7/7 [==============================] - 0s 31ms/step - loss: 0.4654 - accuracy: 0.3088 - val_loss: 0.4677 - val_accuracy: 0.3042\n",
            "Epoch 98/100\n",
            "7/7 [==============================] - 0s 33ms/step - loss: 0.4647 - accuracy: 0.3088 - val_loss: 0.4670 - val_accuracy: 0.3042\n",
            "Epoch 99/100\n",
            "7/7 [==============================] - 0s 32ms/step - loss: 0.4640 - accuracy: 0.3088 - val_loss: 0.4662 - val_accuracy: 0.3042\n",
            "Epoch 100/100\n",
            "7/7 [==============================] - 0s 32ms/step - loss: 0.4632 - accuracy: 0.3088 - val_loss: 0.4654 - val_accuracy: 0.3042\n"
          ]
        }
      ]
    },
    {
      "cell_type": "code",
      "metadata": {
        "colab": {
          "base_uri": "https://localhost:8080/"
        },
        "id": "vDspwBhAFs8j",
        "outputId": "70ce029f-cd5c-42d1-b114-35a78ab281be"
      },
      "source": [
        "print(history_dense.history.keys())"
      ],
      "execution_count": 55,
      "outputs": [
        {
          "output_type": "stream",
          "name": "stdout",
          "text": [
            "dict_keys(['loss', 'accuracy', 'val_loss', 'val_accuracy'])\n"
          ]
        }
      ]
    },
    {
      "cell_type": "code",
      "metadata": {
        "colab": {
          "base_uri": "https://localhost:8080/",
          "height": 295
        },
        "id": "dwNHKR5EF1kA",
        "outputId": "dfe7adcc-b6c3-42a5-8ee2-3e9331a48ab5"
      },
      "source": [
        "plot_loss(history_dense, \"Dense model\")"
      ],
      "execution_count": 56,
      "outputs": [
        {
          "output_type": "display_data",
          "data": {
            "image/png": "[encoded data removed]",
            "text/plain": [
              "<Figure size 432x288 with 1 Axes>"
            ]
          },
          "metadata": {
            "needs_background": "light"
          }
        }
      ]
    },
    {
      "cell_type": "code",
      "metadata": {
        "colab": {
          "base_uri": "https://localhost:8080/",
          "height": 295
        },
        "id": "ADqe-VN-C_lf",
        "outputId": "bf3735b5-5847-4bd9-802c-154f587cacf4"
      },
      "source": [
        "plot_acc(history_dense, \"Dense model\")"
      ],
      "execution_count": 57,
      "outputs": [
        {
          "output_type": "display_data",
          "data": {
            "image/png": "[encoded data removed]",
            "text/plain": [
              "<Figure size 432x288 with 1 Axes>"
            ]
          },
          "metadata": {
            "needs_background": "light"
          }
        }
      ]
    },
    {
      "cell_type": "markdown",
      "metadata": {
        "id": "q3_Lz-cjlhIw"
      },
      "source": [
        "## Modèle de deep learning adaptés aux données séquentielles\n"
      ]
    },
    {
      "cell_type": "markdown",
      "metadata": {
        "id": "2J4wZNdHl2oG"
      },
      "source": [
        "### Définition d'une fonction de construction de modèles\n",
        "\n",
        "La nature séquentielle des données que nous utilisons tend à choisir un modèle plus adapté à ce type. Dans les modèles adpaté, on trouve notamment les Recurent Neural Network (RNN), ainsi que plsuieurs varaint de ces modèles, comme les GRU, les LSTM ainsi que les BERT. Le module Keras fourni plusieurs fonction pour ces modèles, on testera donc certains de ces modèles pour en déterminer le plus efficace pour nos données.\n",
        "\n",
        "Dans cet objectif de construire plusieurs modèles de type RNN, on implémente des fonctions de construction pour simplifier la lecture du code par la suite :"
      ]
    },
    {
      "cell_type": "code",
      "metadata": {
        "id": "J9TdFPUAUyBZ"
      },
      "source": [
        "# définition des layers de type RNN simple\n",
        "def simple_rnn_layer(hidden_dim, dropout):\n",
        "    return tf.keras.layers.Bidirectional(\n",
        "                                tf.keras.layers.SimpleRNN(hidden_dim,\n",
        "                                dropout=dropout,\n",
        "                                return_sequences=True,\n",
        "                                kernel_initializer='orthogonal'))\n",
        "\n",
        "# définition des layers de type GRU\n",
        "def gru_layer(hidden_dim, dropout):\n",
        "    return tf.keras.layers.Bidirectional(\n",
        "                                tf.keras.layers.GRU(hidden_dim,\n",
        "                                dropout=dropout,\n",
        "                                return_sequences=True,\n",
        "                                kernel_initializer='orthogonal'))\n",
        "\n",
        "# définition des layers de type LSTM\n",
        "def lstm_layer(hidden_dim, dropout):\n",
        "    return tf.keras.layers.Bidirectional(\n",
        "                                tf.keras.layers.LSTM(hidden_dim,\n",
        "                                dropout=dropout,\n",
        "                                return_sequences=True,\n",
        "                                kernel_initializer='orthogonal'))\n",
        "\n",
        "# définition de la fonction pour construire les modèles \n",
        "def build_model(rnn = 'gru', convolve=False, conv_dim=256, \n",
        "                dropout=.2, hidden_dim=128, layers=3, pred_len=68):\n",
        "\n",
        "    inputs = tf.keras.layers.Input(shape=(pred_len, 14)) # couche d'entrée, correspondant au 68 bases sélectionner et leur One-Hot encoding pour la base, la structure dans la séquence et la structure de la boucle\n",
        "    hidden = inputs # passage de l'entrée pour les couches cachées (GRU ou LSTM)\n",
        "    if convolve:\n",
        "        hidden = tf.keras.layers.Conv1D(conv_dim, 5, padding='same', activation=tf.keras.activations.swish)(hidden)\n",
        "    if rnn is 'simple_rnn':\n",
        "      # construit un modèle avec un nombre de couche de type SimpleRNN défini dans l'appel\n",
        "      for _ in range(layers):\n",
        "        hidden = simple_rnn_layer(hidden_dim, dropout)(hidden)\n",
        "\n",
        "    if rnn is 'gru':\n",
        "        # construit un modèle avec un nombre de couche de type GRU défini dans l'appel \n",
        "        for _ in range(layers):\n",
        "            hidden = gru_layer(hidden_dim, dropout)(hidden)   \n",
        "    elif rnn is 'lstm':\n",
        "        # construit un modèle avec un nombre de couche de type LSTM défini dans l'appel\n",
        "        for _ in range(layers):\n",
        "            hidden = lstm_layer(hidden_dim, dropout)(hidden)\n",
        "    out = hidden\n",
        "    # redimension du nombre de sorties pour la prédiction des 5 paramètres (reactivity, deg_Mg_pH10, deg_Mg_50C, deg_pH10, deg_50C)\n",
        "    out = tf.keras.layers.Dense(5, activation='linear')(out)\n",
        "    \n",
        "    model = tf.keras.Model(inputs=inputs, outputs=out)\n",
        "    adam = tf.optimizers.Adam() # définition de l'optimiseur\n",
        "    model.compile(optimizer=adam, loss=MCRMSE, metrics = ['accuracy']) #compilation du modèle avec pour calcul de l'erreur la MCRMSE\n",
        "\n",
        "    return model"
      ],
      "execution_count": 58,
      "outputs": []
    },
    {
      "cell_type": "markdown",
      "metadata": {
        "id": "J_bWgbp8mI_d"
      },
      "source": [
        "## Modèle RNN simple\n",
        "\n",
        "Dans un premier temps, on commence par tester un modèle simple de RNN fourni par Keras."
      ]
    },
    {
      "cell_type": "code",
      "metadata": {
        "colab": {
          "base_uri": "https://localhost:8080/"
        },
        "id": "OstrOPz8mSYi",
        "outputId": "23cc91db-0184-41fa-83c5-135808aba345"
      },
      "source": [
        "model_simple_rnn = build_model(rnn = 'simple_rnn', convolve=True)\n",
        "model_simple_rnn.summary()"
      ],
      "execution_count": 59,
      "outputs": [
        {
          "output_type": "stream",
          "name": "stdout",
          "text": [
            "Model: \"model\"\n",
            "_________________________________________________________________\n",
            "Layer (type)                 Output Shape              Param #   \n",
            "=================================================================\n",
            "input_1 (InputLayer)         [(None, 68, 14)]          0         \n",
            "_________________________________________________________________\n",
            "conv1d (Conv1D)              (None, 68, 256)           18176     \n",
            "_________________________________________________________________\n",
            "bidirectional (Bidirectional (None, 68, 256)           98560     \n",
            "_________________________________________________________________\n",
            "bidirectional_1 (Bidirection (None, 68, 256)           98560     \n",
            "_________________________________________________________________\n",
            "bidirectional_2 (Bidirection (None, 68, 256)           98560     \n",
            "_________________________________________________________________\n",
            "dense_4 (Dense)              (None, 68, 5)             1285      \n",
            "=================================================================\n",
            "Total params: 315,141\n",
            "Trainable params: 315,141\n",
            "Non-trainable params: 0\n",
            "_________________________________________________________________\n"
          ]
        }
      ]
    },
    {
      "cell_type": "code",
      "metadata": {
        "colab": {
          "base_uri": "https://localhost:8080/",
          "height": 644
        },
        "id": "SIwuwp3jmVuS",
        "outputId": "9a1dc336-26c5-4904-f560-7a2b019d4224"
      },
      "source": [
        "tf.keras.utils.plot_model(model_simple_rnn, \"SimpleRNN_model.png\", show_shapes=True)"
      ],
      "execution_count": 60,
      "outputs": [
        {
          "output_type": "execute_result",
          "data": {
            "image/png": "[encoded data removed]",
            "text/plain": [
              "<IPython.core.display.Image object>"
            ]
          },
          "metadata": {},
          "execution_count": 60
        }
      ]
    },
    {
      "cell_type": "code",
      "metadata": {
        "colab": {
          "base_uri": "https://localhost:8080/"
        },
        "id": "oNohJ0VGmZjp",
        "outputId": "5942dfc3-fcd1-4635-afe4-01b66e20a975"
      },
      "source": [
        "history_simple_rnn = model_simple_rnn.fit(x_train, y_train, epochs = 50, batch_size = 128, validation_split= 0.2)"
      ],
      "execution_count": 61,
      "outputs": [
        {
          "output_type": "stream",
          "name": "stdout",
          "text": [
            "Epoch 1/50\n",
            "10/10 [==============================] - 15s 967ms/step - loss: 0.8713 - accuracy: 0.1962 - val_loss: 0.4507 - val_accuracy: 0.2256\n",
            "Epoch 2/50\n",
            "10/10 [==============================] - 9s 880ms/step - loss: 0.5203 - accuracy: 0.2198 - val_loss: 0.4273 - val_accuracy: 0.1392\n",
            "Epoch 3/50\n",
            "10/10 [==============================] - 9s 885ms/step - loss: 0.4356 - accuracy: 0.2371 - val_loss: 0.3718 - val_accuracy: 0.1395\n",
            "Epoch 4/50\n",
            "10/10 [==============================] - 9s 869ms/step - loss: 0.3912 - accuracy: 0.2600 - val_loss: 0.3446 - val_accuracy: 0.2377\n",
            "Epoch 5/50\n",
            "10/10 [==============================] - 9s 870ms/step - loss: 0.3640 - accuracy: 0.2802 - val_loss: 0.3292 - val_accuracy: 0.3636\n",
            "Epoch 6/50\n",
            "10/10 [==============================] - 9s 872ms/step - loss: 0.3466 - accuracy: 0.2922 - val_loss: 0.3230 - val_accuracy: 0.3532\n",
            "Epoch 7/50\n",
            "10/10 [==============================] - 9s 870ms/step - loss: 0.3358 - accuracy: 0.3078 - val_loss: 0.3180 - val_accuracy: 0.3800\n",
            "Epoch 8/50\n",
            "10/10 [==============================] - 9s 872ms/step - loss: 0.3288 - accuracy: 0.3188 - val_loss: 0.3170 - val_accuracy: 0.3768\n",
            "Epoch 9/50\n",
            "10/10 [==============================] - 9s 870ms/step - loss: 0.3226 - accuracy: 0.3276 - val_loss: 0.3106 - val_accuracy: 0.4016\n",
            "Epoch 10/50\n",
            "10/10 [==============================] - 9s 875ms/step - loss: 0.3191 - accuracy: 0.3438 - val_loss: 0.3123 - val_accuracy: 0.3950\n",
            "Epoch 11/50\n",
            "10/10 [==============================] - 9s 867ms/step - loss: 0.3160 - accuracy: 0.3503 - val_loss: 0.3063 - val_accuracy: 0.4113\n",
            "Epoch 12/50\n",
            "10/10 [==============================] - 9s 865ms/step - loss: 0.3130 - accuracy: 0.3584 - val_loss: 0.3068 - val_accuracy: 0.4153\n",
            "Epoch 13/50\n",
            "10/10 [==============================] - 9s 866ms/step - loss: 0.3092 - accuracy: 0.3675 - val_loss: 0.3022 - val_accuracy: 0.4102\n",
            "Epoch 14/50\n",
            "10/10 [==============================] - 9s 869ms/step - loss: 0.3088 - accuracy: 0.3718 - val_loss: 0.3047 - val_accuracy: 0.4157\n",
            "Epoch 15/50\n",
            "10/10 [==============================] - 9s 874ms/step - loss: 0.3056 - accuracy: 0.3763 - val_loss: 0.2992 - val_accuracy: 0.4229\n",
            "Epoch 16/50\n",
            "10/10 [==============================] - 9s 870ms/step - loss: 0.3030 - accuracy: 0.3824 - val_loss: 0.2975 - val_accuracy: 0.4267\n",
            "Epoch 17/50\n",
            "10/10 [==============================] - 9s 867ms/step - loss: 0.3037 - accuracy: 0.3841 - val_loss: 0.3079 - val_accuracy: 0.4279\n",
            "Epoch 18/50\n",
            "10/10 [==============================] - 9s 879ms/step - loss: 0.3024 - accuracy: 0.3813 - val_loss: 0.2954 - val_accuracy: 0.4273\n",
            "Epoch 19/50\n",
            "10/10 [==============================] - 9s 875ms/step - loss: 0.2998 - accuracy: 0.3854 - val_loss: 0.3037 - val_accuracy: 0.4256\n",
            "Epoch 20/50\n",
            "10/10 [==============================] - 9s 872ms/step - loss: 0.2984 - accuracy: 0.3894 - val_loss: 0.2920 - val_accuracy: 0.4344\n",
            "Epoch 21/50\n",
            "10/10 [==============================] - 9s 876ms/step - loss: 0.2956 - accuracy: 0.3907 - val_loss: 0.2908 - val_accuracy: 0.4325\n",
            "Epoch 22/50\n",
            "10/10 [==============================] - 9s 864ms/step - loss: 0.2923 - accuracy: 0.3967 - val_loss: 0.2911 - val_accuracy: 0.4336\n",
            "Epoch 23/50\n",
            "10/10 [==============================] - 9s 857ms/step - loss: 0.2922 - accuracy: 0.3945 - val_loss: 0.2874 - val_accuracy: 0.4180\n",
            "Epoch 24/50\n",
            "10/10 [==============================] - 9s 867ms/step - loss: 0.2923 - accuracy: 0.3986 - val_loss: 0.2898 - val_accuracy: 0.4313\n",
            "Epoch 25/50\n",
            "10/10 [==============================] - 9s 868ms/step - loss: 0.2891 - accuracy: 0.3991 - val_loss: 0.2845 - val_accuracy: 0.4323\n",
            "Epoch 26/50\n",
            "10/10 [==============================] - 9s 881ms/step - loss: 0.2871 - accuracy: 0.4006 - val_loss: 0.2831 - val_accuracy: 0.4387\n",
            "Epoch 27/50\n",
            "10/10 [==============================] - 9s 869ms/step - loss: 0.2854 - accuracy: 0.4049 - val_loss: 0.2841 - val_accuracy: 0.4346\n",
            "Epoch 28/50\n",
            "10/10 [==============================] - 9s 870ms/step - loss: 0.2845 - accuracy: 0.4035 - val_loss: 0.2808 - val_accuracy: 0.4385\n",
            "Epoch 29/50\n",
            "10/10 [==============================] - 9s 876ms/step - loss: 0.2829 - accuracy: 0.4038 - val_loss: 0.2865 - val_accuracy: 0.4378\n",
            "Epoch 30/50\n",
            "10/10 [==============================] - 9s 868ms/step - loss: 0.2829 - accuracy: 0.4094 - val_loss: 0.2819 - val_accuracy: 0.4385\n",
            "Epoch 31/50\n",
            "10/10 [==============================] - 9s 872ms/step - loss: 0.2818 - accuracy: 0.4059 - val_loss: 0.2790 - val_accuracy: 0.4384\n",
            "Epoch 32/50\n",
            "10/10 [==============================] - 9s 865ms/step - loss: 0.2793 - accuracy: 0.4121 - val_loss: 0.2776 - val_accuracy: 0.4421\n",
            "Epoch 33/50\n",
            "10/10 [==============================] - 9s 883ms/step - loss: 0.2783 - accuracy: 0.4130 - val_loss: 0.2835 - val_accuracy: 0.4427\n",
            "Epoch 34/50\n",
            "10/10 [==============================] - 9s 875ms/step - loss: 0.2773 - accuracy: 0.4099 - val_loss: 0.2758 - val_accuracy: 0.4438\n",
            "Epoch 35/50\n",
            "10/10 [==============================] - 9s 891ms/step - loss: 0.2774 - accuracy: 0.4180 - val_loss: 0.2746 - val_accuracy: 0.4445\n",
            "Epoch 36/50\n",
            "10/10 [==============================] - 9s 896ms/step - loss: 0.2770 - accuracy: 0.4078 - val_loss: 0.2735 - val_accuracy: 0.4388\n",
            "Epoch 37/50\n",
            "10/10 [==============================] - 9s 898ms/step - loss: 0.2758 - accuracy: 0.4105 - val_loss: 0.2762 - val_accuracy: 0.4267\n",
            "Epoch 38/50\n",
            "10/10 [==============================] - 9s 903ms/step - loss: 0.2736 - accuracy: 0.4160 - val_loss: 0.2723 - val_accuracy: 0.4400\n",
            "Epoch 39/50\n",
            "10/10 [==============================] - 9s 893ms/step - loss: 0.2730 - accuracy: 0.4148 - val_loss: 0.2712 - val_accuracy: 0.4395\n",
            "Epoch 40/50\n",
            "10/10 [==============================] - 9s 902ms/step - loss: 0.2706 - accuracy: 0.4164 - val_loss: 0.2706 - val_accuracy: 0.4411\n",
            "Epoch 41/50\n",
            "10/10 [==============================] - 9s 901ms/step - loss: 0.2700 - accuracy: 0.4222 - val_loss: 0.2672 - val_accuracy: 0.4452\n",
            "Epoch 42/50\n",
            "10/10 [==============================] - 9s 900ms/step - loss: 0.2685 - accuracy: 0.4236 - val_loss: 0.2689 - val_accuracy: 0.4512\n",
            "Epoch 43/50\n",
            "10/10 [==============================] - 9s 898ms/step - loss: 0.2669 - accuracy: 0.4264 - val_loss: 0.2687 - val_accuracy: 0.4441\n",
            "Epoch 44/50\n",
            "10/10 [==============================] - 9s 901ms/step - loss: 0.2660 - accuracy: 0.4220 - val_loss: 0.2663 - val_accuracy: 0.4406\n",
            "Epoch 45/50\n",
            "10/10 [==============================] - 9s 902ms/step - loss: 0.2657 - accuracy: 0.4257 - val_loss: 0.2666 - val_accuracy: 0.4493\n",
            "Epoch 46/50\n",
            "10/10 [==============================] - 9s 896ms/step - loss: 0.2637 - accuracy: 0.4290 - val_loss: 0.2635 - val_accuracy: 0.4521\n",
            "Epoch 47/50\n",
            "10/10 [==============================] - 9s 898ms/step - loss: 0.2627 - accuracy: 0.4286 - val_loss: 0.2641 - val_accuracy: 0.4473\n",
            "Epoch 48/50\n",
            "10/10 [==============================] - 9s 885ms/step - loss: 0.2617 - accuracy: 0.4233 - val_loss: 0.2622 - val_accuracy: 0.4495\n",
            "Epoch 49/50\n",
            "10/10 [==============================] - 9s 882ms/step - loss: 0.2612 - accuracy: 0.4347 - val_loss: 0.2658 - val_accuracy: 0.4529\n",
            "Epoch 50/50\n",
            "10/10 [==============================] - 9s 885ms/step - loss: 0.2600 - accuracy: 0.4323 - val_loss: 0.2640 - val_accuracy: 0.4555\n"
          ]
        }
      ]
    },
    {
      "cell_type": "code",
      "metadata": {
        "colab": {
          "base_uri": "https://localhost:8080/",
          "height": 295
        },
        "id": "fL3xfMo-mdov",
        "outputId": "e27d9185-1f92-4cf7-81cb-8c7bd34b93b7"
      },
      "source": [
        "plot_loss(history_simple_rnn, \"Simple RNN model\")"
      ],
      "execution_count": 62,
      "outputs": [
        {
          "output_type": "display_data",
          "data": {
            "image/png": "[encoded data removed]",
            "text/plain": [
              "<Figure size 432x288 with 1 Axes>"
            ]
          },
          "metadata": {
            "needs_background": "light"
          }
        }
      ]
    },
    {
      "cell_type": "code",
      "metadata": {
        "colab": {
          "base_uri": "https://localhost:8080/",
          "height": 295
        },
        "id": "gzaV_jGsEYRR",
        "outputId": "46448bd1-a45f-4bef-efb8-1404e35e4858"
      },
      "source": [
        "plot_acc(history_simple_rnn, \"Simple RNN model\")"
      ],
      "execution_count": 63,
      "outputs": [
        {
          "output_type": "display_data",
          "data": {
            "image/png": "[encoded data removed]",
            "text/plain": [
              "<Figure size 432x288 with 1 Axes>"
            ]
          },
          "metadata": {
            "needs_background": "light"
          }
        }
      ]
    },
    {
      "cell_type": "markdown",
      "metadata": {
        "id": "5yy_JxMO2qIb"
      },
      "source": [
        "Le RNN simple n'apprend pas de manière optimale car il n'est pas fiable pour les dépendances à long terme à cause de la disparition du gradient, dans cette optique les solutions possibles sont l'utilisation de RNN plus complexes comme LSTM et GRU.\n"
      ]
    },
    {
      "cell_type": "markdown",
      "metadata": {
        "id": "i_b5xO_Mz_uL"
      },
      "source": [
        "## Modèle GRU\n",
        "\n",
        "On construit dans un premiers temps un modèle GRU à trois couche et un couche Dense pour redimensioner les sorties sur les 5 paramètres à prédire :"
      ]
    },
    {
      "cell_type": "code",
      "metadata": {
        "colab": {
          "base_uri": "https://localhost:8080/"
        },
        "id": "FzPe6hBE4NFh",
        "outputId": "b5d5c90b-704b-4bbd-9b25-31c3faa90c5b"
      },
      "source": [
        "model_gru = build_model(rnn = 'gru', convolve=True) # construction d'un modèle GRU à 3 couches\n",
        "model_gru.summary()"
      ],
      "execution_count": 64,
      "outputs": [
        {
          "output_type": "stream",
          "name": "stdout",
          "text": [
            "Model: \"model_1\"\n",
            "_________________________________________________________________\n",
            "Layer (type)                 Output Shape              Param #   \n",
            "=================================================================\n",
            "input_2 (InputLayer)         [(None, 68, 14)]          0         \n",
            "_________________________________________________________________\n",
            "conv1d_1 (Conv1D)            (None, 68, 256)           18176     \n",
            "_________________________________________________________________\n",
            "bidirectional_3 (Bidirection (None, 68, 256)           296448    \n",
            "_________________________________________________________________\n",
            "bidirectional_4 (Bidirection (None, 68, 256)           296448    \n",
            "_________________________________________________________________\n",
            "bidirectional_5 (Bidirection (None, 68, 256)           296448    \n",
            "_________________________________________________________________\n",
            "dense_5 (Dense)              (None, 68, 5)             1285      \n",
            "=================================================================\n",
            "Total params: 908,805\n",
            "Trainable params: 908,805\n",
            "Non-trainable params: 0\n",
            "_________________________________________________________________\n"
          ]
        }
      ]
    },
    {
      "cell_type": "code",
      "metadata": {
        "colab": {
          "base_uri": "https://localhost:8080/",
          "height": 644
        },
        "id": "IniUr6BO9Yog",
        "outputId": "9a4d7b69-9d47-4899-c8dc-c24f2f031ddc"
      },
      "source": [
        "tf.keras.utils.plot_model(model_gru, \"GRU_model.png\", show_shapes=True)"
      ],
      "execution_count": 65,
      "outputs": [
        {
          "output_type": "execute_result",
          "data": {
            "image/png": "[encoded data removed]",
            "text/plain": [
              "<IPython.core.display.Image object>"
            ]
          },
          "metadata": {},
          "execution_count": 65
        }
      ]
    },
    {
      "cell_type": "markdown",
      "metadata": {
        "id": "uFVf2CuctiTi"
      },
      "source": [
        "Fit du modèle GRU précédemment construit sur les données d'entrainement du modèle. On désigne 50 époques avec des tailles de batchs de 64, la fin de chaque époque considère une validation de 20% des données d'entrainement, sur lesquels ont détermine notre erreur (ou loss) selon la MCRMSE, comme indiqué dans le sujet :"
      ]
    },
    {
      "cell_type": "code",
      "metadata": {
        "colab": {
          "base_uri": "https://localhost:8080/"
        },
        "id": "qcdHT-lz70QM",
        "outputId": "4dac23ef-87fd-4025-9523-9bb84d7c4671"
      },
      "source": [
        "history_gru = model_gru.fit(x_train, y_train, epochs=50, batch_size=128, validation_split=0.2)"
      ],
      "execution_count": 66,
      "outputs": [
        {
          "output_type": "stream",
          "name": "stdout",
          "text": [
            "Epoch 1/50\n",
            "10/10 [==============================] - 31s 2s/step - loss: 0.4949 - accuracy: 0.2380 - val_loss: 0.4338 - val_accuracy: 0.3370\n",
            "Epoch 2/50\n",
            "10/10 [==============================] - 18s 2s/step - loss: 0.4123 - accuracy: 0.3283 - val_loss: 0.3994 - val_accuracy: 0.2928\n",
            "Epoch 3/50\n",
            "10/10 [==============================] - 18s 2s/step - loss: 0.3869 - accuracy: 0.3268 - val_loss: 0.3758 - val_accuracy: 0.3372\n",
            "Epoch 4/50\n",
            "10/10 [==============================] - 18s 2s/step - loss: 0.3682 - accuracy: 0.3453 - val_loss: 0.3597 - val_accuracy: 0.3631\n",
            "Epoch 5/50\n",
            "10/10 [==============================] - 18s 2s/step - loss: 0.3548 - accuracy: 0.3668 - val_loss: 0.3481 - val_accuracy: 0.3879\n",
            "Epoch 6/50\n",
            "10/10 [==============================] - 18s 2s/step - loss: 0.3428 - accuracy: 0.3729 - val_loss: 0.3366 - val_accuracy: 0.3857\n",
            "Epoch 7/50\n",
            "10/10 [==============================] - 18s 2s/step - loss: 0.3332 - accuracy: 0.3801 - val_loss: 0.3288 - val_accuracy: 0.3977\n",
            "Epoch 8/50\n",
            "10/10 [==============================] - 18s 2s/step - loss: 0.3267 - accuracy: 0.3877 - val_loss: 0.3245 - val_accuracy: 0.3929\n",
            "Epoch 9/50\n",
            "10/10 [==============================] - 18s 2s/step - loss: 0.3213 - accuracy: 0.3920 - val_loss: 0.3214 - val_accuracy: 0.3987\n",
            "Epoch 10/50\n",
            "10/10 [==============================] - 18s 2s/step - loss: 0.3185 - accuracy: 0.3927 - val_loss: 0.3177 - val_accuracy: 0.4075\n",
            "Epoch 11/50\n",
            "10/10 [==============================] - 18s 2s/step - loss: 0.3165 - accuracy: 0.4007 - val_loss: 0.3153 - val_accuracy: 0.4144\n",
            "Epoch 12/50\n",
            "10/10 [==============================] - 18s 2s/step - loss: 0.3134 - accuracy: 0.4025 - val_loss: 0.3114 - val_accuracy: 0.4183\n",
            "Epoch 13/50\n",
            "10/10 [==============================] - 18s 2s/step - loss: 0.3091 - accuracy: 0.4051 - val_loss: 0.3109 - val_accuracy: 0.4126\n",
            "Epoch 14/50\n",
            "10/10 [==============================] - 18s 2s/step - loss: 0.3080 - accuracy: 0.4058 - val_loss: 0.3074 - val_accuracy: 0.4149\n",
            "Epoch 15/50\n",
            "10/10 [==============================] - 18s 2s/step - loss: 0.3046 - accuracy: 0.4102 - val_loss: 0.3050 - val_accuracy: 0.4259\n",
            "Epoch 16/50\n",
            "10/10 [==============================] - 18s 2s/step - loss: 0.3018 - accuracy: 0.4128 - val_loss: 0.3054 - val_accuracy: 0.4221\n",
            "Epoch 17/50\n",
            "10/10 [==============================] - 18s 2s/step - loss: 0.2997 - accuracy: 0.4173 - val_loss: 0.3008 - val_accuracy: 0.4224\n",
            "Epoch 18/50\n",
            "10/10 [==============================] - 18s 2s/step - loss: 0.2973 - accuracy: 0.4194 - val_loss: 0.2987 - val_accuracy: 0.4236\n",
            "Epoch 19/50\n",
            "10/10 [==============================] - 18s 2s/step - loss: 0.2949 - accuracy: 0.4242 - val_loss: 0.2959 - val_accuracy: 0.4336\n",
            "Epoch 20/50\n",
            "10/10 [==============================] - 19s 2s/step - loss: 0.2932 - accuracy: 0.4212 - val_loss: 0.2950 - val_accuracy: 0.4377\n",
            "Epoch 21/50\n",
            "10/10 [==============================] - 18s 2s/step - loss: 0.2916 - accuracy: 0.4221 - val_loss: 0.2936 - val_accuracy: 0.4324\n",
            "Epoch 22/50\n",
            "10/10 [==============================] - 18s 2s/step - loss: 0.2893 - accuracy: 0.4276 - val_loss: 0.2911 - val_accuracy: 0.4341\n",
            "Epoch 23/50\n",
            "10/10 [==============================] - 18s 2s/step - loss: 0.2872 - accuracy: 0.4264 - val_loss: 0.2886 - val_accuracy: 0.4347\n",
            "Epoch 24/50\n",
            "10/10 [==============================] - 19s 2s/step - loss: 0.2840 - accuracy: 0.4283 - val_loss: 0.2836 - val_accuracy: 0.4433\n",
            "Epoch 25/50\n",
            "10/10 [==============================] - 19s 2s/step - loss: 0.2805 - accuracy: 0.4308 - val_loss: 0.2807 - val_accuracy: 0.4427\n",
            "Epoch 26/50\n",
            "10/10 [==============================] - 19s 2s/step - loss: 0.2776 - accuracy: 0.4318 - val_loss: 0.2773 - val_accuracy: 0.4358\n",
            "Epoch 27/50\n",
            "10/10 [==============================] - 19s 2s/step - loss: 0.2746 - accuracy: 0.4342 - val_loss: 0.2766 - val_accuracy: 0.4458\n",
            "Epoch 28/50\n",
            "10/10 [==============================] - 19s 2s/step - loss: 0.2727 - accuracy: 0.4363 - val_loss: 0.2751 - val_accuracy: 0.4456\n",
            "Epoch 29/50\n",
            "10/10 [==============================] - 19s 2s/step - loss: 0.2705 - accuracy: 0.4386 - val_loss: 0.2742 - val_accuracy: 0.4549\n",
            "Epoch 30/50\n",
            "10/10 [==============================] - 19s 2s/step - loss: 0.2703 - accuracy: 0.4366 - val_loss: 0.2740 - val_accuracy: 0.4444\n",
            "Epoch 31/50\n",
            "10/10 [==============================] - 18s 2s/step - loss: 0.2676 - accuracy: 0.4432 - val_loss: 0.2680 - val_accuracy: 0.4434\n",
            "Epoch 32/50\n",
            "10/10 [==============================] - 19s 2s/step - loss: 0.2647 - accuracy: 0.4434 - val_loss: 0.2679 - val_accuracy: 0.4510\n",
            "Epoch 33/50\n",
            "10/10 [==============================] - 18s 2s/step - loss: 0.2622 - accuracy: 0.4450 - val_loss: 0.2650 - val_accuracy: 0.4560\n",
            "Epoch 34/50\n",
            "10/10 [==============================] - 18s 2s/step - loss: 0.2614 - accuracy: 0.4477 - val_loss: 0.2643 - val_accuracy: 0.4563\n",
            "Epoch 35/50\n",
            "10/10 [==============================] - 18s 2s/step - loss: 0.2597 - accuracy: 0.4461 - val_loss: 0.2616 - val_accuracy: 0.4588\n",
            "Epoch 36/50\n",
            "10/10 [==============================] - 18s 2s/step - loss: 0.2574 - accuracy: 0.4531 - val_loss: 0.2600 - val_accuracy: 0.4569\n",
            "Epoch 37/50\n",
            "10/10 [==============================] - 19s 2s/step - loss: 0.2551 - accuracy: 0.4518 - val_loss: 0.2593 - val_accuracy: 0.4592\n",
            "Epoch 38/50\n",
            "10/10 [==============================] - 18s 2s/step - loss: 0.2531 - accuracy: 0.4568 - val_loss: 0.2573 - val_accuracy: 0.4502\n",
            "Epoch 39/50\n",
            "10/10 [==============================] - 19s 2s/step - loss: 0.2523 - accuracy: 0.4540 - val_loss: 0.2591 - val_accuracy: 0.4591\n",
            "Epoch 40/50\n",
            "10/10 [==============================] - 19s 2s/step - loss: 0.2515 - accuracy: 0.4551 - val_loss: 0.2553 - val_accuracy: 0.4634\n",
            "Epoch 41/50\n",
            "10/10 [==============================] - 19s 2s/step - loss: 0.2483 - accuracy: 0.4574 - val_loss: 0.2530 - val_accuracy: 0.4564\n",
            "Epoch 42/50\n",
            "10/10 [==============================] - 19s 2s/step - loss: 0.2467 - accuracy: 0.4606 - val_loss: 0.2521 - val_accuracy: 0.4729\n",
            "Epoch 43/50\n",
            "10/10 [==============================] - 19s 2s/step - loss: 0.2462 - accuracy: 0.4612 - val_loss: 0.2523 - val_accuracy: 0.4706\n",
            "Epoch 44/50\n",
            "10/10 [==============================] - 19s 2s/step - loss: 0.2445 - accuracy: 0.4657 - val_loss: 0.2493 - val_accuracy: 0.4665\n",
            "Epoch 45/50\n",
            "10/10 [==============================] - 19s 2s/step - loss: 0.2420 - accuracy: 0.4664 - val_loss: 0.2474 - val_accuracy: 0.4788\n",
            "Epoch 46/50\n",
            "10/10 [==============================] - 19s 2s/step - loss: 0.2406 - accuracy: 0.4651 - val_loss: 0.2462 - val_accuracy: 0.4778\n",
            "Epoch 47/50\n",
            "10/10 [==============================] - 19s 2s/step - loss: 0.2399 - accuracy: 0.4692 - val_loss: 0.2465 - val_accuracy: 0.4768\n",
            "Epoch 48/50\n",
            "10/10 [==============================] - 19s 2s/step - loss: 0.2389 - accuracy: 0.4706 - val_loss: 0.2451 - val_accuracy: 0.4673\n",
            "Epoch 49/50\n",
            "10/10 [==============================] - 19s 2s/step - loss: 0.2383 - accuracy: 0.4734 - val_loss: 0.2438 - val_accuracy: 0.4659\n",
            "Epoch 50/50\n",
            "10/10 [==============================] - 19s 2s/step - loss: 0.2357 - accuracy: 0.4753 - val_loss: 0.2419 - val_accuracy: 0.4852\n"
          ]
        }
      ]
    },
    {
      "cell_type": "markdown",
      "metadata": {
        "id": "Q1Fl6fI_uqDr"
      },
      "source": [
        "On trace la valeur de la MCRMSE à chaque époques, en fonction de l'entrainement et de la validation du modèle :"
      ]
    },
    {
      "cell_type": "code",
      "metadata": {
        "colab": {
          "base_uri": "https://localhost:8080/",
          "height": 295
        },
        "id": "26Ah9qL_8viy",
        "outputId": "da9729f8-3726-40a8-b12f-64518efd1d85"
      },
      "source": [
        "plot_loss(history_gru, \"GRU model\")"
      ],
      "execution_count": 67,
      "outputs": [
        {
          "output_type": "display_data",
          "data": {
            "image/png": "[encoded data removed]",
            "text/plain": [
              "<Figure size 432x288 with 1 Axes>"
            ]
          },
          "metadata": {
            "needs_background": "light"
          }
        }
      ]
    },
    {
      "cell_type": "code",
      "metadata": {
        "colab": {
          "base_uri": "https://localhost:8080/",
          "height": 295
        },
        "id": "LD8whc5UEjnI",
        "outputId": "7097773b-60ce-4018-c261-9a61af01f74e"
      },
      "source": [
        "plot_acc(history_gru, \"GRU model\")"
      ],
      "execution_count": 68,
      "outputs": [
        {
          "output_type": "display_data",
          "data": {
            "image/png": "[encoded data removed]",
            "text/plain": [
              "<Figure size 432x288 with 1 Axes>"
            ]
          },
          "metadata": {
            "needs_background": "light"
          }
        }
      ]
    },
    {
      "cell_type": "markdown",
      "metadata": {
        "id": "XZsNNtZCwMr-"
      },
      "source": [
        "## Modèle LSTM\n",
        "\n"
      ]
    },
    {
      "cell_type": "code",
      "metadata": {
        "colab": {
          "base_uri": "https://localhost:8080/"
        },
        "id": "c7WKj6KA9Lb4",
        "outputId": "e2f590d7-a2d6-4323-a7ff-c6cc60b32c42"
      },
      "source": [
        "model_lstm = build_model(rnn = 'lstm', convolve=True)\n",
        "model_lstm.summary()"
      ],
      "execution_count": 69,
      "outputs": [
        {
          "output_type": "stream",
          "name": "stdout",
          "text": [
            "Model: \"model_2\"\n",
            "_________________________________________________________________\n",
            "Layer (type)                 Output Shape              Param #   \n",
            "=================================================================\n",
            "input_3 (InputLayer)         [(None, 68, 14)]          0         \n",
            "_________________________________________________________________\n",
            "conv1d_2 (Conv1D)            (None, 68, 256)           18176     \n",
            "_________________________________________________________________\n",
            "bidirectional_6 (Bidirection (None, 68, 256)           394240    \n",
            "_________________________________________________________________\n",
            "bidirectional_7 (Bidirection (None, 68, 256)           394240    \n",
            "_________________________________________________________________\n",
            "bidirectional_8 (Bidirection (None, 68, 256)           394240    \n",
            "_________________________________________________________________\n",
            "dense_6 (Dense)              (None, 68, 5)             1285      \n",
            "=================================================================\n",
            "Total params: 1,202,181\n",
            "Trainable params: 1,202,181\n",
            "Non-trainable params: 0\n",
            "_________________________________________________________________\n"
          ]
        }
      ]
    },
    {
      "cell_type": "code",
      "metadata": {
        "colab": {
          "base_uri": "https://localhost:8080/",
          "height": 644
        },
        "id": "VM57HBNKr2di",
        "outputId": "f2ba4fa0-666f-4ebe-d8ff-486b859d6a65"
      },
      "source": [
        "tf.keras.utils.plot_model(model_lstm, \"LSTM_model.png\", show_shapes=True)"
      ],
      "execution_count": 70,
      "outputs": [
        {
          "output_type": "execute_result",
          "data": {
            "image/png": "[encoded data removed]",
            "text/plain": [
              "<IPython.core.display.Image object>"
            ]
          },
          "metadata": {},
          "execution_count": 70
        }
      ]
    },
    {
      "cell_type": "code",
      "metadata": {
        "colab": {
          "base_uri": "https://localhost:8080/"
        },
        "id": "rtlyuG199vYR",
        "outputId": "c78317c9-9ef4-4cd5-836b-502f66da5b03"
      },
      "source": [
        "history_lstm = model_lstm.fit(x_train, y_train, epochs = 50, batch_size = 128, validation_split=0.2)"
      ],
      "execution_count": 71,
      "outputs": [
        {
          "output_type": "stream",
          "name": "stdout",
          "text": [
            "Epoch 1/50\n",
            "10/10 [==============================] - 34s 2s/step - loss: 0.5117 - accuracy: 0.2818 - val_loss: 0.4661 - val_accuracy: 0.3317\n",
            "Epoch 2/50\n",
            "10/10 [==============================] - 22s 2s/step - loss: 0.4376 - accuracy: 0.3066 - val_loss: 0.4194 - val_accuracy: 0.3106\n",
            "Epoch 3/50\n",
            "10/10 [==============================] - 22s 2s/step - loss: 0.4005 - accuracy: 0.3300 - val_loss: 0.3879 - val_accuracy: 0.3247\n",
            "Epoch 4/50\n",
            "10/10 [==============================] - 22s 2s/step - loss: 0.3809 - accuracy: 0.3361 - val_loss: 0.3759 - val_accuracy: 0.3389\n",
            "Epoch 5/50\n",
            "10/10 [==============================] - 22s 2s/step - loss: 0.3686 - accuracy: 0.3557 - val_loss: 0.3666 - val_accuracy: 0.3541\n",
            "Epoch 6/50\n",
            "10/10 [==============================] - 22s 2s/step - loss: 0.3590 - accuracy: 0.3560 - val_loss: 0.3578 - val_accuracy: 0.3734\n",
            "Epoch 7/50\n",
            "10/10 [==============================] - 22s 2s/step - loss: 0.3521 - accuracy: 0.3699 - val_loss: 0.3551 - val_accuracy: 0.3756\n",
            "Epoch 8/50\n",
            "10/10 [==============================] - 22s 2s/step - loss: 0.3469 - accuracy: 0.3699 - val_loss: 0.3446 - val_accuracy: 0.3827\n",
            "Epoch 9/50\n",
            "10/10 [==============================] - 22s 2s/step - loss: 0.3393 - accuracy: 0.3767 - val_loss: 0.3377 - val_accuracy: 0.3860\n",
            "Epoch 10/50\n",
            "10/10 [==============================] - 22s 2s/step - loss: 0.3328 - accuracy: 0.3783 - val_loss: 0.3298 - val_accuracy: 0.3923\n",
            "Epoch 11/50\n",
            "10/10 [==============================] - 22s 2s/step - loss: 0.3250 - accuracy: 0.3839 - val_loss: 0.3244 - val_accuracy: 0.3862\n",
            "Epoch 12/50\n",
            "10/10 [==============================] - 22s 2s/step - loss: 0.3194 - accuracy: 0.3843 - val_loss: 0.3214 - val_accuracy: 0.3887\n",
            "Epoch 13/50\n",
            "10/10 [==============================] - 22s 2s/step - loss: 0.3153 - accuracy: 0.3882 - val_loss: 0.3156 - val_accuracy: 0.4041\n",
            "Epoch 14/50\n",
            "10/10 [==============================] - 22s 2s/step - loss: 0.3109 - accuracy: 0.3939 - val_loss: 0.3099 - val_accuracy: 0.4063\n",
            "Epoch 15/50\n",
            "10/10 [==============================] - 22s 2s/step - loss: 0.3051 - accuracy: 0.3978 - val_loss: 0.3105 - val_accuracy: 0.4125\n",
            "Epoch 16/50\n",
            "10/10 [==============================] - 22s 2s/step - loss: 0.3036 - accuracy: 0.3962 - val_loss: 0.3034 - val_accuracy: 0.4040\n",
            "Epoch 17/50\n",
            "10/10 [==============================] - 22s 2s/step - loss: 0.2986 - accuracy: 0.3977 - val_loss: 0.2989 - val_accuracy: 0.4131\n",
            "Epoch 18/50\n",
            "10/10 [==============================] - 22s 2s/step - loss: 0.2952 - accuracy: 0.4011 - val_loss: 0.2974 - val_accuracy: 0.4121\n",
            "Epoch 19/50\n",
            "10/10 [==============================] - 22s 2s/step - loss: 0.2925 - accuracy: 0.4073 - val_loss: 0.2961 - val_accuracy: 0.4132\n",
            "Epoch 20/50\n",
            "10/10 [==============================] - 22s 2s/step - loss: 0.2915 - accuracy: 0.4134 - val_loss: 0.2935 - val_accuracy: 0.4156\n",
            "Epoch 21/50\n",
            "10/10 [==============================] - 22s 2s/step - loss: 0.2895 - accuracy: 0.4092 - val_loss: 0.2932 - val_accuracy: 0.4131\n",
            "Epoch 22/50\n",
            "10/10 [==============================] - 22s 2s/step - loss: 0.2878 - accuracy: 0.4128 - val_loss: 0.2914 - val_accuracy: 0.4005\n",
            "Epoch 23/50\n",
            "10/10 [==============================] - 22s 2s/step - loss: 0.2848 - accuracy: 0.4123 - val_loss: 0.2890 - val_accuracy: 0.4293\n",
            "Epoch 24/50\n",
            "10/10 [==============================] - 22s 2s/step - loss: 0.2827 - accuracy: 0.4223 - val_loss: 0.2885 - val_accuracy: 0.4232\n",
            "Epoch 25/50\n",
            "10/10 [==============================] - 22s 2s/step - loss: 0.2819 - accuracy: 0.4201 - val_loss: 0.2856 - val_accuracy: 0.4256\n",
            "Epoch 26/50\n",
            "10/10 [==============================] - 22s 2s/step - loss: 0.2799 - accuracy: 0.4201 - val_loss: 0.2848 - val_accuracy: 0.4186\n",
            "Epoch 27/50\n",
            "10/10 [==============================] - 22s 2s/step - loss: 0.2780 - accuracy: 0.4221 - val_loss: 0.2825 - val_accuracy: 0.4323\n",
            "Epoch 28/50\n",
            "10/10 [==============================] - 22s 2s/step - loss: 0.2754 - accuracy: 0.4288 - val_loss: 0.2805 - val_accuracy: 0.4374\n",
            "Epoch 29/50\n",
            "10/10 [==============================] - 22s 2s/step - loss: 0.2726 - accuracy: 0.4289 - val_loss: 0.2782 - val_accuracy: 0.4428\n",
            "Epoch 30/50\n",
            "10/10 [==============================] - 22s 2s/step - loss: 0.2707 - accuracy: 0.4362 - val_loss: 0.2774 - val_accuracy: 0.4311\n",
            "Epoch 31/50\n",
            "10/10 [==============================] - 22s 2s/step - loss: 0.2691 - accuracy: 0.4346 - val_loss: 0.2745 - val_accuracy: 0.4465\n",
            "Epoch 32/50\n",
            "10/10 [==============================] - 22s 2s/step - loss: 0.2675 - accuracy: 0.4352 - val_loss: 0.2741 - val_accuracy: 0.4500\n",
            "Epoch 33/50\n",
            "10/10 [==============================] - 22s 2s/step - loss: 0.2665 - accuracy: 0.4375 - val_loss: 0.2740 - val_accuracy: 0.4429\n",
            "Epoch 34/50\n",
            "10/10 [==============================] - 22s 2s/step - loss: 0.2639 - accuracy: 0.4407 - val_loss: 0.2705 - val_accuracy: 0.4548\n",
            "Epoch 35/50\n",
            "10/10 [==============================] - 22s 2s/step - loss: 0.2615 - accuracy: 0.4456 - val_loss: 0.2693 - val_accuracy: 0.4519\n",
            "Epoch 36/50\n",
            "10/10 [==============================] - 22s 2s/step - loss: 0.2607 - accuracy: 0.4468 - val_loss: 0.2685 - val_accuracy: 0.4518\n",
            "Epoch 37/50\n",
            "10/10 [==============================] - 22s 2s/step - loss: 0.2590 - accuracy: 0.4467 - val_loss: 0.2668 - val_accuracy: 0.4524\n",
            "Epoch 38/50\n",
            "10/10 [==============================] - 22s 2s/step - loss: 0.2570 - accuracy: 0.4499 - val_loss: 0.2669 - val_accuracy: 0.4475\n",
            "Epoch 39/50\n",
            "10/10 [==============================] - 22s 2s/step - loss: 0.2552 - accuracy: 0.4495 - val_loss: 0.2652 - val_accuracy: 0.4445\n",
            "Epoch 40/50\n",
            "10/10 [==============================] - 22s 2s/step - loss: 0.2541 - accuracy: 0.4525 - val_loss: 0.2628 - val_accuracy: 0.4536\n",
            "Epoch 41/50\n",
            "10/10 [==============================] - 22s 2s/step - loss: 0.2525 - accuracy: 0.4504 - val_loss: 0.2653 - val_accuracy: 0.4538\n",
            "Epoch 42/50\n",
            "10/10 [==============================] - 22s 2s/step - loss: 0.2519 - accuracy: 0.4548 - val_loss: 0.2643 - val_accuracy: 0.4586\n",
            "Epoch 43/50\n",
            "10/10 [==============================] - 22s 2s/step - loss: 0.2493 - accuracy: 0.4575 - val_loss: 0.2619 - val_accuracy: 0.4582\n",
            "Epoch 44/50\n",
            "10/10 [==============================] - 22s 2s/step - loss: 0.2485 - accuracy: 0.4597 - val_loss: 0.2597 - val_accuracy: 0.4605\n",
            "Epoch 45/50\n",
            "10/10 [==============================] - 22s 2s/step - loss: 0.2471 - accuracy: 0.4583 - val_loss: 0.2585 - val_accuracy: 0.4637\n",
            "Epoch 46/50\n",
            "10/10 [==============================] - 22s 2s/step - loss: 0.2440 - accuracy: 0.4637 - val_loss: 0.2569 - val_accuracy: 0.4609\n",
            "Epoch 47/50\n",
            "10/10 [==============================] - 22s 2s/step - loss: 0.2422 - accuracy: 0.4671 - val_loss: 0.2559 - val_accuracy: 0.4624\n",
            "Epoch 48/50\n",
            "10/10 [==============================] - 22s 2s/step - loss: 0.2396 - accuracy: 0.4678 - val_loss: 0.2549 - val_accuracy: 0.4683\n",
            "Epoch 49/50\n",
            "10/10 [==============================] - 22s 2s/step - loss: 0.2376 - accuracy: 0.4689 - val_loss: 0.2530 - val_accuracy: 0.4673\n",
            "Epoch 50/50\n",
            "10/10 [==============================] - 22s 2s/step - loss: 0.2365 - accuracy: 0.4701 - val_loss: 0.2527 - val_accuracy: 0.4686\n"
          ]
        }
      ]
    },
    {
      "cell_type": "code",
      "metadata": {
        "colab": {
          "base_uri": "https://localhost:8080/",
          "height": 295
        },
        "id": "OKRwIVbRn7DW",
        "outputId": "f07aa039-7079-4dd6-ffbf-0f34206792d3"
      },
      "source": [
        "plot_loss(history_lstm, \"LSTM model\")"
      ],
      "execution_count": 72,
      "outputs": [
        {
          "output_type": "display_data",
          "data": {
            "image/png": "[encoded data removed]",
            "text/plain": [
              "<Figure size 432x288 with 1 Axes>"
            ]
          },
          "metadata": {
            "needs_background": "light"
          }
        }
      ]
    },
    {
      "cell_type": "code",
      "metadata": {
        "colab": {
          "base_uri": "https://localhost:8080/",
          "height": 295
        },
        "id": "luxQ_ZvKEuUf",
        "outputId": "0cd75bc7-774c-4bb6-b89e-95f6f003989a"
      },
      "source": [
        "plot_acc(history_lstm, \"LSTM model\")"
      ],
      "execution_count": 73,
      "outputs": [
        {
          "output_type": "display_data",
          "data": {
            "image/png": "[encoded data removed]",
            "text/plain": [
              "<Figure size 432x288 with 1 Axes>"
            ]
          },
          "metadata": {
            "needs_background": "light"
          }
        }
      ]
    },
    {
      "cell_type": "markdown",
      "metadata": {
        "id": "l-BSE4S93um6"
      },
      "source": [
        "# Test et Création des modèles sur les données Test privées et Test publiques"
      ]
    },
    {
      "cell_type": "markdown",
      "metadata": {
        "id": "0_CgG5B6iAwh"
      },
      "source": [
        "## Creation de y_pred_107"
      ]
    },
    {
      "cell_type": "code",
      "metadata": {
        "id": "Rn6XcPgFsVu7"
      },
      "source": [
        "X_test_107_all = X_test_107_all[:,:68,:]"
      ],
      "execution_count": 74,
      "outputs": []
    },
    {
      "cell_type": "code",
      "metadata": {
        "id": "p89TGs9Hc4iH"
      },
      "source": [
        "y_pred_107 = model_gru.predict(X_test_107_all)"
      ],
      "execution_count": 77,
      "outputs": []
    },
    {
      "cell_type": "code",
      "metadata": {
        "colab": {
          "base_uri": "https://localhost:8080/"
        },
        "id": "iFuCHH4ljMzl",
        "outputId": "f5881af0-80aa-445b-ebe2-9641072c2064"
      },
      "source": [
        "np.shape(y_pred_107)"
      ],
      "execution_count": 78,
      "outputs": [
        {
          "output_type": "execute_result",
          "data": {
            "text/plain": [
              "(629, 68, 5)"
            ]
          },
          "metadata": {},
          "execution_count": 78
        }
      ]
    },
    {
      "cell_type": "code",
      "metadata": {
        "id": "NJdge3dCn7zW"
      },
      "source": [
        "import scipy"
      ],
      "execution_count": 80,
      "outputs": []
    },
    {
      "cell_type": "code",
      "metadata": {
        "id": "PS0p2-8kkNbU"
      },
      "source": [
        "signal_noise = []\n",
        "for line in y_pred_107:\n",
        "  signal_noise.append(np.mean(line)/scipy.stats.sem(line))"
      ],
      "execution_count": 81,
      "outputs": []
    },
    {
      "cell_type": "code",
      "metadata": {
        "colab": {
          "base_uri": "https://localhost:8080/"
        },
        "id": "pUoGk8qmoUc0",
        "outputId": "bb30f849-27bf-4028-d090-773e3ce8104b"
      },
      "source": [
        "flag = 1\n",
        "for line in signal_noise:\n",
        "  if min(line) < 1:\n",
        "    flage = flag * 0\n",
        "  else:\n",
        "    flag = flag * 1\n",
        "\n",
        "if flag == 1:\n",
        "  print(\"test réussi\")\n",
        "else:\n",
        "  print(\"test échoué\")"
      ],
      "execution_count": 82,
      "outputs": [
        {
          "output_type": "stream",
          "name": "stdout",
          "text": [
            "test réussi\n"
          ]
        }
      ]
    },
    {
      "cell_type": "markdown",
      "metadata": {
        "id": "wQE3qwT0q2qp"
      },
      "source": [
        "- Le test sur la valeur minimale pour les 5 conditions qui doit être supérieure à -0,5. est ok\n",
        "- Le test sur le rapport signal/bruit moyen dans les 5 conditions qui doit être supérieur à 1,0. (Le signal / bruit est défini comme moyenne (valeur de mesure supérieure à 68 nts) / moyenne (erreur statistique de la valeur de mesure supérieure à 68 nts)) Est réussi !\n",
        "\n",
        "On peut dire que le modèle semble plutot fiable, mais on ne peut pas être à 100%. (On pourrait eventuelklement effectuer des modeles plus complexe avec une meilleur loss pour tendre vers une plus grande fiabilité)"
      ]
    },
    {
      "cell_type": "markdown",
      "metadata": {
        "id": "t47ZxpgLdhPP"
      },
      "source": [
        "## Creation du y_pred_130"
      ]
    },
    {
      "cell_type": "code",
      "metadata": {
        "id": "_VFPcc5ysvvp"
      },
      "source": [
        "X_test_130_all = X_test_130_all[:,:91,:]"
      ],
      "execution_count": 83,
      "outputs": []
    },
    {
      "cell_type": "code",
      "metadata": {
        "colab": {
          "base_uri": "https://localhost:8080/"
        },
        "id": "SrK6P4Ias-oD",
        "outputId": "e5d742b3-6764-44e4-b033-daff3bb47dd5"
      },
      "source": [
        "np.shape(X_test_130_all)"
      ],
      "execution_count": 84,
      "outputs": [
        {
          "output_type": "execute_result",
          "data": {
            "text/plain": [
              "(3005, 91, 14)"
            ]
          },
          "metadata": {},
          "execution_count": 84
        }
      ]
    },
    {
      "cell_type": "code",
      "metadata": {
        "id": "KSP3OK_Ew0s9"
      },
      "source": [
        "model_gru_130 = build_model(rnn='gru', pred_len=91, convolve=True)"
      ],
      "execution_count": 85,
      "outputs": []
    },
    {
      "cell_type": "code",
      "metadata": {
        "colab": {
          "base_uri": "https://localhost:8080/"
        },
        "id": "a9_EFqdZt2_Z",
        "outputId": "3a9946fe-7d11-42fa-f8f5-6df5385895c9"
      },
      "source": [
        "model_gru_130.summary()"
      ],
      "execution_count": 86,
      "outputs": [
        {
          "output_type": "stream",
          "name": "stdout",
          "text": [
            "Model: \"model_3\"\n",
            "_________________________________________________________________\n",
            "Layer (type)                 Output Shape              Param #   \n",
            "=================================================================\n",
            "input_4 (InputLayer)         [(None, 91, 14)]          0         \n",
            "_________________________________________________________________\n",
            "conv1d_3 (Conv1D)            (None, 91, 256)           18176     \n",
            "_________________________________________________________________\n",
            "bidirectional_9 (Bidirection (None, 91, 256)           296448    \n",
            "_________________________________________________________________\n",
            "bidirectional_10 (Bidirectio (None, 91, 256)           296448    \n",
            "_________________________________________________________________\n",
            "bidirectional_11 (Bidirectio (None, 91, 256)           296448    \n",
            "_________________________________________________________________\n",
            "dense_7 (Dense)              (None, 91, 5)             1285      \n",
            "=================================================================\n",
            "Total params: 908,805\n",
            "Trainable params: 908,805\n",
            "Non-trainable params: 0\n",
            "_________________________________________________________________\n"
          ]
        }
      ]
    },
    {
      "cell_type": "code",
      "metadata": {
        "id": "LFbCLRv6t_AV"
      },
      "source": [
        "model_gru_130.set_weights(model_gru.get_weights())"
      ],
      "execution_count": 87,
      "outputs": []
    },
    {
      "cell_type": "code",
      "metadata": {
        "id": "peMzlKwvsCHs"
      },
      "source": [
        "y_pred_130 = model_gru_130.predict(X_test_130_all)"
      ],
      "execution_count": 88,
      "outputs": []
    },
    {
      "cell_type": "code",
      "metadata": {
        "colab": {
          "base_uri": "https://localhost:8080/"
        },
        "id": "VXIYLefxsCHs",
        "outputId": "b0fbc9d4-7de9-458a-e158-31253ebd3f90"
      },
      "source": [
        "np.shape(y_pred_130)"
      ],
      "execution_count": 89,
      "outputs": [
        {
          "output_type": "execute_result",
          "data": {
            "text/plain": [
              "(3005, 91, 5)"
            ]
          },
          "metadata": {},
          "execution_count": 89
        }
      ]
    },
    {
      "cell_type": "markdown",
      "metadata": {
        "id": "L-Qx4iLm1SFj"
      },
      "source": [
        "On ne sait pas si ça passe le SN_Filter sur les données Privates, donc on ne peut pas checker. (On peut essayer de calculer le signal_noise pour voir la proportions des privates et voir combien passent, mais donne aucune indication réelle)"
      ]
    },
    {
      "cell_type": "markdown",
      "metadata": {
        "id": "XvKVHCp5voAf"
      },
      "source": [
        "# Création de tableau des résultats (CSV)"
      ]
    },
    {
      "cell_type": "code",
      "metadata": {
        "id": "qnR2b6KyrqZD",
        "colab": {
          "base_uri": "https://localhost:8080/",
          "height": 17
        },
        "outputId": "8bf5b6ac-adc8-4852-9ccb-5fba01c14bc3"
      },
      "source": [
        "ls_prediction = []\n",
        "cols_prediction = [\"reactivity\", \"deg_Mg_pH10\", \"deg_pH10\", \"deg_Mg_50C\", \"deg_50C\"]\n",
        "for df, prediction in [(X_test_107, y_pred_107), (X_test_130, y_pred_130)]:\n",
        "    for i, uid in enumerate(df.id):\n",
        "        unique_predicate = prediction[i]\n",
        "        data_unique = pd.DataFrame(unique_predicate, columns=cols_prediction)\n",
        "        data_unique['id_seqpos'] = [f'{uid}_{x}' for x in range(data_unique.shape[0])]\n",
        "        ls_prediction.append(data_unique)\n",
        "data_prediction = pd.concat(ls_prediction)\n",
        "submission = sample_data[['id_seqpos']].merge(data_prediction, on=['id_seqpos'])\n",
        "submission.to_csv('submission.csv', index=False)\n",
        "files.download('submission.csv')"
      ],
      "execution_count": 90,
      "outputs": [
        {
          "output_type": "display_data",
          "data": {
            "application/javascript": [
              "\n",
              "    async function download(id, filename, size) {\n",
              "      if (!google.colab.kernel.accessAllowed) {\n",
              "        return;\n",
              "      }\n",
              "      const div = document.createElement('div');\n",
              "      const label = document.createElement('label');\n",
              "      label.textContent = `Downloading \"${filename}\": `;\n",
              "      div.appendChild(label);\n",
              "      const progress = document.createElement('progress');\n",
              "      progress.max = size;\n",
              "      div.appendChild(progress);\n",
              "      document.body.appendChild(div);\n",
              "\n",
              "      const buffers = [];\n",
              "      let downloaded = 0;\n",
              "\n",
              "      const channel = await google.colab.kernel.comms.open(id);\n",
              "      // Send a message to notify the kernel that we're ready.\n",
              "      channel.send({})\n",
              "\n",
              "      for await (const message of channel.messages) {\n",
              "        // Send a message to notify the kernel that we're ready.\n",
              "        channel.send({})\n",
              "        if (message.buffers) {\n",
              "          for (const buffer of message.buffers) {\n",
              "            buffers.push(buffer);\n",
              "            downloaded += buffer.byteLength;\n",
              "            progress.value = downloaded;\n",
              "          }\n",
              "        }\n",
              "      }\n",
              "      const blob = new Blob(buffers, {type: 'application/binary'});\n",
              "      const a = document.createElement('a');\n",
              "      a.href = window.URL.createObjectURL(blob);\n",
              "      a.download = filename;\n",
              "      div.appendChild(a);\n",
              "      a.click();\n",
              "      div.remove();\n",
              "    }\n",
              "  "
            ],
            "text/plain": [
              "<IPython.core.display.Javascript object>"
            ]
          },
          "metadata": {}
        },
        {
          "output_type": "display_data",
          "data": {
            "application/javascript": [
              "download(\"download_63cb4c8e-2656-4843-b409-3363141fc194\", \"submission.csv\", 22078738)"
            ],
            "text/plain": [
              "<IPython.core.display.Javascript object>"
            ]
          },
          "metadata": {}
        }
      ]
    }
  ]
}