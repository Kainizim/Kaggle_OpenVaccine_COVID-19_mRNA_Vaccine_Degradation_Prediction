{
  "nbformat": 4,
  "nbformat_minor": 0,
  "metadata": {
    "colab": {
      "name": "OpenVaccine Kaggle.ipynb",
      "provenance": [],
      "collapsed_sections": [],
      "toc_visible": true
    },
    "kernelspec": {
      "name": "python3",
      "display_name": "Python 3"
    },
    "language_info": {
      "name": "python"
    }
  },
  "cells": [
    {
      "cell_type": "markdown",
      "metadata": {
        "id": "s3hTAxFIJ0Yi"
      },
      "source": [
        "## Import des modules"
      ]
    },
    {
      "cell_type": "code",
      "metadata": {
        "id": "Jl_WiwvJJ40W"
      },
      "source": [
        "import numpy as np\n",
        "import pandas as pd\n",
        "import seaborn as sns\n",
        "import matplotlib.pyplot as plt\n",
        "\n",
        "#Tensorflow\n",
        "from tensorflow.keras.utils import to_categorical\n",
        "from tensorflow.keras.models import Sequential\n",
        "from tensorflow.keras.layers import Dense\n",
        "from tensorflow.keras.layers import GRU\n",
        "from tensorflow.keras.utils import plot_model\n",
        "import tensorflow as tf\n",
        "from tensorflow.keras.callbacks import ModelCheckpoint, EarlyStopping, LearningRateScheduler, ReduceLROnPlateau\n",
        "from tensorflow.keras.layers import Conv1D\n",
        "from tensorflow.keras.layers import Dropout\n",
        "\n",
        "from keras import backend\n",
        "\n",
        "#Ski-learn\n",
        "from sklearn.model_selection import StratifiedKFold, GroupKFold"
      ],
      "execution_count": 315,
      "outputs": []
    },
    {
      "cell_type": "markdown",
      "metadata": {
        "id": "PurhWiB8GrQi"
      },
      "source": [
        "# Importation des données"
      ]
    },
    {
      "cell_type": "code",
      "metadata": {
        "id": "mQHkwNEkbLek"
      },
      "source": [
        "train_data = pd.read_json(\"train.json\", lines = True).drop('index' , axis = 1)\n",
        "test_data = pd.read_json(\"test.json\", lines = True).drop('index' , axis = 1)\n",
        "sample_data = pd.read_csv(\"sample_submission.csv\")"
      ],
      "execution_count": 316,
      "outputs": []
    },
    {
      "cell_type": "markdown",
      "metadata": {
        "id": "K2Ht8ki4N_cz"
      },
      "source": [
        "### Vérification des données"
      ]
    },
    {
      "cell_type": "code",
      "metadata": {
        "id": "s2uC1txDMex4",
        "colab": {
          "base_uri": "https://localhost:8080/",
          "height": 462
        },
        "outputId": "0bf663ad-0bcf-490c-e794-e8193a0f48cc"
      },
      "source": [
        "train_data.head()"
      ],
      "execution_count": 317,
      "outputs": [
        {
          "output_type": "execute_result",
          "data": {
            "text/html": [
              "<div>\n",
              "<style scoped>\n",
              "    .dataframe tbody tr th:only-of-type {\n",
              "        vertical-align: middle;\n",
              "    }\n",
              "\n",
              "    .dataframe tbody tr th {\n",
              "        vertical-align: top;\n",
              "    }\n",
              "\n",
              "    .dataframe thead th {\n",
              "        text-align: right;\n",
              "    }\n",
              "</style>\n",
              "<table border=\"1\" class=\"dataframe\">\n",
              "  <thead>\n",
              "    <tr style=\"text-align: right;\">\n",
              "      <th></th>\n",
              "      <th>id</th>\n",
              "      <th>sequence</th>\n",
              "      <th>structure</th>\n",
              "      <th>predicted_loop_type</th>\n",
              "      <th>signal_to_noise</th>\n",
              "      <th>SN_filter</th>\n",
              "      <th>seq_length</th>\n",
              "      <th>seq_scored</th>\n",
              "      <th>reactivity_error</th>\n",
              "      <th>deg_error_Mg_pH10</th>\n",
              "      <th>deg_error_pH10</th>\n",
              "      <th>deg_error_Mg_50C</th>\n",
              "      <th>deg_error_50C</th>\n",
              "      <th>reactivity</th>\n",
              "      <th>deg_Mg_pH10</th>\n",
              "      <th>deg_pH10</th>\n",
              "      <th>deg_Mg_50C</th>\n",
              "      <th>deg_50C</th>\n",
              "    </tr>\n",
              "  </thead>\n",
              "  <tbody>\n",
              "    <tr>\n",
              "      <th>0</th>\n",
              "      <td>id_001f94081</td>\n",
              "      <td>GGAAAAGCUCUAAUAACAGGAGACUAGGACUACGUAUUUCUAGGUA...</td>\n",
              "      <td>.....((((((.......)))).)).((.....((..((((((......</td>\n",
              "      <td>EEEEESSSSSSHHHHHHHSSSSBSSXSSIIIIISSIISSSSSSHHH...</td>\n",
              "      <td>6.894</td>\n",
              "      <td>1</td>\n",
              "      <td>107</td>\n",
              "      <td>68</td>\n",
              "      <td>[0.1359, 0.20700000000000002, 0.1633, 0.1452, ...</td>\n",
              "      <td>[0.26130000000000003, 0.38420000000000004, 0.1...</td>\n",
              "      <td>[0.2631, 0.28600000000000003, 0.0964, 0.1574, ...</td>\n",
              "      <td>[0.1501, 0.275, 0.0947, 0.18660000000000002, 0...</td>\n",
              "      <td>[0.2167, 0.34750000000000003, 0.188, 0.2124, 0...</td>\n",
              "      <td>[0.3297, 1.5693000000000001, 1.1227, 0.8686, 0...</td>\n",
              "      <td>[0.7556, 2.983, 0.2526, 1.3789, 0.637600000000...</td>\n",
              "      <td>[2.3375, 3.5060000000000002, 0.3008, 1.0108, 0...</td>\n",
              "      <td>[0.35810000000000003, 2.9683, 0.2589, 1.4552, ...</td>\n",
              "      <td>[0.6382, 3.4773, 0.9988, 1.3228, 0.78770000000...</td>\n",
              "    </tr>\n",
              "    <tr>\n",
              "      <th>1</th>\n",
              "      <td>id_0049f53ba</td>\n",
              "      <td>GGAAAAAGCGCGCGCGGUUAGCGCGCGCUUUUGCGCGCGCUGUACC...</td>\n",
              "      <td>.....(((((((((((((((((((((((....)))))))))).)))...</td>\n",
              "      <td>EEEEESSSSSSSSSSSSSSSSSSSSSSSHHHHSSSSSSSSSSBSSS...</td>\n",
              "      <td>0.193</td>\n",
              "      <td>0</td>\n",
              "      <td>107</td>\n",
              "      <td>68</td>\n",
              "      <td>[2.8272, 2.8272, 2.8272, 4.7343, 2.5676, 2.567...</td>\n",
              "      <td>[73705.3985, 73705.3985, 73705.3985, 73705.398...</td>\n",
              "      <td>[10.1986, 9.2418, 5.0933, 5.0933, 5.0933, 5.09...</td>\n",
              "      <td>[16.6174, 13.868, 8.1968, 8.1968, 8.1968, 8.19...</td>\n",
              "      <td>[15.4857, 7.9596, 13.3957, 5.8777, 5.8777, 5.8...</td>\n",
              "      <td>[0.0, 0.0, 0.0, 2.2965, 0.0, 0.0, 0.0, 0.0, 0....</td>\n",
              "      <td>[0.0, 0.0, 0.0, 0.0, 0.0, 0.0, 0.0, 0.0, 0.0, ...</td>\n",
              "      <td>[4.947, 4.4523, 0.0, 0.0, 0.0, 0.0, 0.0, 0.0, ...</td>\n",
              "      <td>[4.8511, 4.0426, 0.0, 0.0, 0.0, 0.0, 0.0, 0.0,...</td>\n",
              "      <td>[7.6692, 0.0, 10.9561, 0.0, 0.0, 0.0, 0.0, 0.0...</td>\n",
              "    </tr>\n",
              "    <tr>\n",
              "      <th>2</th>\n",
              "      <td>id_006f36f57</td>\n",
              "      <td>GGAAAGUGCUCAGAUAAGCUAAGCUCGAAUAGCAAUCGAAUAGAAU...</td>\n",
              "      <td>.....((((.((.....((((.(((.....)))..((((......)...</td>\n",
              "      <td>EEEEESSSSISSIIIIISSSSMSSSHHHHHSSSMMSSSSHHHHHHS...</td>\n",
              "      <td>8.800</td>\n",
              "      <td>1</td>\n",
              "      <td>107</td>\n",
              "      <td>68</td>\n",
              "      <td>[0.0931, 0.13290000000000002, 0.11280000000000...</td>\n",
              "      <td>[0.1365, 0.2237, 0.1812, 0.1333, 0.1148, 0.160...</td>\n",
              "      <td>[0.17020000000000002, 0.178, 0.111, 0.091, 0.0...</td>\n",
              "      <td>[0.1033, 0.1464, 0.1126, 0.09620000000000001, ...</td>\n",
              "      <td>[0.14980000000000002, 0.1761, 0.1517, 0.116700...</td>\n",
              "      <td>[0.44820000000000004, 1.4822, 1.1819, 0.743400...</td>\n",
              "      <td>[0.2504, 1.4021, 0.9804, 0.49670000000000003, ...</td>\n",
              "      <td>[2.243, 2.9361, 1.0553, 0.721, 0.6396000000000...</td>\n",
              "      <td>[0.5163, 1.6823000000000001, 1.0426, 0.7902, 0...</td>\n",
              "      <td>[0.9501000000000001, 1.7974999999999999, 1.499...</td>\n",
              "    </tr>\n",
              "    <tr>\n",
              "      <th>3</th>\n",
              "      <td>id_0082d463b</td>\n",
              "      <td>GGAAAAGCGCGCGCGCGCGCGCGAAAAAGCGCGCGCGCGCGCGCGC...</td>\n",
              "      <td>......((((((((((((((((......))))))))))))))))((...</td>\n",
              "      <td>EEEEEESSSSSSSSSSSSSSSSHHHHHHSSSSSSSSSSSSSSSSSS...</td>\n",
              "      <td>0.104</td>\n",
              "      <td>0</td>\n",
              "      <td>107</td>\n",
              "      <td>68</td>\n",
              "      <td>[3.5229, 6.0748, 3.0374, 3.0374, 3.0374, 3.037...</td>\n",
              "      <td>[73705.3985, 73705.3985, 73705.3985, 73705.398...</td>\n",
              "      <td>[11.8007, 12.7566, 5.7733, 5.7733, 5.7733, 5.7...</td>\n",
              "      <td>[121286.7181, 121286.7182, 121286.7181, 121286...</td>\n",
              "      <td>[15.3995, 8.1124, 7.7824, 7.7824, 7.7824, 7.78...</td>\n",
              "      <td>[0.0, 2.2399, 0.0, 0.0, 0.0, 0.0, 0.0, 0.0, 0....</td>\n",
              "      <td>[0.0, -0.5083, 0.0, 0.0, 0.0, 0.0, 0.0, 0.0, 0...</td>\n",
              "      <td>[3.4248, 6.8128, 0.0, 0.0, 0.0, 0.0, 0.0, 0.0,...</td>\n",
              "      <td>[0.0, -0.8365, 0.0, 0.0, 0.0, 0.0, 0.0, 0.0, 0...</td>\n",
              "      <td>[7.6692, -1.3223, 0.0, 0.0, 0.0, 0.0, 0.0, 0.0...</td>\n",
              "    </tr>\n",
              "    <tr>\n",
              "      <th>4</th>\n",
              "      <td>id_0087940f4</td>\n",
              "      <td>GGAAAAUAUAUAAUAUAUUAUAUAAAUAUAUUAUAGAAGUAUAAUA...</td>\n",
              "      <td>.....(((((((.((((((((((((.(((((((((....)))))))...</td>\n",
              "      <td>EEEEESSSSSSSBSSSSSSSSSSSSBSSSSSSSSSHHHHSSSSSSS...</td>\n",
              "      <td>0.423</td>\n",
              "      <td>0</td>\n",
              "      <td>107</td>\n",
              "      <td>68</td>\n",
              "      <td>[1.665, 2.1728, 2.0041, 1.2405, 0.620200000000...</td>\n",
              "      <td>[4.2139, 3.9637000000000002, 3.2467, 2.4716, 1...</td>\n",
              "      <td>[3.0942, 3.015, 2.1212, 2.0552, 0.881500000000...</td>\n",
              "      <td>[2.6717, 2.4818, 1.9919, 2.5484999999999998, 1...</td>\n",
              "      <td>[1.3285, 3.6173, 1.3057, 1.3021, 1.1507, 1.150...</td>\n",
              "      <td>[0.8267, 2.6577, 2.8481, 0.40090000000000003, ...</td>\n",
              "      <td>[2.1058, 3.138, 2.5437000000000003, 1.0932, 0....</td>\n",
              "      <td>[4.7366, 4.6243, 1.2068, 1.1538, 0.0, 0.0, 0.7...</td>\n",
              "      <td>[2.2052, 1.7947000000000002, 0.7457, 3.1233, 0...</td>\n",
              "      <td>[0.0, 5.1198, -0.3551, -0.3518, 0.0, 0.0, 0.0,...</td>\n",
              "    </tr>\n",
              "  </tbody>\n",
              "</table>\n",
              "</div>"
            ],
            "text/plain": [
              "             id  ...                                            deg_50C\n",
              "0  id_001f94081  ...  [0.6382, 3.4773, 0.9988, 1.3228, 0.78770000000...\n",
              "1  id_0049f53ba  ...  [7.6692, 0.0, 10.9561, 0.0, 0.0, 0.0, 0.0, 0.0...\n",
              "2  id_006f36f57  ...  [0.9501000000000001, 1.7974999999999999, 1.499...\n",
              "3  id_0082d463b  ...  [7.6692, -1.3223, 0.0, 0.0, 0.0, 0.0, 0.0, 0.0...\n",
              "4  id_0087940f4  ...  [0.0, 5.1198, -0.3551, -0.3518, 0.0, 0.0, 0.0,...\n",
              "\n",
              "[5 rows x 18 columns]"
            ]
          },
          "metadata": {},
          "execution_count": 317
        }
      ]
    },
    {
      "cell_type": "code",
      "metadata": {
        "id": "UTQuQmj8MgQX",
        "colab": {
          "base_uri": "https://localhost:8080/",
          "height": 221
        },
        "outputId": "6d6d630a-24b7-42a4-96eb-777e3154d210"
      },
      "source": [
        "test_data.head()"
      ],
      "execution_count": 318,
      "outputs": [
        {
          "output_type": "execute_result",
          "data": {
            "text/html": [
              "<div>\n",
              "<style scoped>\n",
              "    .dataframe tbody tr th:only-of-type {\n",
              "        vertical-align: middle;\n",
              "    }\n",
              "\n",
              "    .dataframe tbody tr th {\n",
              "        vertical-align: top;\n",
              "    }\n",
              "\n",
              "    .dataframe thead th {\n",
              "        text-align: right;\n",
              "    }\n",
              "</style>\n",
              "<table border=\"1\" class=\"dataframe\">\n",
              "  <thead>\n",
              "    <tr style=\"text-align: right;\">\n",
              "      <th></th>\n",
              "      <th>id</th>\n",
              "      <th>sequence</th>\n",
              "      <th>structure</th>\n",
              "      <th>predicted_loop_type</th>\n",
              "      <th>seq_length</th>\n",
              "      <th>seq_scored</th>\n",
              "    </tr>\n",
              "  </thead>\n",
              "  <tbody>\n",
              "    <tr>\n",
              "      <th>0</th>\n",
              "      <td>id_00073f8be</td>\n",
              "      <td>GGAAAAGUACGACUUGAGUACGGAAAACGUACCAACUCGAUUAAAA...</td>\n",
              "      <td>......((((((((((.(((((.....))))))))((((((((......</td>\n",
              "      <td>EEEEEESSSSSSSSSSBSSSSSHHHHHSSSSSSSSSSSSSSSSHHH...</td>\n",
              "      <td>107</td>\n",
              "      <td>68</td>\n",
              "    </tr>\n",
              "    <tr>\n",
              "      <th>1</th>\n",
              "      <td>id_000ae4237</td>\n",
              "      <td>GGAAACGGGUUCCGCGGAUUGCUGCUAAUAAGAGUAAUCUCUAAAU...</td>\n",
              "      <td>.....((((..((((((...(((((.....((((....)))).......</td>\n",
              "      <td>EEEEESSSSIISSSSSSIIISSSSSIIIIISSSSHHHHSSSSIIII...</td>\n",
              "      <td>130</td>\n",
              "      <td>91</td>\n",
              "    </tr>\n",
              "    <tr>\n",
              "      <th>2</th>\n",
              "      <td>id_00131c573</td>\n",
              "      <td>GGAAAACAAAACGGCCUGGAAGACGAAGGAAUUCGGCGCGAAGGCC...</td>\n",
              "      <td>...........((.(((.(.(..((..((..((((...))))..))...</td>\n",
              "      <td>EEEEEEEEEEESSISSSISISIISSIISSIISSSSHHHSSSSIISS...</td>\n",
              "      <td>107</td>\n",
              "      <td>68</td>\n",
              "    </tr>\n",
              "    <tr>\n",
              "      <th>3</th>\n",
              "      <td>id_00181fd34</td>\n",
              "      <td>GGAAAGGAUCUCUAUCGAAGGAUAGAGAUCGCUCGCGACGGCACGA...</td>\n",
              "      <td>......((((((((((....))))))))))((((((..((.(((.....</td>\n",
              "      <td>EEEEEESSSSSSSSSSHHHHSSSSSSSSSSSSSSSSIISSISSSHH...</td>\n",
              "      <td>107</td>\n",
              "      <td>68</td>\n",
              "    </tr>\n",
              "    <tr>\n",
              "      <th>4</th>\n",
              "      <td>id_0020473f7</td>\n",
              "      <td>GGAAACCCGCCCGCGCCCGCCCGCGCUGCUGCCGUGCCUCCUCUCC...</td>\n",
              "      <td>.....(((((((((((((((((((((((((((((((((((((((((...</td>\n",
              "      <td>EEEEESSSSSSSSSSSSSSSSSSSSSSSSSSSSSSSSSSSSSSSSS...</td>\n",
              "      <td>130</td>\n",
              "      <td>91</td>\n",
              "    </tr>\n",
              "  </tbody>\n",
              "</table>\n",
              "</div>"
            ],
            "text/plain": [
              "             id  ... seq_scored\n",
              "0  id_00073f8be  ...         68\n",
              "1  id_000ae4237  ...         91\n",
              "2  id_00131c573  ...         68\n",
              "3  id_00181fd34  ...         68\n",
              "4  id_0020473f7  ...         91\n",
              "\n",
              "[5 rows x 6 columns]"
            ]
          },
          "metadata": {},
          "execution_count": 318
        }
      ]
    },
    {
      "cell_type": "code",
      "metadata": {
        "id": "h0eZhgryMhw4",
        "colab": {
          "base_uri": "https://localhost:8080/",
          "height": 204
        },
        "outputId": "0db65a90-9152-4923-9b03-7c34500286d5"
      },
      "source": [
        "sample_data.head()"
      ],
      "execution_count": 319,
      "outputs": [
        {
          "output_type": "execute_result",
          "data": {
            "text/html": [
              "<div>\n",
              "<style scoped>\n",
              "    .dataframe tbody tr th:only-of-type {\n",
              "        vertical-align: middle;\n",
              "    }\n",
              "\n",
              "    .dataframe tbody tr th {\n",
              "        vertical-align: top;\n",
              "    }\n",
              "\n",
              "    .dataframe thead th {\n",
              "        text-align: right;\n",
              "    }\n",
              "</style>\n",
              "<table border=\"1\" class=\"dataframe\">\n",
              "  <thead>\n",
              "    <tr style=\"text-align: right;\">\n",
              "      <th></th>\n",
              "      <th>id_seqpos</th>\n",
              "      <th>reactivity</th>\n",
              "      <th>deg_Mg_pH10</th>\n",
              "      <th>deg_pH10</th>\n",
              "      <th>deg_Mg_50C</th>\n",
              "      <th>deg_50C</th>\n",
              "    </tr>\n",
              "  </thead>\n",
              "  <tbody>\n",
              "    <tr>\n",
              "      <th>0</th>\n",
              "      <td>id_00073f8be_0</td>\n",
              "      <td>0.0</td>\n",
              "      <td>0.0</td>\n",
              "      <td>0.0</td>\n",
              "      <td>0.0</td>\n",
              "      <td>0.0</td>\n",
              "    </tr>\n",
              "    <tr>\n",
              "      <th>1</th>\n",
              "      <td>id_00073f8be_1</td>\n",
              "      <td>0.0</td>\n",
              "      <td>0.0</td>\n",
              "      <td>0.0</td>\n",
              "      <td>0.0</td>\n",
              "      <td>0.0</td>\n",
              "    </tr>\n",
              "    <tr>\n",
              "      <th>2</th>\n",
              "      <td>id_00073f8be_2</td>\n",
              "      <td>0.0</td>\n",
              "      <td>0.0</td>\n",
              "      <td>0.0</td>\n",
              "      <td>0.0</td>\n",
              "      <td>0.0</td>\n",
              "    </tr>\n",
              "    <tr>\n",
              "      <th>3</th>\n",
              "      <td>id_00073f8be_3</td>\n",
              "      <td>0.0</td>\n",
              "      <td>0.0</td>\n",
              "      <td>0.0</td>\n",
              "      <td>0.0</td>\n",
              "      <td>0.0</td>\n",
              "    </tr>\n",
              "    <tr>\n",
              "      <th>4</th>\n",
              "      <td>id_00073f8be_4</td>\n",
              "      <td>0.0</td>\n",
              "      <td>0.0</td>\n",
              "      <td>0.0</td>\n",
              "      <td>0.0</td>\n",
              "      <td>0.0</td>\n",
              "    </tr>\n",
              "  </tbody>\n",
              "</table>\n",
              "</div>"
            ],
            "text/plain": [
              "        id_seqpos  reactivity  deg_Mg_pH10  deg_pH10  deg_Mg_50C  deg_50C\n",
              "0  id_00073f8be_0         0.0          0.0       0.0         0.0      0.0\n",
              "1  id_00073f8be_1         0.0          0.0       0.0         0.0      0.0\n",
              "2  id_00073f8be_2         0.0          0.0       0.0         0.0      0.0\n",
              "3  id_00073f8be_3         0.0          0.0       0.0         0.0      0.0\n",
              "4  id_00073f8be_4         0.0          0.0       0.0         0.0      0.0"
            ]
          },
          "metadata": {},
          "execution_count": 319
        }
      ]
    },
    {
      "cell_type": "markdown",
      "metadata": {
        "id": "Jeym2tPDOzAQ"
      },
      "source": [
        "## Data encoding"
      ]
    },
    {
      "cell_type": "markdown",
      "metadata": {
        "id": "6B3Po3GUOIWT"
      },
      "source": [
        "II)a) Filtrage des données "
      ]
    },
    {
      "cell_type": "code",
      "metadata": {
        "id": "0tFzQcF7OPT_"
      },
      "source": [
        "train_data = train_data[train_data[\"SN_filter\"] == 1]"
      ],
      "execution_count": 320,
      "outputs": []
    },
    {
      "cell_type": "code",
      "metadata": {
        "id": "EJPUkR8NOToX",
        "colab": {
          "base_uri": "https://localhost:8080/",
          "height": 428
        },
        "outputId": "aa75bfcb-f926-486f-98d8-f4769590b04e"
      },
      "source": [
        "train_data.head()"
      ],
      "execution_count": 321,
      "outputs": [
        {
          "output_type": "execute_result",
          "data": {
            "text/html": [
              "<div>\n",
              "<style scoped>\n",
              "    .dataframe tbody tr th:only-of-type {\n",
              "        vertical-align: middle;\n",
              "    }\n",
              "\n",
              "    .dataframe tbody tr th {\n",
              "        vertical-align: top;\n",
              "    }\n",
              "\n",
              "    .dataframe thead th {\n",
              "        text-align: right;\n",
              "    }\n",
              "</style>\n",
              "<table border=\"1\" class=\"dataframe\">\n",
              "  <thead>\n",
              "    <tr style=\"text-align: right;\">\n",
              "      <th></th>\n",
              "      <th>id</th>\n",
              "      <th>sequence</th>\n",
              "      <th>structure</th>\n",
              "      <th>predicted_loop_type</th>\n",
              "      <th>signal_to_noise</th>\n",
              "      <th>SN_filter</th>\n",
              "      <th>seq_length</th>\n",
              "      <th>seq_scored</th>\n",
              "      <th>reactivity_error</th>\n",
              "      <th>deg_error_Mg_pH10</th>\n",
              "      <th>deg_error_pH10</th>\n",
              "      <th>deg_error_Mg_50C</th>\n",
              "      <th>deg_error_50C</th>\n",
              "      <th>reactivity</th>\n",
              "      <th>deg_Mg_pH10</th>\n",
              "      <th>deg_pH10</th>\n",
              "      <th>deg_Mg_50C</th>\n",
              "      <th>deg_50C</th>\n",
              "    </tr>\n",
              "  </thead>\n",
              "  <tbody>\n",
              "    <tr>\n",
              "      <th>0</th>\n",
              "      <td>id_001f94081</td>\n",
              "      <td>GGAAAAGCUCUAAUAACAGGAGACUAGGACUACGUAUUUCUAGGUA...</td>\n",
              "      <td>.....((((((.......)))).)).((.....((..((((((......</td>\n",
              "      <td>EEEEESSSSSSHHHHHHHSSSSBSSXSSIIIIISSIISSSSSSHHH...</td>\n",
              "      <td>6.894</td>\n",
              "      <td>1</td>\n",
              "      <td>107</td>\n",
              "      <td>68</td>\n",
              "      <td>[0.1359, 0.20700000000000002, 0.1633, 0.1452, ...</td>\n",
              "      <td>[0.26130000000000003, 0.38420000000000004, 0.1...</td>\n",
              "      <td>[0.2631, 0.28600000000000003, 0.0964, 0.1574, ...</td>\n",
              "      <td>[0.1501, 0.275, 0.0947, 0.18660000000000002, 0...</td>\n",
              "      <td>[0.2167, 0.34750000000000003, 0.188, 0.2124, 0...</td>\n",
              "      <td>[0.3297, 1.5693000000000001, 1.1227, 0.8686, 0...</td>\n",
              "      <td>[0.7556, 2.983, 0.2526, 1.3789, 0.637600000000...</td>\n",
              "      <td>[2.3375, 3.5060000000000002, 0.3008, 1.0108, 0...</td>\n",
              "      <td>[0.35810000000000003, 2.9683, 0.2589, 1.4552, ...</td>\n",
              "      <td>[0.6382, 3.4773, 0.9988, 1.3228, 0.78770000000...</td>\n",
              "    </tr>\n",
              "    <tr>\n",
              "      <th>2</th>\n",
              "      <td>id_006f36f57</td>\n",
              "      <td>GGAAAGUGCUCAGAUAAGCUAAGCUCGAAUAGCAAUCGAAUAGAAU...</td>\n",
              "      <td>.....((((.((.....((((.(((.....)))..((((......)...</td>\n",
              "      <td>EEEEESSSSISSIIIIISSSSMSSSHHHHHSSSMMSSSSHHHHHHS...</td>\n",
              "      <td>8.800</td>\n",
              "      <td>1</td>\n",
              "      <td>107</td>\n",
              "      <td>68</td>\n",
              "      <td>[0.0931, 0.13290000000000002, 0.11280000000000...</td>\n",
              "      <td>[0.1365, 0.2237, 0.1812, 0.1333, 0.1148, 0.160...</td>\n",
              "      <td>[0.17020000000000002, 0.178, 0.111, 0.091, 0.0...</td>\n",
              "      <td>[0.1033, 0.1464, 0.1126, 0.09620000000000001, ...</td>\n",
              "      <td>[0.14980000000000002, 0.1761, 0.1517, 0.116700...</td>\n",
              "      <td>[0.44820000000000004, 1.4822, 1.1819, 0.743400...</td>\n",
              "      <td>[0.2504, 1.4021, 0.9804, 0.49670000000000003, ...</td>\n",
              "      <td>[2.243, 2.9361, 1.0553, 0.721, 0.6396000000000...</td>\n",
              "      <td>[0.5163, 1.6823000000000001, 1.0426, 0.7902, 0...</td>\n",
              "      <td>[0.9501000000000001, 1.7974999999999999, 1.499...</td>\n",
              "    </tr>\n",
              "    <tr>\n",
              "      <th>5</th>\n",
              "      <td>id_00ab2d761</td>\n",
              "      <td>GGAAAGCGCCGCGGCGGUAGCGGCAGCGAGGAGCGCUACCAAGGCA...</td>\n",
              "      <td>.....(.(((((.(((((((((...........)))))))..(((....</td>\n",
              "      <td>EEEEESISSSSSISSSSSSSSSHHHHHHHHHHHSSSSSSSMMSSSH...</td>\n",
              "      <td>4.136</td>\n",
              "      <td>1</td>\n",
              "      <td>107</td>\n",
              "      <td>68</td>\n",
              "      <td>[0.1942, 0.2041, 0.1626, 0.1213, 0.10590000000...</td>\n",
              "      <td>[0.2726, 0.2984, 0.21660000000000001, 0.1637, ...</td>\n",
              "      <td>[0.3393, 0.2728, 0.2005, 0.1703, 0.1495, 0.134...</td>\n",
              "      <td>[0.165, 0.20520000000000002, 0.179, 0.1333, 0....</td>\n",
              "      <td>[0.2864, 0.24710000000000001, 0.2222, 0.1903, ...</td>\n",
              "      <td>[0.7642, 1.6641, 1.0622, 0.5008, 0.4107, 0.133...</td>\n",
              "      <td>[0.9559000000000001, 1.9442, 1.0114, 0.5105000...</td>\n",
              "      <td>[1.9554, 2.1298, 1.0403, 0.609, 0.5486, 0.386,...</td>\n",
              "      <td>[0.22460000000000002, 1.7281, 1.381, 0.6623, 0...</td>\n",
              "      <td>[0.5882000000000001, 1.1786, 0.9704, 0.6035, 0...</td>\n",
              "    </tr>\n",
              "    <tr>\n",
              "      <th>6</th>\n",
              "      <td>id_00abef1d7</td>\n",
              "      <td>GGAAAACAAUUGCAUCGUUAGUACGACUCCACAGCGUAAGCUGUGG...</td>\n",
              "      <td>.........((((((((......((((((((((((....)))))))...</td>\n",
              "      <td>EEEEEEEEESSSSSSSSIIIIIISSSSSSSSSSSSHHHHSSSSSSS...</td>\n",
              "      <td>2.485</td>\n",
              "      <td>1</td>\n",
              "      <td>107</td>\n",
              "      <td>68</td>\n",
              "      <td>[0.422, 0.5478000000000001, 0.4749000000000000...</td>\n",
              "      <td>[0.4801, 0.7943, 0.42160000000000003, 0.397300...</td>\n",
              "      <td>[0.9822000000000001, 1.272, 0.6940000000000001...</td>\n",
              "      <td>[0.5827, 0.7555000000000001, 0.5949, 0.4511, 0...</td>\n",
              "      <td>[0.9306000000000001, 1.0496, 0.5844, 0.7796000...</td>\n",
              "      <td>[0.895, 2.3377, 2.2305, 2.003, 1.9006, 1.0373,...</td>\n",
              "      <td>[0.46040000000000003, 3.6695, 0.78550000000000...</td>\n",
              "      <td>[2.7711, 7.365, 1.6924000000000001, 1.43840000...</td>\n",
              "      <td>[1.073, 2.8604000000000003, 1.9936, 1.0273, 1....</td>\n",
              "      <td>[2.0964, 3.3688000000000002, 0.6399, 2.1053, 1...</td>\n",
              "    </tr>\n",
              "    <tr>\n",
              "      <th>7</th>\n",
              "      <td>id_00b436dec</td>\n",
              "      <td>GGAAAUCAUCGAGGACGGGUCCGUUCAGCACGCGAAAGCGUCGUGA...</td>\n",
              "      <td>.....(((((((((((..(((((((((..((((....))))..)))...</td>\n",
              "      <td>EEEEESSSSSSSSSSSIISSSSSSSSSIISSSSHHHHSSSSIISSS...</td>\n",
              "      <td>1.727</td>\n",
              "      <td>1</td>\n",
              "      <td>107</td>\n",
              "      <td>68</td>\n",
              "      <td>[0.4843, 0.5233, 0.4554, 0.43520000000000003, ...</td>\n",
              "      <td>[0.8719, 1.0307, 0.6649, 0.34500000000000003, ...</td>\n",
              "      <td>[0.7045, 0.7775000000000001, 0.5662, 0.4561, 0...</td>\n",
              "      <td>[0.384, 0.723, 0.4766, 0.30260000000000004, 0....</td>\n",
              "      <td>[0.7429, 0.9137000000000001, 0.480400000000000...</td>\n",
              "      <td>[1.1576, 1.5137, 1.3382, 1.5622, 1.2121, 0.295...</td>\n",
              "      <td>[1.6912, 5.2652, 2.3901, 0.45890000000000003, ...</td>\n",
              "      <td>[1.8641, 2.3767, 1.149, 1.0132, 0.9876, 0.0, 0...</td>\n",
              "      <td>[0.49060000000000004, 4.6339, 1.95860000000000...</td>\n",
              "      <td>[1.2852000000000001, 2.5460000000000003, 0.234...</td>\n",
              "    </tr>\n",
              "  </tbody>\n",
              "</table>\n",
              "</div>"
            ],
            "text/plain": [
              "             id  ...                                            deg_50C\n",
              "0  id_001f94081  ...  [0.6382, 3.4773, 0.9988, 1.3228, 0.78770000000...\n",
              "2  id_006f36f57  ...  [0.9501000000000001, 1.7974999999999999, 1.499...\n",
              "5  id_00ab2d761  ...  [0.5882000000000001, 1.1786, 0.9704, 0.6035, 0...\n",
              "6  id_00abef1d7  ...  [2.0964, 3.3688000000000002, 0.6399, 2.1053, 1...\n",
              "7  id_00b436dec  ...  [1.2852000000000001, 2.5460000000000003, 0.234...\n",
              "\n",
              "[5 rows x 18 columns]"
            ]
          },
          "metadata": {},
          "execution_count": 321
        }
      ]
    },
    {
      "cell_type": "markdown",
      "metadata": {
        "id": "3j4XvCj0OsJS"
      },
      "source": [
        "### Création de x_train et y_train"
      ]
    },
    {
      "cell_type": "code",
      "metadata": {
        "id": "dVEIDyowOxLt"
      },
      "source": [
        "x_train = train_data[[\"sequence\", \"structure\", \"predicted_loop_type\"]]\n",
        "y_train = train_data[[\"reactivity\", \"deg_Mg_pH10\", \"deg_pH10\", \"deg_Mg_50C\", \"deg_50C\"]]"
      ],
      "execution_count": 322,
      "outputs": []
    },
    {
      "cell_type": "code",
      "metadata": {
        "id": "NaILbdJaPAE_",
        "colab": {
          "base_uri": "https://localhost:8080/",
          "height": 204
        },
        "outputId": "08b50654-887d-4a0e-bb85-8f0eb29017c2"
      },
      "source": [
        "x_train.head()"
      ],
      "execution_count": 323,
      "outputs": [
        {
          "output_type": "execute_result",
          "data": {
            "text/html": [
              "<div>\n",
              "<style scoped>\n",
              "    .dataframe tbody tr th:only-of-type {\n",
              "        vertical-align: middle;\n",
              "    }\n",
              "\n",
              "    .dataframe tbody tr th {\n",
              "        vertical-align: top;\n",
              "    }\n",
              "\n",
              "    .dataframe thead th {\n",
              "        text-align: right;\n",
              "    }\n",
              "</style>\n",
              "<table border=\"1\" class=\"dataframe\">\n",
              "  <thead>\n",
              "    <tr style=\"text-align: right;\">\n",
              "      <th></th>\n",
              "      <th>sequence</th>\n",
              "      <th>structure</th>\n",
              "      <th>predicted_loop_type</th>\n",
              "    </tr>\n",
              "  </thead>\n",
              "  <tbody>\n",
              "    <tr>\n",
              "      <th>0</th>\n",
              "      <td>GGAAAAGCUCUAAUAACAGGAGACUAGGACUACGUAUUUCUAGGUA...</td>\n",
              "      <td>.....((((((.......)))).)).((.....((..((((((......</td>\n",
              "      <td>EEEEESSSSSSHHHHHHHSSSSBSSXSSIIIIISSIISSSSSSHHH...</td>\n",
              "    </tr>\n",
              "    <tr>\n",
              "      <th>2</th>\n",
              "      <td>GGAAAGUGCUCAGAUAAGCUAAGCUCGAAUAGCAAUCGAAUAGAAU...</td>\n",
              "      <td>.....((((.((.....((((.(((.....)))..((((......)...</td>\n",
              "      <td>EEEEESSSSISSIIIIISSSSMSSSHHHHHSSSMMSSSSHHHHHHS...</td>\n",
              "    </tr>\n",
              "    <tr>\n",
              "      <th>5</th>\n",
              "      <td>GGAAAGCGCCGCGGCGGUAGCGGCAGCGAGGAGCGCUACCAAGGCA...</td>\n",
              "      <td>.....(.(((((.(((((((((...........)))))))..(((....</td>\n",
              "      <td>EEEEESISSSSSISSSSSSSSSHHHHHHHHHHHSSSSSSSMMSSSH...</td>\n",
              "    </tr>\n",
              "    <tr>\n",
              "      <th>6</th>\n",
              "      <td>GGAAAACAAUUGCAUCGUUAGUACGACUCCACAGCGUAAGCUGUGG...</td>\n",
              "      <td>.........((((((((......((((((((((((....)))))))...</td>\n",
              "      <td>EEEEEEEEESSSSSSSSIIIIIISSSSSSSSSSSSHHHHSSSSSSS...</td>\n",
              "    </tr>\n",
              "    <tr>\n",
              "      <th>7</th>\n",
              "      <td>GGAAAUCAUCGAGGACGGGUCCGUUCAGCACGCGAAAGCGUCGUGA...</td>\n",
              "      <td>.....(((((((((((..(((((((((..((((....))))..)))...</td>\n",
              "      <td>EEEEESSSSSSSSSSSIISSSSSSSSSIISSSSHHHHSSSSIISSS...</td>\n",
              "    </tr>\n",
              "  </tbody>\n",
              "</table>\n",
              "</div>"
            ],
            "text/plain": [
              "                                            sequence  ...                                predicted_loop_type\n",
              "0  GGAAAAGCUCUAAUAACAGGAGACUAGGACUACGUAUUUCUAGGUA...  ...  EEEEESSSSSSHHHHHHHSSSSBSSXSSIIIIISSIISSSSSSHHH...\n",
              "2  GGAAAGUGCUCAGAUAAGCUAAGCUCGAAUAGCAAUCGAAUAGAAU...  ...  EEEEESSSSISSIIIIISSSSMSSSHHHHHSSSMMSSSSHHHHHHS...\n",
              "5  GGAAAGCGCCGCGGCGGUAGCGGCAGCGAGGAGCGCUACCAAGGCA...  ...  EEEEESISSSSSISSSSSSSSSHHHHHHHHHHHSSSSSSSMMSSSH...\n",
              "6  GGAAAACAAUUGCAUCGUUAGUACGACUCCACAGCGUAAGCUGUGG...  ...  EEEEEEEEESSSSSSSSIIIIIISSSSSSSSSSSSHHHHSSSSSSS...\n",
              "7  GGAAAUCAUCGAGGACGGGUCCGUUCAGCACGCGAAAGCGUCGUGA...  ...  EEEEESSSSSSSSSSSIISSSSSSSSSIISSSSHHHHSSSSIISSS...\n",
              "\n",
              "[5 rows x 3 columns]"
            ]
          },
          "metadata": {},
          "execution_count": 323
        }
      ]
    },
    {
      "cell_type": "code",
      "metadata": {
        "id": "LqeGBbgNPE-J",
        "colab": {
          "base_uri": "https://localhost:8080/",
          "height": 289
        },
        "outputId": "a991330f-4f77-45a8-bf54-b024c46936cd"
      },
      "source": [
        "y_train.head()"
      ],
      "execution_count": 324,
      "outputs": [
        {
          "output_type": "execute_result",
          "data": {
            "text/html": [
              "<div>\n",
              "<style scoped>\n",
              "    .dataframe tbody tr th:only-of-type {\n",
              "        vertical-align: middle;\n",
              "    }\n",
              "\n",
              "    .dataframe tbody tr th {\n",
              "        vertical-align: top;\n",
              "    }\n",
              "\n",
              "    .dataframe thead th {\n",
              "        text-align: right;\n",
              "    }\n",
              "</style>\n",
              "<table border=\"1\" class=\"dataframe\">\n",
              "  <thead>\n",
              "    <tr style=\"text-align: right;\">\n",
              "      <th></th>\n",
              "      <th>reactivity</th>\n",
              "      <th>deg_Mg_pH10</th>\n",
              "      <th>deg_pH10</th>\n",
              "      <th>deg_Mg_50C</th>\n",
              "      <th>deg_50C</th>\n",
              "    </tr>\n",
              "  </thead>\n",
              "  <tbody>\n",
              "    <tr>\n",
              "      <th>0</th>\n",
              "      <td>[0.3297, 1.5693000000000001, 1.1227, 0.8686, 0...</td>\n",
              "      <td>[0.7556, 2.983, 0.2526, 1.3789, 0.637600000000...</td>\n",
              "      <td>[2.3375, 3.5060000000000002, 0.3008, 1.0108, 0...</td>\n",
              "      <td>[0.35810000000000003, 2.9683, 0.2589, 1.4552, ...</td>\n",
              "      <td>[0.6382, 3.4773, 0.9988, 1.3228, 0.78770000000...</td>\n",
              "    </tr>\n",
              "    <tr>\n",
              "      <th>2</th>\n",
              "      <td>[0.44820000000000004, 1.4822, 1.1819, 0.743400...</td>\n",
              "      <td>[0.2504, 1.4021, 0.9804, 0.49670000000000003, ...</td>\n",
              "      <td>[2.243, 2.9361, 1.0553, 0.721, 0.6396000000000...</td>\n",
              "      <td>[0.5163, 1.6823000000000001, 1.0426, 0.7902, 0...</td>\n",
              "      <td>[0.9501000000000001, 1.7974999999999999, 1.499...</td>\n",
              "    </tr>\n",
              "    <tr>\n",
              "      <th>5</th>\n",
              "      <td>[0.7642, 1.6641, 1.0622, 0.5008, 0.4107, 0.133...</td>\n",
              "      <td>[0.9559000000000001, 1.9442, 1.0114, 0.5105000...</td>\n",
              "      <td>[1.9554, 2.1298, 1.0403, 0.609, 0.5486, 0.386,...</td>\n",
              "      <td>[0.22460000000000002, 1.7281, 1.381, 0.6623, 0...</td>\n",
              "      <td>[0.5882000000000001, 1.1786, 0.9704, 0.6035, 0...</td>\n",
              "    </tr>\n",
              "    <tr>\n",
              "      <th>6</th>\n",
              "      <td>[0.895, 2.3377, 2.2305, 2.003, 1.9006, 1.0373,...</td>\n",
              "      <td>[0.46040000000000003, 3.6695, 0.78550000000000...</td>\n",
              "      <td>[2.7711, 7.365, 1.6924000000000001, 1.43840000...</td>\n",
              "      <td>[1.073, 2.8604000000000003, 1.9936, 1.0273, 1....</td>\n",
              "      <td>[2.0964, 3.3688000000000002, 0.6399, 2.1053, 1...</td>\n",
              "    </tr>\n",
              "    <tr>\n",
              "      <th>7</th>\n",
              "      <td>[1.1576, 1.5137, 1.3382, 1.5622, 1.2121, 0.295...</td>\n",
              "      <td>[1.6912, 5.2652, 2.3901, 0.45890000000000003, ...</td>\n",
              "      <td>[1.8641, 2.3767, 1.149, 1.0132, 0.9876, 0.0, 0...</td>\n",
              "      <td>[0.49060000000000004, 4.6339, 1.95860000000000...</td>\n",
              "      <td>[1.2852000000000001, 2.5460000000000003, 0.234...</td>\n",
              "    </tr>\n",
              "  </tbody>\n",
              "</table>\n",
              "</div>"
            ],
            "text/plain": [
              "                                          reactivity  ...                                            deg_50C\n",
              "0  [0.3297, 1.5693000000000001, 1.1227, 0.8686, 0...  ...  [0.6382, 3.4773, 0.9988, 1.3228, 0.78770000000...\n",
              "2  [0.44820000000000004, 1.4822, 1.1819, 0.743400...  ...  [0.9501000000000001, 1.7974999999999999, 1.499...\n",
              "5  [0.7642, 1.6641, 1.0622, 0.5008, 0.4107, 0.133...  ...  [0.5882000000000001, 1.1786, 0.9704, 0.6035, 0...\n",
              "6  [0.895, 2.3377, 2.2305, 2.003, 1.9006, 1.0373,...  ...  [2.0964, 3.3688000000000002, 0.6399, 2.1053, 1...\n",
              "7  [1.1576, 1.5137, 1.3382, 1.5622, 1.2121, 0.295...  ...  [1.2852000000000001, 2.5460000000000003, 0.234...\n",
              "\n",
              "[5 rows x 5 columns]"
            ]
          },
          "metadata": {},
          "execution_count": 324
        }
      ]
    },
    {
      "cell_type": "markdown",
      "metadata": {
        "id": "HdhswQ_HPKx8"
      },
      "source": [
        "### One-hot encoding - x_train"
      ]
    },
    {
      "cell_type": "markdown",
      "metadata": {
        "id": "7fHs-ZUASkNs"
      },
      "source": [
        "#### One-hot encoding ARN"
      ]
    },
    {
      "cell_type": "markdown",
      "metadata": {
        "id": "h9IEZ0NWP2Em"
      },
      "source": [
        "##### Création du dictionnaire ARN"
      ]
    },
    {
      "cell_type": "code",
      "metadata": {
        "id": "30tzQxd-POmv"
      },
      "source": [
        "arn_dico = {x:i for i, x in enumerate(\"ACGU\")}"
      ],
      "execution_count": 325,
      "outputs": []
    },
    {
      "cell_type": "code",
      "metadata": {
        "colab": {
          "base_uri": "https://localhost:8080/"
        },
        "id": "SLd0qgtmPVh_",
        "outputId": "ee5f9831-9483-4621-c50c-81b396c3cdd3"
      },
      "source": [
        "arn_dico"
      ],
      "execution_count": 326,
      "outputs": [
        {
          "output_type": "execute_result",
          "data": {
            "text/plain": [
              "{'A': 0, 'C': 1, 'G': 2, 'U': 3}"
            ]
          },
          "metadata": {},
          "execution_count": 326
        }
      ]
    },
    {
      "cell_type": "markdown",
      "metadata": {
        "id": "A-JThh4NQ4iy"
      },
      "source": [
        "##### Création du tableau de comptage"
      ]
    },
    {
      "cell_type": "code",
      "metadata": {
        "id": "LQ7pEJgPPqO3"
      },
      "source": [
        "x_train_seq = x_train[\"sequence\"].apply(lambda seq: [arn_dico[x] for x in seq])"
      ],
      "execution_count": 327,
      "outputs": []
    },
    {
      "cell_type": "code",
      "metadata": {
        "id": "6VhIebzEP1Dg",
        "colab": {
          "base_uri": "https://localhost:8080/"
        },
        "outputId": "8ece26d3-4d58-4bcf-b733-cab6bb098d67"
      },
      "source": [
        "np.shape(x_train_seq)"
      ],
      "execution_count": 328,
      "outputs": [
        {
          "output_type": "execute_result",
          "data": {
            "text/plain": [
              "(1589,)"
            ]
          },
          "metadata": {},
          "execution_count": 328
        }
      ]
    },
    {
      "cell_type": "markdown",
      "metadata": {
        "id": "QOULtykBQ-on"
      },
      "source": [
        "##### Mise en place dans un array ordonnée avec les 4 colonnes correspondant aux acides aminés"
      ]
    },
    {
      "cell_type": "code",
      "metadata": {
        "id": "N1gvpLEAQJEw"
      },
      "source": [
        "x_train_seq = np.array(x_train_seq.values.tolist())"
      ],
      "execution_count": 329,
      "outputs": []
    },
    {
      "cell_type": "code",
      "metadata": {
        "id": "PN2ZAI7kQQcm",
        "colab": {
          "base_uri": "https://localhost:8080/"
        },
        "outputId": "229d1755-ded8-4077-8971-5b83f881c263"
      },
      "source": [
        "print(x_train_seq)\n",
        "np.shape(x_train_seq)"
      ],
      "execution_count": 330,
      "outputs": [
        {
          "output_type": "stream",
          "name": "stdout",
          "text": [
            "[[2 2 0 ... 0 0 1]\n",
            " [2 2 0 ... 0 0 1]\n",
            " [2 2 0 ... 0 0 1]\n",
            " ...\n",
            " [2 2 0 ... 0 0 1]\n",
            " [2 2 0 ... 0 0 1]\n",
            " [2 2 0 ... 0 0 1]]\n"
          ]
        },
        {
          "output_type": "execute_result",
          "data": {
            "text/plain": [
              "(1589, 107)"
            ]
          },
          "metadata": {},
          "execution_count": 330
        }
      ]
    },
    {
      "cell_type": "markdown",
      "metadata": {
        "id": "5RwKnaI7RJ4B"
      },
      "source": [
        "Ordre des colonnes : A C G U"
      ]
    },
    {
      "cell_type": "code",
      "metadata": {
        "id": "60X7ddTwQaB1"
      },
      "source": [
        "x_train_seq_cat = to_categorical(x_train_seq, 4)"
      ],
      "execution_count": 331,
      "outputs": []
    },
    {
      "cell_type": "code",
      "metadata": {
        "id": "i-i-P8V6Qc76",
        "colab": {
          "base_uri": "https://localhost:8080/"
        },
        "outputId": "6c2851cc-5f14-4baf-d6ba-b9bb593d6613"
      },
      "source": [
        "print(x_train_seq_cat)\n",
        "np.shape(x_train_seq_cat)"
      ],
      "execution_count": 332,
      "outputs": [
        {
          "output_type": "stream",
          "name": "stdout",
          "text": [
            "[[[0. 0. 1. 0.]\n",
            "  [0. 0. 1. 0.]\n",
            "  [1. 0. 0. 0.]\n",
            "  ...\n",
            "  [1. 0. 0. 0.]\n",
            "  [1. 0. 0. 0.]\n",
            "  [0. 1. 0. 0.]]\n",
            "\n",
            " [[0. 0. 1. 0.]\n",
            "  [0. 0. 1. 0.]\n",
            "  [1. 0. 0. 0.]\n",
            "  ...\n",
            "  [1. 0. 0. 0.]\n",
            "  [1. 0. 0. 0.]\n",
            "  [0. 1. 0. 0.]]\n",
            "\n",
            " [[0. 0. 1. 0.]\n",
            "  [0. 0. 1. 0.]\n",
            "  [1. 0. 0. 0.]\n",
            "  ...\n",
            "  [1. 0. 0. 0.]\n",
            "  [1. 0. 0. 0.]\n",
            "  [0. 1. 0. 0.]]\n",
            "\n",
            " ...\n",
            "\n",
            " [[0. 0. 1. 0.]\n",
            "  [0. 0. 1. 0.]\n",
            "  [1. 0. 0. 0.]\n",
            "  ...\n",
            "  [1. 0. 0. 0.]\n",
            "  [1. 0. 0. 0.]\n",
            "  [0. 1. 0. 0.]]\n",
            "\n",
            " [[0. 0. 1. 0.]\n",
            "  [0. 0. 1. 0.]\n",
            "  [1. 0. 0. 0.]\n",
            "  ...\n",
            "  [1. 0. 0. 0.]\n",
            "  [1. 0. 0. 0.]\n",
            "  [0. 1. 0. 0.]]\n",
            "\n",
            " [[0. 0. 1. 0.]\n",
            "  [0. 0. 1. 0.]\n",
            "  [1. 0. 0. 0.]\n",
            "  ...\n",
            "  [1. 0. 0. 0.]\n",
            "  [1. 0. 0. 0.]\n",
            "  [0. 1. 0. 0.]]]\n"
          ]
        },
        {
          "output_type": "execute_result",
          "data": {
            "text/plain": [
              "(1589, 107, 4)"
            ]
          },
          "metadata": {},
          "execution_count": 332
        }
      ]
    },
    {
      "cell_type": "markdown",
      "metadata": {
        "id": "CXRHHnReSgkg"
      },
      "source": [
        "#### One-hot encoding Structure"
      ]
    },
    {
      "cell_type": "markdown",
      "metadata": {
        "id": "u2xM4QPeRc5e"
      },
      "source": [
        "Création du dictionnaire Structure"
      ]
    },
    {
      "cell_type": "code",
      "metadata": {
        "id": "F4OrTrrGRfsR"
      },
      "source": [
        "structure_dico = {x:i for i, x in enumerate(\".()\")}\n",
        "x_train_struct = x_train[\"structure\"].apply(lambda seq: [structure_dico[x] for x in seq])\n",
        "x_train_struct = np.array(x_train_struct.values.tolist())\n",
        "x_train_struct_cat = to_categorical(x_train_struct, 3)"
      ],
      "execution_count": 333,
      "outputs": []
    },
    {
      "cell_type": "code",
      "metadata": {
        "colab": {
          "base_uri": "https://localhost:8080/"
        },
        "id": "meP9z5muSTOG",
        "outputId": "15a24968-db60-465a-b7c6-34fe0b3d52ff"
      },
      "source": [
        "structure_dico"
      ],
      "execution_count": 334,
      "outputs": [
        {
          "output_type": "execute_result",
          "data": {
            "text/plain": [
              "{'(': 1, ')': 2, '.': 0}"
            ]
          },
          "metadata": {},
          "execution_count": 334
        }
      ]
    },
    {
      "cell_type": "markdown",
      "metadata": {
        "id": "GYu0C82DR1uI"
      },
      "source": [
        "Ordre des colonnes : . ( )"
      ]
    },
    {
      "cell_type": "code",
      "metadata": {
        "id": "j0SiJ_2URwCY",
        "colab": {
          "base_uri": "https://localhost:8080/"
        },
        "outputId": "67200eb1-45a9-48e1-e13d-eb33dc5e6e6f"
      },
      "source": [
        "print(x_train_struct_cat)\n",
        "np.shape(x_train_struct_cat)"
      ],
      "execution_count": 335,
      "outputs": [
        {
          "output_type": "stream",
          "name": "stdout",
          "text": [
            "[[[1. 0. 0.]\n",
            "  [1. 0. 0.]\n",
            "  [1. 0. 0.]\n",
            "  ...\n",
            "  [1. 0. 0.]\n",
            "  [1. 0. 0.]\n",
            "  [1. 0. 0.]]\n",
            "\n",
            " [[1. 0. 0.]\n",
            "  [1. 0. 0.]\n",
            "  [1. 0. 0.]\n",
            "  ...\n",
            "  [1. 0. 0.]\n",
            "  [1. 0. 0.]\n",
            "  [1. 0. 0.]]\n",
            "\n",
            " [[1. 0. 0.]\n",
            "  [1. 0. 0.]\n",
            "  [1. 0. 0.]\n",
            "  ...\n",
            "  [1. 0. 0.]\n",
            "  [1. 0. 0.]\n",
            "  [1. 0. 0.]]\n",
            "\n",
            " ...\n",
            "\n",
            " [[1. 0. 0.]\n",
            "  [1. 0. 0.]\n",
            "  [1. 0. 0.]\n",
            "  ...\n",
            "  [1. 0. 0.]\n",
            "  [1. 0. 0.]\n",
            "  [1. 0. 0.]]\n",
            "\n",
            " [[1. 0. 0.]\n",
            "  [1. 0. 0.]\n",
            "  [1. 0. 0.]\n",
            "  ...\n",
            "  [1. 0. 0.]\n",
            "  [1. 0. 0.]\n",
            "  [1. 0. 0.]]\n",
            "\n",
            " [[1. 0. 0.]\n",
            "  [1. 0. 0.]\n",
            "  [1. 0. 0.]\n",
            "  ...\n",
            "  [1. 0. 0.]\n",
            "  [1. 0. 0.]\n",
            "  [1. 0. 0.]]]\n"
          ]
        },
        {
          "output_type": "execute_result",
          "data": {
            "text/plain": [
              "(1589, 107, 3)"
            ]
          },
          "metadata": {},
          "execution_count": 335
        }
      ]
    },
    {
      "cell_type": "markdown",
      "metadata": {
        "id": "ycH9fXz3Sc1S"
      },
      "source": [
        "#### One-hot encoding loop"
      ]
    },
    {
      "cell_type": "markdown",
      "metadata": {
        "id": "oxS26FHkSwCh"
      },
      "source": [
        "Création du dictionnaire et mise en place du tableau loop"
      ]
    },
    {
      "cell_type": "code",
      "metadata": {
        "id": "jdPKIJ6GSAtk"
      },
      "source": [
        "dico_loop = {x:i for i, x in enumerate(\"BEHIMSX\")}\n",
        "x_train_loop = x_train[\"predicted_loop_type\"].apply(lambda seq: [dico_loop[x] for x in seq])\n",
        "x_train_loop = np.array(x_train_loop.values.tolist())\n",
        "x_train_loop_cat = to_categorical(x_train_loop, 7)"
      ],
      "execution_count": 336,
      "outputs": []
    },
    {
      "cell_type": "code",
      "metadata": {
        "colab": {
          "base_uri": "https://localhost:8080/"
        },
        "id": "foamTAr7SPqi",
        "outputId": "6db52712-23f9-4def-c445-c1185e061ea2"
      },
      "source": [
        "dico_loop"
      ],
      "execution_count": 337,
      "outputs": [
        {
          "output_type": "execute_result",
          "data": {
            "text/plain": [
              "{'B': 0, 'E': 1, 'H': 2, 'I': 3, 'M': 4, 'S': 5, 'X': 6}"
            ]
          },
          "metadata": {},
          "execution_count": 337
        }
      ]
    },
    {
      "cell_type": "markdown",
      "metadata": {
        "id": "AMFydzczS4k2"
      },
      "source": [
        "Ordre des colonnes : B E H I M S X"
      ]
    },
    {
      "cell_type": "code",
      "metadata": {
        "id": "r2yYjh3dS89_",
        "colab": {
          "base_uri": "https://localhost:8080/"
        },
        "outputId": "c4f3fae2-a81e-4ca8-edb7-0b76ea2a07ed"
      },
      "source": [
        "print(x_train_loop_cat)\n",
        "np.shape(x_train_loop_cat)"
      ],
      "execution_count": 338,
      "outputs": [
        {
          "output_type": "stream",
          "name": "stdout",
          "text": [
            "[[[0. 1. 0. ... 0. 0. 0.]\n",
            "  [0. 1. 0. ... 0. 0. 0.]\n",
            "  [0. 1. 0. ... 0. 0. 0.]\n",
            "  ...\n",
            "  [0. 1. 0. ... 0. 0. 0.]\n",
            "  [0. 1. 0. ... 0. 0. 0.]\n",
            "  [0. 1. 0. ... 0. 0. 0.]]\n",
            "\n",
            " [[0. 1. 0. ... 0. 0. 0.]\n",
            "  [0. 1. 0. ... 0. 0. 0.]\n",
            "  [0. 1. 0. ... 0. 0. 0.]\n",
            "  ...\n",
            "  [0. 1. 0. ... 0. 0. 0.]\n",
            "  [0. 1. 0. ... 0. 0. 0.]\n",
            "  [0. 1. 0. ... 0. 0. 0.]]\n",
            "\n",
            " [[0. 1. 0. ... 0. 0. 0.]\n",
            "  [0. 1. 0. ... 0. 0. 0.]\n",
            "  [0. 1. 0. ... 0. 0. 0.]\n",
            "  ...\n",
            "  [0. 1. 0. ... 0. 0. 0.]\n",
            "  [0. 1. 0. ... 0. 0. 0.]\n",
            "  [0. 1. 0. ... 0. 0. 0.]]\n",
            "\n",
            " ...\n",
            "\n",
            " [[0. 1. 0. ... 0. 0. 0.]\n",
            "  [0. 1. 0. ... 0. 0. 0.]\n",
            "  [0. 1. 0. ... 0. 0. 0.]\n",
            "  ...\n",
            "  [0. 1. 0. ... 0. 0. 0.]\n",
            "  [0. 1. 0. ... 0. 0. 0.]\n",
            "  [0. 1. 0. ... 0. 0. 0.]]\n",
            "\n",
            " [[0. 1. 0. ... 0. 0. 0.]\n",
            "  [0. 1. 0. ... 0. 0. 0.]\n",
            "  [0. 1. 0. ... 0. 0. 0.]\n",
            "  ...\n",
            "  [0. 1. 0. ... 0. 0. 0.]\n",
            "  [0. 1. 0. ... 0. 0. 0.]\n",
            "  [0. 1. 0. ... 0. 0. 0.]]\n",
            "\n",
            " [[0. 1. 0. ... 0. 0. 0.]\n",
            "  [0. 1. 0. ... 0. 0. 0.]\n",
            "  [0. 1. 0. ... 0. 0. 0.]\n",
            "  ...\n",
            "  [0. 1. 0. ... 0. 0. 0.]\n",
            "  [0. 1. 0. ... 0. 0. 0.]\n",
            "  [0. 1. 0. ... 0. 0. 0.]]]\n"
          ]
        },
        {
          "output_type": "execute_result",
          "data": {
            "text/plain": [
              "(1589, 107, 7)"
            ]
          },
          "metadata": {},
          "execution_count": 338
        }
      ]
    },
    {
      "cell_type": "markdown",
      "metadata": {
        "id": "9BpB_xk5TX7W"
      },
      "source": [
        "### Concaténation des 3 tableaux dans x_train"
      ]
    },
    {
      "cell_type": "code",
      "metadata": {
        "colab": {
          "base_uri": "https://localhost:8080/"
        },
        "id": "ugTIY6kiTNjx",
        "outputId": "3ea2320a-8466-430c-fecb-061cc6f1d98a"
      },
      "source": [
        "print(x_train)\n",
        "np.shape(x_train)"
      ],
      "execution_count": 339,
      "outputs": [
        {
          "output_type": "stream",
          "name": "stdout",
          "text": [
            "                                               sequence  ...                                predicted_loop_type\n",
            "0     GGAAAAGCUCUAAUAACAGGAGACUAGGACUACGUAUUUCUAGGUA...  ...  EEEEESSSSSSHHHHHHHSSSSBSSXSSIIIIISSIISSSSSSHHH...\n",
            "2     GGAAAGUGCUCAGAUAAGCUAAGCUCGAAUAGCAAUCGAAUAGAAU...  ...  EEEEESSSSISSIIIIISSSSMSSSHHHHHSSSMMSSSSHHHHHHS...\n",
            "5     GGAAAGCGCCGCGGCGGUAGCGGCAGCGAGGAGCGCUACCAAGGCA...  ...  EEEEESISSSSSISSSSSSSSSHHHHHHHHHHHSSSSSSSMMSSSH...\n",
            "6     GGAAAACAAUUGCAUCGUUAGUACGACUCCACAGCGUAAGCUGUGG...  ...  EEEEEEEEESSSSSSSSIIIIIISSSSSSSSSSSSHHHHSSSSSSS...\n",
            "7     GGAAAUCAUCGAGGACGGGUCCGUUCAGCACGCGAAAGCGUCGUGA...  ...  EEEEESSSSSSSSSSSIISSSSSSSSSIISSSSHHHHSSSSIISSS...\n",
            "...                                                 ...  ...                                                ...\n",
            "2392  GGAAACUCCACAUCUCUACGCCACGAAAGUGGGUAGGAUGGGAGAG...  ...  EEEEESSSSBSSSSBSSSSBSSSSHHHHSSSSSSSSSSSSSSSSMS...\n",
            "2393  GGAAAAGAUCGAUAGGUACGUGGGUUCAUGUAGGAAACUAGCUGGC...  ...  EEEEEESSSSIIIISSSSSSSSSSSBSSIISSSHHHHSSSIISSSS...\n",
            "2395  GGAAAAUAGCAGAGGAAAUACUAGAGCAAUUGCAAAGGCCGAUCAU...  ...  EEEEEEEESSIISSHHHHHHSSIIISSXXXXXXXXXSSSHHHHHHH...\n",
            "2396  GGAAAACAAAAACAAACAACAAAAACAAACAACAAAAACAAACAAC...  ...  EEEEEEEEEEEEEEEEEEEEEEEEEEEEEEEEEEEEEEEEEEEEEE...\n",
            "2399  GGAAAGCUAGGACGUGGGAGCGUAGCUCUCCACACGGGUACGCCAA...  ...  EEEEESSSSSSSSSSSSSSSSHHHSSSSBSSSSMSSSSSSSSSSHH...\n",
            "\n",
            "[1589 rows x 3 columns]\n"
          ]
        },
        {
          "output_type": "execute_result",
          "data": {
            "text/plain": [
              "(1589, 3)"
            ]
          },
          "metadata": {},
          "execution_count": 339
        }
      ]
    },
    {
      "cell_type": "code",
      "metadata": {
        "id": "dMeLtS4s8XYe"
      },
      "source": [
        "x_train = np.concatenate((x_train_seq_cat, x_train_struct_cat, x_train_loop_cat), axis=2)"
      ],
      "execution_count": 340,
      "outputs": []
    },
    {
      "cell_type": "markdown",
      "metadata": {
        "id": "teX9RBWITfc3"
      },
      "source": [
        "### Selectoin des 68 premières bases"
      ]
    },
    {
      "cell_type": "code",
      "metadata": {
        "id": "FjRN-hpFTjr5"
      },
      "source": [
        "x_train = x_train[:,:68,:]"
      ],
      "execution_count": 341,
      "outputs": []
    },
    {
      "cell_type": "code",
      "metadata": {
        "id": "rjPT0pOPToZY",
        "colab": {
          "base_uri": "https://localhost:8080/"
        },
        "outputId": "87b3d851-98b2-448a-bcab-c2f74dcb7593"
      },
      "source": [
        "np.shape(x_train)"
      ],
      "execution_count": 342,
      "outputs": [
        {
          "output_type": "execute_result",
          "data": {
            "text/plain": [
              "(1589, 68, 14)"
            ]
          },
          "metadata": {},
          "execution_count": 342
        }
      ]
    },
    {
      "cell_type": "markdown",
      "metadata": {
        "id": "cqQI7cH9Va9H"
      },
      "source": [
        "### Creation de y_train"
      ]
    },
    {
      "cell_type": "code",
      "metadata": {
        "id": "-rsDXSx6VaGb"
      },
      "source": [
        "y_train_reactivity =  np.array(y_train[\"reactivity\"].values.tolist())"
      ],
      "execution_count": 343,
      "outputs": []
    },
    {
      "cell_type": "code",
      "metadata": {
        "colab": {
          "base_uri": "https://localhost:8080/"
        },
        "id": "tBsE3ILqVlfo",
        "outputId": "e5a51656-fe9a-456a-941d-7455e2968804"
      },
      "source": [
        "print(y_train_reactivity)\n",
        "np.shape(y_train_reactivity)"
      ],
      "execution_count": 344,
      "outputs": [
        {
          "output_type": "stream",
          "name": "stdout",
          "text": [
            "[[ 0.3297  1.5693  1.1227 ...  0.2937  0.2362  0.5731]\n",
            " [ 0.4482  1.4822  1.1819 ...  0.6449  0.04    0.5446]\n",
            " [ 0.7642  1.6641  1.0622 ...  0.1107  0.2261  0.3238]\n",
            " ...\n",
            " [ 0.6957  1.251   1.3236 ... -0.0043  0.0521  0.0874]\n",
            " [ 0.2891  0.4496  0.7165 ...  0.8738  0.2816  0.554 ]\n",
            " [ 1.0102  1.7928  1.9228 ...  0.0381 -0.0066  0.0706]]\n"
          ]
        },
        {
          "output_type": "execute_result",
          "data": {
            "text/plain": [
              "(1589, 68)"
            ]
          },
          "metadata": {},
          "execution_count": 344
        }
      ]
    },
    {
      "cell_type": "code",
      "metadata": {
        "id": "PoYsmVzsVn6f"
      },
      "source": [
        "y_train_deg_Mg_pH10 =  np.array(y_train[\"deg_Mg_pH10\"].values.tolist())\n",
        "y_train_deg_Mg_50C =  np.array(y_train[\"deg_Mg_50C\"].values.tolist())\n",
        "y_train_deg_pH10 =  np.array(y_train[\"deg_pH10\"].values.tolist())\n",
        "y_train_deg_50C =  np.array(y_train[\"deg_50C\"].values.tolist())"
      ],
      "execution_count": 345,
      "outputs": []
    },
    {
      "cell_type": "markdown",
      "metadata": {
        "id": "pky8diBIWC_a"
      },
      "source": [
        "### Concaténation de y_train le long d'un nouvelle axe"
      ]
    },
    {
      "cell_type": "code",
      "metadata": {
        "id": "Eg5U8-znVuql"
      },
      "source": [
        "y_train =  np.stack([y_train_reactivity, y_train_deg_Mg_pH10, y_train_deg_Mg_50C, y_train_deg_pH10, y_train_deg_50C], axis = 2)"
      ],
      "execution_count": 346,
      "outputs": []
    },
    {
      "cell_type": "code",
      "metadata": {
        "colab": {
          "base_uri": "https://localhost:8080/"
        },
        "id": "fRizYHnZV21i",
        "outputId": "0db59677-a112-4463-9e75-a527923ca510"
      },
      "source": [
        "print(y_train)\n",
        "np.shape(y_train)"
      ],
      "execution_count": 347,
      "outputs": [
        {
          "output_type": "stream",
          "name": "stdout",
          "text": [
            "[[[ 3.2970e-01  7.5560e-01  3.5810e-01  2.3375e+00  6.3820e-01]\n",
            "  [ 1.5693e+00  2.9830e+00  2.9683e+00  3.5060e+00  3.4773e+00]\n",
            "  [ 1.1227e+00  2.5260e-01  2.5890e-01  3.0080e-01  9.9880e-01]\n",
            "  ...\n",
            "  [ 2.9370e-01  3.3360e-01  4.8120e-01  5.1420e-01  3.2870e-01]\n",
            "  [ 2.3620e-01  6.4910e-01  7.0260e-01  7.6810e-01  5.3010e-01]\n",
            "  [ 5.7310e-01  6.8980e-01  4.2540e-01  1.1720e+00  8.4720e-01]]\n",
            "\n",
            " [[ 4.4820e-01  2.5040e-01  5.1630e-01  2.2430e+00  9.5010e-01]\n",
            "  [ 1.4822e+00  1.4021e+00  1.6823e+00  2.9361e+00  1.7975e+00]\n",
            "  [ 1.1819e+00  9.8040e-01  1.0426e+00  1.0553e+00  1.4991e+00]\n",
            "  ...\n",
            "  [ 6.4490e-01  1.6819e+00  1.4640e+00  1.0621e+00  7.7890e-01]\n",
            "  [ 4.0000e-02  5.3670e-01  4.2010e-01  4.3910e-01  3.3480e-01]\n",
            "  [ 5.4460e-01  1.2400e+00  8.5750e-01  1.0076e+00  5.8270e-01]]\n",
            "\n",
            " [[ 7.6420e-01  9.5590e-01  2.2460e-01  1.9554e+00  5.8820e-01]\n",
            "  [ 1.6641e+00  1.9442e+00  1.7281e+00  2.1298e+00  1.1786e+00]\n",
            "  [ 1.0622e+00  1.0114e+00  1.3810e+00  1.0403e+00  9.7040e-01]\n",
            "  ...\n",
            "  [ 1.1070e-01  6.4010e-01  6.5630e-01  7.2700e-01  3.1360e-01]\n",
            "  [ 2.2610e-01  5.7300e-01  5.9310e-01  8.4250e-01  7.7760e-01]\n",
            "  [ 3.2380e-01  5.7170e-01  4.2540e-01  1.4318e+00  9.1730e-01]]\n",
            "\n",
            " ...\n",
            "\n",
            " [[ 6.9570e-01  6.4390e-01  4.7900e-01  2.1589e+00  5.7590e-01]\n",
            "  [ 1.2510e+00  2.0117e+00  1.9583e+00  3.3601e+00  2.3736e+00]\n",
            "  [ 1.3236e+00  1.3682e+00  2.4635e+00  1.6179e+00  1.4158e+00]\n",
            "  ...\n",
            "  [-4.3000e-03  7.6400e-02  8.8000e-03  2.0300e-02  1.9000e-03]\n",
            "  [ 5.2100e-02  1.6250e-01  3.4700e-02  4.4100e-02 -5.3000e-02]\n",
            "  [ 8.7400e-02  2.0020e-01  2.7050e-01  3.1940e-01  1.6750e-01]]\n",
            "\n",
            " [[ 2.8910e-01  3.6190e-01  2.9640e-01  2.8541e+00  6.5260e-01]\n",
            "  [ 4.4960e-01  6.9240e-01  9.3510e-01  1.6106e+00  2.5480e-01]\n",
            "  [ 7.1650e-01  2.9880e-01  2.5550e-01  1.4343e+00  6.9270e-01]\n",
            "  ...\n",
            "  [ 8.7380e-01  3.2310e-01  7.3610e-01  4.3390e-01  4.7270e-01]\n",
            "  [ 2.8160e-01  2.4430e-01  4.4170e-01  1.1470e-01  3.2700e-01]\n",
            "  [ 5.5400e-01  3.5380e-01  2.7820e-01  9.1470e-01  4.8630e-01]]\n",
            "\n",
            " [[ 1.0102e+00  1.4842e+00  1.3281e+00  2.3588e+00  7.0430e-01]\n",
            "  [ 1.7928e+00  2.4813e+00  2.3854e+00  2.2161e+00  1.4864e+00]\n",
            "  [ 1.9228e+00  1.7370e+00  2.0464e+00  1.2522e+00  1.3035e+00]\n",
            "  ...\n",
            "  [ 3.8100e-02  1.8270e-01  2.0470e-01  1.6420e-01  1.1200e-01]\n",
            "  [-6.6000e-03  3.2610e-01  2.4470e-01  1.6540e-01  1.1860e-01]\n",
            "  [ 7.0600e-02  4.5290e-01  1.8020e-01  4.8400e-01  3.0130e-01]]]\n"
          ]
        },
        {
          "output_type": "execute_result",
          "data": {
            "text/plain": [
              "(1589, 68, 5)"
            ]
          },
          "metadata": {},
          "execution_count": 347
        }
      ]
    },
    {
      "cell_type": "markdown",
      "metadata": {
        "id": "t0sUpRRGd-JS"
      },
      "source": [
        "### Modèles d'évaluation en \"10-fold Cross-Validation\""
      ]
    },
    {
      "cell_type": "markdown",
      "metadata": {
        "id": "jkBW0sQVeJn-"
      },
      "source": [
        "Choisir les données que l'ont veut prédire"
      ]
    },
    {
      "cell_type": "code",
      "metadata": {
        "id": "k-LlaXoGeGnU",
        "colab": {
          "base_uri": "https://localhost:8080/"
        },
        "outputId": "83f9dd72-5401-4a2c-fc4b-9e981d2ca10d"
      },
      "source": [
        "y_train =  np.stack([y_train_reactivity, y_train_deg_Mg_pH10, y_train_deg_Mg_50C, y_train_deg_pH10, y_train_deg_50C], axis = 2)\n",
        "y_train.shape[2]"
      ],
      "execution_count": 348,
      "outputs": [
        {
          "output_type": "execute_result",
          "data": {
            "text/plain": [
              "5"
            ]
          },
          "metadata": {},
          "execution_count": 348
        }
      ]
    },
    {
      "cell_type": "code",
      "metadata": {
        "colab": {
          "base_uri": "https://localhost:8080/"
        },
        "id": "XC-Xl3EipW33",
        "outputId": "c3605ee8-ac94-490c-ae02-3a30eddedecc"
      },
      "source": [
        "print(y_train.shape)"
      ],
      "execution_count": 349,
      "outputs": [
        {
          "output_type": "stream",
          "name": "stdout",
          "text": [
            "(1589, 68, 5)\n"
          ]
        }
      ]
    },
    {
      "cell_type": "markdown",
      "metadata": {
        "id": "DfUEMadfvv6_"
      },
      "source": [
        "### One-hot encoding des données Tests"
      ]
    },
    {
      "cell_type": "code",
      "metadata": {
        "id": "3NZaplTBv0KO"
      },
      "source": [
        "X_test_107 = test_data.query(\"seq_length == 107\")\n",
        "X_test_130 = test_data.query(\"seq_length == 130\")"
      ],
      "execution_count": 350,
      "outputs": []
    },
    {
      "cell_type": "code",
      "metadata": {
        "colab": {
          "base_uri": "https://localhost:8080/"
        },
        "id": "etBybXA9jVvK",
        "outputId": "7f392500-292c-4b24-b173-62cd4e2fbacb"
      },
      "source": [
        "X_test_107.sum"
      ],
      "execution_count": 351,
      "outputs": [
        {
          "output_type": "execute_result",
          "data": {
            "text/plain": [
              "<bound method DataFrame.sum of                 id  ... seq_scored\n",
              "0     id_00073f8be  ...         68\n",
              "2     id_00131c573  ...         68\n",
              "3     id_00181fd34  ...         68\n",
              "18    id_00ca60e44  ...         68\n",
              "23    id_00e99b69c  ...         68\n",
              "...            ...  ...        ...\n",
              "3609  id_fd96725a9  ...         68\n",
              "3616  id_fe2102731  ...         68\n",
              "3622  id_febefd9c1  ...         68\n",
              "3623  id_ff2d18b94  ...         68\n",
              "3627  id_ff5b068b6  ...         68\n",
              "\n",
              "[629 rows x 6 columns]>"
            ]
          },
          "metadata": {},
          "execution_count": 351
        }
      ]
    },
    {
      "cell_type": "code",
      "metadata": {
        "colab": {
          "base_uri": "https://localhost:8080/"
        },
        "id": "BojDiAWqsJ_x",
        "outputId": "26bac83e-d45d-4793-a46f-2795ad4369c6"
      },
      "source": [
        "X_test_130.sum"
      ],
      "execution_count": 352,
      "outputs": [
        {
          "output_type": "execute_result",
          "data": {
            "text/plain": [
              "<bound method DataFrame.sum of                 id  ... seq_scored\n",
              "1     id_000ae4237  ...         91\n",
              "4     id_0020473f7  ...         91\n",
              "5     id_002852873  ...         91\n",
              "6     id_0031191b7  ...         91\n",
              "7     id_003ab2445  ...         91\n",
              "...            ...  ...        ...\n",
              "3629  id_ff691b7e5  ...         91\n",
              "3630  id_ff9bf3581  ...         91\n",
              "3631  id_ffc8f96a8  ...         91\n",
              "3632  id_ffd7e8cc1  ...         91\n",
              "3633  id_ffda94f24  ...         91\n",
              "\n",
              "[3005 rows x 6 columns]>"
            ]
          },
          "metadata": {},
          "execution_count": 352
        }
      ]
    },
    {
      "cell_type": "markdown",
      "metadata": {
        "id": "KSUGLOcuwMyi"
      },
      "source": [
        "## Données Publiques (107 bp) - Test"
      ]
    },
    {
      "cell_type": "code",
      "metadata": {
        "id": "0L4cm2jzv0P_"
      },
      "source": [
        "#arn_dico = {x:i for i, x in enumerate(\"ACGU\")}\n",
        "X_test_107_seq = X_test_107[\"sequence\"].apply(lambda seq: [arn_dico[x] for x in seq])\n",
        "X_test_107_seq = np.array(X_test_107_seq.tolist())\n",
        "X_test_107_seq = to_categorical(X_test_107_seq, 4)"
      ],
      "execution_count": 353,
      "outputs": []
    },
    {
      "cell_type": "code",
      "metadata": {
        "id": "BKmV25jtJp6x"
      },
      "source": [
        "#structure_dico = {x:i for i, x in enumerate(\".()\")}\n",
        "X_test_107_struct = X_test_107[\"structure\"].apply(lambda seq: [structure_dico[x] for x in seq])\n",
        "X_test_107_struct = np.array(X_test_107_struct.values.tolist())\n",
        "X_test_107_struct = to_categorical(X_test_107_struct, 3)"
      ],
      "execution_count": 354,
      "outputs": []
    },
    {
      "cell_type": "code",
      "metadata": {
        "id": "yr6qXKngJqDL"
      },
      "source": [
        "#dico_loop = {x:i for i, x in enumerate(\"BEHIMSX\")}\n",
        "X_test_107_loop = X_test_107[\"predicted_loop_type\"].apply(lambda seq: [dico_loop[x] for x in seq])\n",
        "X_test_107_loop = np.array(X_test_107_loop.values.tolist())\n",
        "X_test_107_loop = to_categorical(X_test_107_loop, 7)"
      ],
      "execution_count": 355,
      "outputs": []
    },
    {
      "cell_type": "code",
      "metadata": {
        "id": "BFhCx3qkJqJl"
      },
      "source": [
        "X_test_107_all = np.concatenate((X_test_107_seq, X_test_107_struct, X_test_107_loop), axis=2)"
      ],
      "execution_count": 356,
      "outputs": []
    },
    {
      "cell_type": "code",
      "metadata": {
        "id": "tj7M-rRIi2im"
      },
      "source": [
        "X_test_107_all = X_test_107_all[:,:68,:]"
      ],
      "execution_count": 357,
      "outputs": []
    },
    {
      "cell_type": "code",
      "metadata": {
        "colab": {
          "base_uri": "https://localhost:8080/"
        },
        "id": "b0RKBCXbjFS4",
        "outputId": "c2ed8e6d-ca88-42eb-ca15-5552bea3c3d5"
      },
      "source": [
        "np.shape(X_test_107_all)"
      ],
      "execution_count": 358,
      "outputs": [
        {
          "output_type": "execute_result",
          "data": {
            "text/plain": [
              "(629, 68, 14)"
            ]
          },
          "metadata": {},
          "execution_count": 358
        }
      ]
    },
    {
      "cell_type": "markdown",
      "metadata": {
        "id": "Vwa1wtPIJoIu"
      },
      "source": [
        "## Données Privées (130 bp) - Test"
      ]
    },
    {
      "cell_type": "code",
      "metadata": {
        "id": "DjtvJEwwJrlW"
      },
      "source": [
        "#arn_dico = {x:i for i, x in enumerate(\"ACGU\")}\n",
        "X_test_130_seq = X_test_130[\"sequence\"].apply(lambda seq: [arn_dico[x] for x in seq])\n",
        "X_test_130_seq = np.array(X_test_130_seq.tolist())\n",
        "X_test_130_seq = to_categorical(X_test_130_seq, 4)"
      ],
      "execution_count": 359,
      "outputs": []
    },
    {
      "cell_type": "code",
      "metadata": {
        "id": "u5ppXQ3JJiHt"
      },
      "source": [
        "#structure_dico = {x:i for i, x in enumerate(\".()\")}\n",
        "X_test_130_struct = X_test_130[\"structure\"].apply(lambda seq: [structure_dico[x] for x in seq])\n",
        "X_test_130_struct = np.array(X_test_130_struct.values.tolist())\n",
        "X_test_130_struct = to_categorical(X_test_130_struct, 3)"
      ],
      "execution_count": 360,
      "outputs": []
    },
    {
      "cell_type": "code",
      "metadata": {
        "id": "qiXXEOMVJjyd"
      },
      "source": [
        "#dico_loop = {x:i for i, x in enumerate(\"BEHIMSX\")}\n",
        "X_test_130_loop = X_test_130[\"predicted_loop_type\"].apply(lambda seq: [dico_loop[x] for x in seq])\n",
        "X_test_130_loop = np.array(X_test_130_loop.values.tolist())\n",
        "X_test_130_loop = to_categorical(X_test_130_loop, 7)"
      ],
      "execution_count": 361,
      "outputs": []
    },
    {
      "cell_type": "code",
      "metadata": {
        "id": "VpXJx-xdJlf9"
      },
      "source": [
        "X_test_130_all = np.concatenate((X_test_130_seq, X_test_130_struct, X_test_130_loop), axis=2)"
      ],
      "execution_count": 362,
      "outputs": []
    },
    {
      "cell_type": "markdown",
      "metadata": {
        "id": "VGAekrdQjvPg"
      },
      "source": [
        "# Définition des paramètres métriques et des graphiques d'analyse"
      ]
    },
    {
      "cell_type": "markdown",
      "metadata": {
        "id": "gsoeVhaCefjY"
      },
      "source": [
        "## Evaluation du modèle\n",
        "\n",
        "Dans ce projet, il est spécifier d'utiliser une certaine méthode pour le calcul de l'évaluation de notre modèle, la 'mean columnwise root mean square error' ou MCRMSE, définie comme :\n",
        "$\n",
        "MCRMSE = \\frac{1}{N_t}\\sum\\limits_{j=1}^{N_t}\\sqrt{\\frac{1}{N}\\sum\\limits_{i=1}^{n}(y_{ij}-\\hat{y_{ij}})^2}\n",
        "$\n",
        "\n",
        "On définit donc une fonction pour calculer selon cette équation :"
      ]
    },
    {
      "cell_type": "code",
      "metadata": {
        "id": "08uBUuRl5ymT"
      },
      "source": [
        "def rmse(real_y, prediction_y):\n",
        "    mse = tf.keras.losses.mean_squared_error(real_y, prediction_y)\n",
        "    return backend.sqrt(mse)\n",
        "\n",
        "def MCRMSE(real_y, prediction_y, score_n=y_train.shape[2]):\n",
        "    score = 0\n",
        "    for i in range(score_n):\n",
        "        score += rmse(real_y[:, :, i], prediction_y[:, :, i]) / score_n\n",
        "    return score"
      ],
      "execution_count": 363,
      "outputs": []
    },
    {
      "cell_type": "markdown",
      "metadata": {
        "id": "wJj4Uq6pilzd"
      },
      "source": [
        "Pour voir l'évolution du modèle, on utilisera donc cette fonction à la place de la loss\n",
        "\n",
        "### Visualisation des paramètres\n",
        "\n",
        "Pour visualiser l'évolution des paramètres, on affichera après chaque apprentissage du modèle deux graphiques, représentants l'évolution de la MCRMSE et de la précision du modèle après chaque époques. Pour que le code reste lisible, on définit une fonction qui fera cet affichage en une ligne :"
      ]
    },
    {
      "cell_type": "code",
      "metadata": {
        "id": "OuLy4NsBXpd6"
      },
      "source": [
        "def plot_loss(model_history, title_model):\n",
        "  plt.plot(model_history.history['loss'])\n",
        "  plt.plot(model_history.history['val_loss'])\n",
        "  plt.xlabel(\"epochs\")\n",
        "  plt.ylabel(\"MCRMSE (loss)\")\n",
        "  plt.title(f\"{title_model} loss (MCRMSE)\")\n",
        "  plt.legend(['train', 'val'], loc='upper left')\n",
        "\n",
        "def plot_acc(model_history, title_model):\n",
        "  plt.plot(model_history.history['accuracy'])\n",
        "  plt.plot(model_history.history['val_accuracy'])\n",
        "  plt.xlabel(\"epochs\")\n",
        "  plt.ylabel(\"accuracy\")\n",
        "  plt.title (f\"{title_model} accuracy\")\n",
        "  plt.legend(['train', 'val'], loc='upper left')"
      ],
      "execution_count": 364,
      "outputs": []
    },
    {
      "cell_type": "markdown",
      "metadata": {
        "id": "TZRwfV4jkE2Y"
      },
      "source": [
        "La visualisation de la précision du modèle reste peu fiable car elle est basée sur les même données que l'apprentissage. Elle nous permettera donc d'évaluer provisoirement le modèle mais une deuxième évaluation devra être réalisée avec les données tests. "
      ]
    },
    {
      "cell_type": "markdown",
      "metadata": {
        "id": "B6YGFPi2kxuw"
      },
      "source": [
        "# Création des modèles et première évaluation"
      ]
    },
    {
      "cell_type": "markdown",
      "metadata": {
        "id": "Vz2WOnSRkjLO"
      },
      "source": [
        "## Modèle Dense simple\n",
        "\n",
        "Dans un permier temps, nous allons tester un modèle simple, composer uniquement de couche de type Dense"
      ]
    },
    {
      "cell_type": "code",
      "metadata": {
        "id": "1-NBqxApzcuC",
        "colab": {
          "base_uri": "https://localhost:8080/"
        },
        "outputId": "a14b82f8-615e-4dab-aacd-faaf86255610"
      },
      "source": [
        "# Création d'un modèle Dense en séquentiel\n",
        "model_dense = Sequential()\n",
        "model_dense.add(Dense(64, input_shape=(68, 14), activation='softmax'))\n",
        "model_dense.add(Dense(32, activation=\"softmax\"))\n",
        "model_dense.add(Dense(16, activation=\"softmax\"))\n",
        "model_dense.add(Dense(5, activation = \"linear\"))\n",
        "\n",
        "model_dense.compile(optimizer=\"adam\", loss= MCRMSE, metrics=['accuracy'])\n",
        "\n",
        "model_dense.summary()"
      ],
      "execution_count": 365,
      "outputs": [
        {
          "output_type": "stream",
          "name": "stdout",
          "text": [
            "Model: \"sequential_6\"\n",
            "_________________________________________________________________\n",
            "Layer (type)                 Output Shape              Param #   \n",
            "=================================================================\n",
            "dense_24 (Dense)             (None, 68, 64)            960       \n",
            "_________________________________________________________________\n",
            "dense_25 (Dense)             (None, 68, 32)            2080      \n",
            "_________________________________________________________________\n",
            "dense_26 (Dense)             (None, 68, 16)            528       \n",
            "_________________________________________________________________\n",
            "dense_27 (Dense)             (None, 68, 5)             85        \n",
            "=================================================================\n",
            "Total params: 3,653\n",
            "Trainable params: 3,653\n",
            "Non-trainable params: 0\n",
            "_________________________________________________________________\n"
          ]
        }
      ]
    },
    {
      "cell_type": "code",
      "metadata": {
        "colab": {
          "base_uri": "https://localhost:8080/",
          "height": 533
        },
        "id": "0InumRdWUTpY",
        "outputId": "ece6123d-6917-4834-80f6-85bc05b469ec"
      },
      "source": [
        "tf.keras.utils.plot_model(model_dense, \"Dense_model.png\", show_shapes=True)"
      ],
      "execution_count": 366,
      "outputs": [
        {
          "output_type": "execute_result",
          "data": {
            "image/png": "[encoded data removed]",
            "text/plain": [
              "<IPython.core.display.Image object>"
            ]
          },
          "metadata": {},
          "execution_count": 366
        }
      ]
    },
    {
      "cell_type": "code",
      "metadata": {
        "id": "qgtt-N-v3XrS",
        "colab": {
          "base_uri": "https://localhost:8080/"
        },
        "outputId": "807bd2a7-a201-4fb9-e29a-cc33373b9940"
      },
      "source": [
        "history_dense = model_dense.fit(x_train, y_train, epochs= 100, batch_size= 200, validation_split= 0.2)"
      ],
      "execution_count": 367,
      "outputs": [
        {
          "output_type": "stream",
          "name": "stdout",
          "text": [
            "Epoch 1/100\n",
            "7/7 [==============================] - 2s 81ms/step - loss: 0.5953 - accuracy: 0.2193 - val_loss: 0.5903 - val_accuracy: 0.2266\n",
            "Epoch 2/100\n",
            "7/7 [==============================] - 0s 32ms/step - loss: 0.5859 - accuracy: 0.2193 - val_loss: 0.5812 - val_accuracy: 0.2266\n",
            "Epoch 3/100\n",
            "7/7 [==============================] - 0s 41ms/step - loss: 0.5769 - accuracy: 0.2193 - val_loss: 0.5726 - val_accuracy: 0.2266\n",
            "Epoch 4/100\n",
            "7/7 [==============================] - 0s 33ms/step - loss: 0.5683 - accuracy: 0.2193 - val_loss: 0.5643 - val_accuracy: 0.2266\n",
            "Epoch 5/100\n",
            "7/7 [==============================] - 0s 32ms/step - loss: 0.5601 - accuracy: 0.2193 - val_loss: 0.5564 - val_accuracy: 0.2266\n",
            "Epoch 6/100\n",
            "7/7 [==============================] - 0s 32ms/step - loss: 0.5523 - accuracy: 0.2193 - val_loss: 0.5490 - val_accuracy: 0.2266\n",
            "Epoch 7/100\n",
            "7/7 [==============================] - 0s 33ms/step - loss: 0.5449 - accuracy: 0.2193 - val_loss: 0.5420 - val_accuracy: 0.2266\n",
            "Epoch 8/100\n",
            "7/7 [==============================] - 0s 32ms/step - loss: 0.5380 - accuracy: 0.2193 - val_loss: 0.5355 - val_accuracy: 0.2266\n",
            "Epoch 9/100\n",
            "7/7 [==============================] - 0s 32ms/step - loss: 0.5316 - accuracy: 0.2193 - val_loss: 0.5295 - val_accuracy: 0.2266\n",
            "Epoch 10/100\n",
            "7/7 [==============================] - 0s 33ms/step - loss: 0.5257 - accuracy: 0.2193 - val_loss: 0.5238 - val_accuracy: 0.2266\n",
            "Epoch 11/100\n",
            "7/7 [==============================] - 0s 35ms/step - loss: 0.5201 - accuracy: 0.2193 - val_loss: 0.5187 - val_accuracy: 0.2266\n",
            "Epoch 12/100\n",
            "7/7 [==============================] - 0s 32ms/step - loss: 0.5150 - accuracy: 0.2193 - val_loss: 0.5140 - val_accuracy: 0.2266\n",
            "Epoch 13/100\n",
            "7/7 [==============================] - 0s 33ms/step - loss: 0.5104 - accuracy: 0.2759 - val_loss: 0.5097 - val_accuracy: 0.2906\n",
            "Epoch 14/100\n",
            "7/7 [==============================] - 0s 32ms/step - loss: 0.5062 - accuracy: 0.2996 - val_loss: 0.5058 - val_accuracy: 0.2906\n",
            "Epoch 15/100\n",
            "7/7 [==============================] - 0s 33ms/step - loss: 0.5024 - accuracy: 0.2996 - val_loss: 0.5023 - val_accuracy: 0.2906\n",
            "Epoch 16/100\n",
            "7/7 [==============================] - 0s 32ms/step - loss: 0.4989 - accuracy: 0.2996 - val_loss: 0.4992 - val_accuracy: 0.2906\n",
            "Epoch 17/100\n",
            "7/7 [==============================] - 0s 31ms/step - loss: 0.4959 - accuracy: 0.2996 - val_loss: 0.4964 - val_accuracy: 0.2906\n",
            "Epoch 18/100\n",
            "7/7 [==============================] - 0s 32ms/step - loss: 0.4931 - accuracy: 0.2996 - val_loss: 0.4939 - val_accuracy: 0.2906\n",
            "Epoch 19/100\n",
            "7/7 [==============================] - 0s 33ms/step - loss: 0.4907 - accuracy: 0.2996 - val_loss: 0.4917 - val_accuracy: 0.2906\n",
            "Epoch 20/100\n",
            "7/7 [==============================] - 0s 34ms/step - loss: 0.4885 - accuracy: 0.2996 - val_loss: 0.4898 - val_accuracy: 0.2906\n",
            "Epoch 21/100\n",
            "7/7 [==============================] - 0s 34ms/step - loss: 0.4867 - accuracy: 0.2996 - val_loss: 0.4881 - val_accuracy: 0.2906\n",
            "Epoch 22/100\n",
            "7/7 [==============================] - 0s 32ms/step - loss: 0.4850 - accuracy: 0.2996 - val_loss: 0.4866 - val_accuracy: 0.2906\n",
            "Epoch 23/100\n",
            "7/7 [==============================] - 0s 32ms/step - loss: 0.4836 - accuracy: 0.2996 - val_loss: 0.4854 - val_accuracy: 0.2906\n",
            "Epoch 24/100\n",
            "7/7 [==============================] - 0s 34ms/step - loss: 0.4824 - accuracy: 0.2996 - val_loss: 0.4843 - val_accuracy: 0.2906\n",
            "Epoch 25/100\n",
            "7/7 [==============================] - 0s 31ms/step - loss: 0.4813 - accuracy: 0.2996 - val_loss: 0.4834 - val_accuracy: 0.2906\n",
            "Epoch 26/100\n",
            "7/7 [==============================] - 0s 32ms/step - loss: 0.4804 - accuracy: 0.2996 - val_loss: 0.4826 - val_accuracy: 0.2906\n",
            "Epoch 27/100\n",
            "7/7 [==============================] - 0s 33ms/step - loss: 0.4796 - accuracy: 0.2996 - val_loss: 0.4819 - val_accuracy: 0.2906\n",
            "Epoch 28/100\n",
            "7/7 [==============================] - 0s 33ms/step - loss: 0.4790 - accuracy: 0.2996 - val_loss: 0.4813 - val_accuracy: 0.2906\n",
            "Epoch 29/100\n",
            "7/7 [==============================] - 0s 34ms/step - loss: 0.4784 - accuracy: 0.2996 - val_loss: 0.4808 - val_accuracy: 0.2906\n",
            "Epoch 30/100\n",
            "7/7 [==============================] - 0s 32ms/step - loss: 0.4779 - accuracy: 0.2996 - val_loss: 0.4804 - val_accuracy: 0.2906\n",
            "Epoch 31/100\n",
            "7/7 [==============================] - 0s 38ms/step - loss: 0.4775 - accuracy: 0.2996 - val_loss: 0.4801 - val_accuracy: 0.2906\n",
            "Epoch 32/100\n",
            "7/7 [==============================] - 0s 33ms/step - loss: 0.4772 - accuracy: 0.2996 - val_loss: 0.4798 - val_accuracy: 0.2906\n",
            "Epoch 33/100\n",
            "7/7 [==============================] - 0s 33ms/step - loss: 0.4769 - accuracy: 0.2996 - val_loss: 0.4796 - val_accuracy: 0.2906\n",
            "Epoch 34/100\n",
            "7/7 [==============================] - 0s 34ms/step - loss: 0.4767 - accuracy: 0.2996 - val_loss: 0.4794 - val_accuracy: 0.2906\n",
            "Epoch 35/100\n",
            "7/7 [==============================] - 0s 31ms/step - loss: 0.4765 - accuracy: 0.2996 - val_loss: 0.4793 - val_accuracy: 0.2906\n",
            "Epoch 36/100\n",
            "7/7 [==============================] - 0s 32ms/step - loss: 0.4764 - accuracy: 0.2996 - val_loss: 0.4791 - val_accuracy: 0.2906\n",
            "Epoch 37/100\n",
            "7/7 [==============================] - 0s 32ms/step - loss: 0.4762 - accuracy: 0.2996 - val_loss: 0.4790 - val_accuracy: 0.2906\n",
            "Epoch 38/100\n",
            "7/7 [==============================] - 0s 34ms/step - loss: 0.4761 - accuracy: 0.2996 - val_loss: 0.4789 - val_accuracy: 0.2906\n",
            "Epoch 39/100\n",
            "7/7 [==============================] - 0s 33ms/step - loss: 0.4760 - accuracy: 0.2996 - val_loss: 0.4789 - val_accuracy: 0.2906\n",
            "Epoch 40/100\n",
            "7/7 [==============================] - 0s 31ms/step - loss: 0.4760 - accuracy: 0.2996 - val_loss: 0.4788 - val_accuracy: 0.2906\n",
            "Epoch 41/100\n",
            "7/7 [==============================] - 0s 32ms/step - loss: 0.4759 - accuracy: 0.2996 - val_loss: 0.4788 - val_accuracy: 0.2906\n",
            "Epoch 42/100\n",
            "7/7 [==============================] - 0s 35ms/step - loss: 0.4759 - accuracy: 0.2996 - val_loss: 0.4787 - val_accuracy: 0.2906\n",
            "Epoch 43/100\n",
            "7/7 [==============================] - 0s 33ms/step - loss: 0.4758 - accuracy: 0.2996 - val_loss: 0.4787 - val_accuracy: 0.2906\n",
            "Epoch 44/100\n",
            "7/7 [==============================] - 0s 32ms/step - loss: 0.4758 - accuracy: 0.2996 - val_loss: 0.4787 - val_accuracy: 0.2906\n",
            "Epoch 45/100\n",
            "7/7 [==============================] - 0s 32ms/step - loss: 0.4758 - accuracy: 0.2996 - val_loss: 0.4787 - val_accuracy: 0.2906\n",
            "Epoch 46/100\n",
            "7/7 [==============================] - 0s 32ms/step - loss: 0.4757 - accuracy: 0.2996 - val_loss: 0.4786 - val_accuracy: 0.2906\n",
            "Epoch 47/100\n",
            "7/7 [==============================] - 0s 34ms/step - loss: 0.4757 - accuracy: 0.2996 - val_loss: 0.4786 - val_accuracy: 0.2906\n",
            "Epoch 48/100\n",
            "7/7 [==============================] - 0s 36ms/step - loss: 0.4757 - accuracy: 0.2996 - val_loss: 0.4786 - val_accuracy: 0.2906\n",
            "Epoch 49/100\n",
            "7/7 [==============================] - 0s 31ms/step - loss: 0.4757 - accuracy: 0.2996 - val_loss: 0.4786 - val_accuracy: 0.2906\n",
            "Epoch 50/100\n",
            "7/7 [==============================] - 0s 32ms/step - loss: 0.4757 - accuracy: 0.2996 - val_loss: 0.4786 - val_accuracy: 0.2906\n",
            "Epoch 51/100\n",
            "7/7 [==============================] - 0s 33ms/step - loss: 0.4756 - accuracy: 0.2996 - val_loss: 0.4785 - val_accuracy: 0.2906\n",
            "Epoch 52/100\n",
            "7/7 [==============================] - 0s 33ms/step - loss: 0.4756 - accuracy: 0.2996 - val_loss: 0.4785 - val_accuracy: 0.2906\n",
            "Epoch 53/100\n",
            "7/7 [==============================] - 0s 32ms/step - loss: 0.4756 - accuracy: 0.2996 - val_loss: 0.4785 - val_accuracy: 0.2906\n",
            "Epoch 54/100\n",
            "7/7 [==============================] - 0s 34ms/step - loss: 0.4756 - accuracy: 0.2996 - val_loss: 0.4785 - val_accuracy: 0.2906\n",
            "Epoch 55/100\n",
            "7/7 [==============================] - 0s 34ms/step - loss: 0.4755 - accuracy: 0.2996 - val_loss: 0.4784 - val_accuracy: 0.2906\n",
            "Epoch 56/100\n",
            "7/7 [==============================] - 0s 32ms/step - loss: 0.4755 - accuracy: 0.2996 - val_loss: 0.4784 - val_accuracy: 0.2906\n",
            "Epoch 57/100\n",
            "7/7 [==============================] - 0s 33ms/step - loss: 0.4755 - accuracy: 0.2996 - val_loss: 0.4784 - val_accuracy: 0.2906\n",
            "Epoch 58/100\n",
            "7/7 [==============================] - 0s 33ms/step - loss: 0.4754 - accuracy: 0.2996 - val_loss: 0.4783 - val_accuracy: 0.2906\n",
            "Epoch 59/100\n",
            "7/7 [==============================] - 0s 32ms/step - loss: 0.4754 - accuracy: 0.2996 - val_loss: 0.4783 - val_accuracy: 0.2906\n",
            "Epoch 60/100\n",
            "7/7 [==============================] - 0s 34ms/step - loss: 0.4753 - accuracy: 0.2996 - val_loss: 0.4782 - val_accuracy: 0.2906\n",
            "Epoch 61/100\n",
            "7/7 [==============================] - 0s 35ms/step - loss: 0.4753 - accuracy: 0.2996 - val_loss: 0.4782 - val_accuracy: 0.2906\n",
            "Epoch 62/100\n",
            "7/7 [==============================] - 0s 31ms/step - loss: 0.4752 - accuracy: 0.2996 - val_loss: 0.4781 - val_accuracy: 0.2906\n",
            "Epoch 63/100\n",
            "7/7 [==============================] - 0s 33ms/step - loss: 0.4752 - accuracy: 0.2996 - val_loss: 0.4780 - val_accuracy: 0.2906\n",
            "Epoch 64/100\n",
            "7/7 [==============================] - 0s 35ms/step - loss: 0.4751 - accuracy: 0.2996 - val_loss: 0.4780 - val_accuracy: 0.2906\n",
            "Epoch 65/100\n",
            "7/7 [==============================] - 0s 34ms/step - loss: 0.4750 - accuracy: 0.2996 - val_loss: 0.4779 - val_accuracy: 0.2906\n",
            "Epoch 66/100\n",
            "7/7 [==============================] - 0s 33ms/step - loss: 0.4749 - accuracy: 0.2996 - val_loss: 0.4778 - val_accuracy: 0.2906\n",
            "Epoch 67/100\n",
            "7/7 [==============================] - 0s 33ms/step - loss: 0.4748 - accuracy: 0.2996 - val_loss: 0.4777 - val_accuracy: 0.2906\n",
            "Epoch 68/100\n",
            "7/7 [==============================] - 0s 32ms/step - loss: 0.4747 - accuracy: 0.2996 - val_loss: 0.4775 - val_accuracy: 0.2906\n",
            "Epoch 69/100\n",
            "7/7 [==============================] - 0s 32ms/step - loss: 0.4746 - accuracy: 0.2996 - val_loss: 0.4774 - val_accuracy: 0.2906\n",
            "Epoch 70/100\n",
            "7/7 [==============================] - 0s 31ms/step - loss: 0.4744 - accuracy: 0.2996 - val_loss: 0.4773 - val_accuracy: 0.2906\n",
            "Epoch 71/100\n",
            "7/7 [==============================] - 0s 32ms/step - loss: 0.4743 - accuracy: 0.2996 - val_loss: 0.4771 - val_accuracy: 0.2906\n",
            "Epoch 72/100\n",
            "7/7 [==============================] - 0s 34ms/step - loss: 0.4741 - accuracy: 0.2996 - val_loss: 0.4769 - val_accuracy: 0.2906\n",
            "Epoch 73/100\n",
            "7/7 [==============================] - 0s 37ms/step - loss: 0.4740 - accuracy: 0.2996 - val_loss: 0.4767 - val_accuracy: 0.2906\n",
            "Epoch 74/100\n",
            "7/7 [==============================] - 0s 33ms/step - loss: 0.4738 - accuracy: 0.2996 - val_loss: 0.4765 - val_accuracy: 0.2906\n",
            "Epoch 75/100\n",
            "7/7 [==============================] - 0s 34ms/step - loss: 0.4736 - accuracy: 0.2996 - val_loss: 0.4763 - val_accuracy: 0.2906\n",
            "Epoch 76/100\n",
            "7/7 [==============================] - 0s 34ms/step - loss: 0.4733 - accuracy: 0.2996 - val_loss: 0.4761 - val_accuracy: 0.2906\n",
            "Epoch 77/100\n",
            "7/7 [==============================] - 0s 35ms/step - loss: 0.4731 - accuracy: 0.2847 - val_loss: 0.4758 - val_accuracy: 0.2174\n",
            "Epoch 78/100\n",
            "7/7 [==============================] - 0s 32ms/step - loss: 0.4728 - accuracy: 0.2108 - val_loss: 0.4755 - val_accuracy: 0.2038\n",
            "Epoch 79/100\n",
            "7/7 [==============================] - 0s 37ms/step - loss: 0.4725 - accuracy: 0.2010 - val_loss: 0.4752 - val_accuracy: 0.1886\n",
            "Epoch 80/100\n",
            "7/7 [==============================] - 0s 32ms/step - loss: 0.4722 - accuracy: 0.1898 - val_loss: 0.4749 - val_accuracy: 0.1886\n",
            "Epoch 81/100\n",
            "7/7 [==============================] - 0s 34ms/step - loss: 0.4719 - accuracy: 0.1898 - val_loss: 0.4745 - val_accuracy: 0.1886\n",
            "Epoch 82/100\n",
            "7/7 [==============================] - 0s 32ms/step - loss: 0.4715 - accuracy: 0.1898 - val_loss: 0.4742 - val_accuracy: 0.1886\n",
            "Epoch 83/100\n",
            "7/7 [==============================] - 0s 32ms/step - loss: 0.4712 - accuracy: 0.1898 - val_loss: 0.4737 - val_accuracy: 0.1886\n",
            "Epoch 84/100\n",
            "7/7 [==============================] - 0s 31ms/step - loss: 0.4707 - accuracy: 0.1898 - val_loss: 0.4733 - val_accuracy: 0.1886\n",
            "Epoch 85/100\n",
            "7/7 [==============================] - 0s 32ms/step - loss: 0.4703 - accuracy: 0.1898 - val_loss: 0.4728 - val_accuracy: 0.1886\n",
            "Epoch 86/100\n",
            "7/7 [==============================] - 0s 35ms/step - loss: 0.4698 - accuracy: 0.1898 - val_loss: 0.4723 - val_accuracy: 0.1886\n",
            "Epoch 87/100\n",
            "7/7 [==============================] - 0s 31ms/step - loss: 0.4693 - accuracy: 0.1898 - val_loss: 0.4718 - val_accuracy: 0.1886\n",
            "Epoch 88/100\n",
            "7/7 [==============================] - 0s 32ms/step - loss: 0.4688 - accuracy: 0.1898 - val_loss: 0.4712 - val_accuracy: 0.1886\n",
            "Epoch 89/100\n",
            "7/7 [==============================] - 0s 34ms/step - loss: 0.4682 - accuracy: 0.1898 - val_loss: 0.4706 - val_accuracy: 0.1886\n",
            "Epoch 90/100\n",
            "7/7 [==============================] - 0s 34ms/step - loss: 0.4676 - accuracy: 0.1898 - val_loss: 0.4700 - val_accuracy: 0.1886\n",
            "Epoch 91/100\n",
            "7/7 [==============================] - 0s 34ms/step - loss: 0.4669 - accuracy: 0.1898 - val_loss: 0.4693 - val_accuracy: 0.1886\n",
            "Epoch 92/100\n",
            "7/7 [==============================] - 0s 33ms/step - loss: 0.4662 - accuracy: 0.1898 - val_loss: 0.4685 - val_accuracy: 0.1886\n",
            "Epoch 93/100\n",
            "7/7 [==============================] - 0s 33ms/step - loss: 0.4655 - accuracy: 0.1898 - val_loss: 0.4677 - val_accuracy: 0.1886\n",
            "Epoch 94/100\n",
            "7/7 [==============================] - 0s 33ms/step - loss: 0.4647 - accuracy: 0.1898 - val_loss: 0.4669 - val_accuracy: 0.1886\n",
            "Epoch 95/100\n",
            "7/7 [==============================] - 0s 34ms/step - loss: 0.4639 - accuracy: 0.1898 - val_loss: 0.4661 - val_accuracy: 0.1886\n",
            "Epoch 96/100\n",
            "7/7 [==============================] - 0s 33ms/step - loss: 0.4631 - accuracy: 0.1898 - val_loss: 0.4652 - val_accuracy: 0.1886\n",
            "Epoch 97/100\n",
            "7/7 [==============================] - 0s 32ms/step - loss: 0.4622 - accuracy: 0.1898 - val_loss: 0.4642 - val_accuracy: 0.1886\n",
            "Epoch 98/100\n",
            "7/7 [==============================] - 0s 33ms/step - loss: 0.4612 - accuracy: 0.1898 - val_loss: 0.4633 - val_accuracy: 0.1886\n",
            "Epoch 99/100\n",
            "7/7 [==============================] - 0s 34ms/step - loss: 0.4603 - accuracy: 0.1898 - val_loss: 0.4623 - val_accuracy: 0.1886\n",
            "Epoch 100/100\n",
            "7/7 [==============================] - 0s 31ms/step - loss: 0.4593 - accuracy: 0.1898 - val_loss: 0.4612 - val_accuracy: 0.1886\n"
          ]
        }
      ]
    },
    {
      "cell_type": "code",
      "metadata": {
        "colab": {
          "base_uri": "https://localhost:8080/"
        },
        "id": "vDspwBhAFs8j",
        "outputId": "6ccc916f-2696-4076-947f-34da113a5e6c"
      },
      "source": [
        "print(history_dense.history.keys())"
      ],
      "execution_count": 368,
      "outputs": [
        {
          "output_type": "stream",
          "name": "stdout",
          "text": [
            "dict_keys(['loss', 'accuracy', 'val_loss', 'val_accuracy'])\n"
          ]
        }
      ]
    },
    {
      "cell_type": "code",
      "metadata": {
        "colab": {
          "base_uri": "https://localhost:8080/",
          "height": 295
        },
        "id": "dwNHKR5EF1kA",
        "outputId": "77c230d0-0d0b-4ba5-b873-620252b9a608"
      },
      "source": [
        "plot_loss(history_dense, \"Dense model\")"
      ],
      "execution_count": 369,
      "outputs": [
        {
          "output_type": "display_data",
          "data": {
            "image/png": "[encoded data removed]",
            "text/plain": [
              "<Figure size 432x288 with 1 Axes>"
            ]
          },
          "metadata": {
            "needs_background": "light"
          }
        }
      ]
    },
    {
      "cell_type": "code",
      "metadata": {
        "colab": {
          "base_uri": "https://localhost:8080/",
          "height": 295
        },
        "id": "ADqe-VN-C_lf",
        "outputId": "eed6045e-1cf5-4224-c257-a52570c1150e"
      },
      "source": [
        "plot_acc(history_dense, \"Dense model\")"
      ],
      "execution_count": 370,
      "outputs": [
        {
          "output_type": "display_data",
          "data": {
            "image/png": "[encoded data removed]",
            "text/plain": [
              "<Figure size 432x288 with 1 Axes>"
            ]
          },
          "metadata": {
            "needs_background": "light"
          }
        }
      ]
    },
    {
      "cell_type": "markdown",
      "metadata": {
        "id": "q3_Lz-cjlhIw"
      },
      "source": [
        "## Modèle de deep learning adaptés aux données séquentielles\n"
      ]
    },
    {
      "cell_type": "markdown",
      "metadata": {
        "id": "2J4wZNdHl2oG"
      },
      "source": [
        "### Définition d'une fonction de construction de modèles\n",
        "\n",
        "La nature séquentielle des données que nous utilisons tend à choisir un modèle plus adapté à ce type. Dans les modèles adpaté, on trouve notamment les Recurent Neural Network (RNN), ainsi que plsuieurs varaint de ces modèles, comme les GRU, les LSTM ainsi que les BERT. Le module Keras fourni plusieurs fonction pour ces modèles, on testera donc certains de ces modèles pour en déterminer le plus efficace pour nos données.\n",
        "\n",
        "Dans cet objectif de construire plusieurs modèles de type RNN, on implémente des fonctions de construction pour simplifier la lecture du code par la suite :"
      ]
    },
    {
      "cell_type": "code",
      "metadata": {
        "id": "J9TdFPUAUyBZ"
      },
      "source": [
        "# définition des layers de type RNN simple\n",
        "def simple_rnn_layer(hidden_dim, dropout):\n",
        "    return tf.keras.layers.Bidirectional(\n",
        "                                tf.keras.layers.SimpleRNN(hidden_dim,\n",
        "                                dropout=dropout,\n",
        "                                return_sequences=True,\n",
        "                                kernel_initializer='orthogonal'))\n",
        "\n",
        "# définition des layers de type GRU\n",
        "def gru_layer(hidden_dim, dropout):\n",
        "    return tf.keras.layers.Bidirectional(\n",
        "                                tf.keras.layers.GRU(hidden_dim,\n",
        "                                dropout=dropout,\n",
        "                                return_sequences=True,\n",
        "                                kernel_initializer='orthogonal'))\n",
        "\n",
        "# définition des layers de type LSTM\n",
        "def lstm_layer(hidden_dim, dropout):\n",
        "    return tf.keras.layers.Bidirectional(\n",
        "                                tf.keras.layers.LSTM(hidden_dim,\n",
        "                                dropout=dropout,\n",
        "                                return_sequences=True,\n",
        "                                kernel_initializer='orthogonal'))\n",
        "\n",
        "# définition de la fonction pour construire les modèles \n",
        "def build_model(rnn = 'gru', convolve=False, conv_dim=256, \n",
        "                dropout=.2, hidden_dim=128, layers=3, pred_len=68):\n",
        "\n",
        "    inputs = tf.keras.layers.Input(shape=(pred_len, 14)) # couche d'entrée, correspondant au 68 bases sélectionner et leur One-Hot encoding pour la base, la structure dans la séquence et la structure de la boucle\n",
        "    hidden = inputs # passage de l'entrée pour les couches cachées (GRU ou LSTM)\n",
        "    if convolve:\n",
        "        hidden = tf.keras.layers.Conv1D(conv_dim, 5, padding='same', activation=tf.keras.activations.swish)(hidden)\n",
        "    if rnn is 'simple_rnn':\n",
        "      # construit un modèle avec un nombre de couche de type SimpleRNN défini dans l'appel\n",
        "      for _ in range(layers):\n",
        "        hidden = simple_rnn_layer(hidden_dim, dropout)(hidden)\n",
        "\n",
        "    if rnn is 'gru':\n",
        "        # construit un modèle avec un nombre de couche de type GRU défini dans l'appel \n",
        "        for _ in range(layers):\n",
        "            hidden = gru_layer(hidden_dim, dropout)(hidden)   \n",
        "    elif rnn is 'lstm':\n",
        "        # construit un modèle avec un nombre de couche de type LSTM défini dans l'appel\n",
        "        for _ in range(layers):\n",
        "            hidden = lstm_layer(hidden_dim, dropout)(hidden)\n",
        "    out = hidden\n",
        "    # redimension du nombre de sorties pour la prédiction des 5 paramètres (reactivity, deg_Mg_pH10, deg_Mg_50C, deg_pH10, deg_50C)\n",
        "    out = tf.keras.layers.Dense(5, activation='linear')(out)\n",
        "    \n",
        "    model = tf.keras.Model(inputs=inputs, outputs=out)\n",
        "    adam = tf.optimizers.Adam() # définition de l'optimiseur\n",
        "    model.compile(optimizer=adam, loss=MCRMSE, metrics = ['accuracy']) #compilation du modèle avec pour calcul de l'erreur la MCRMSE\n",
        "\n",
        "    return model"
      ],
      "execution_count": 371,
      "outputs": []
    },
    {
      "cell_type": "markdown",
      "metadata": {
        "id": "J_bWgbp8mI_d"
      },
      "source": [
        "## Modèle RNN simple\n",
        "\n",
        "Dans un premier temps, on commence par tester un modèle simple de RNN fourni par Keras."
      ]
    },
    {
      "cell_type": "code",
      "metadata": {
        "colab": {
          "base_uri": "https://localhost:8080/"
        },
        "id": "OstrOPz8mSYi",
        "outputId": "de5bbee2-c74e-40ad-d394-dec4a402e90a"
      },
      "source": [
        "model_simple_rnn = build_model(rnn = 'simple_rnn', convolve=True)\n",
        "model_simple_rnn.summary()"
      ],
      "execution_count": 372,
      "outputs": [
        {
          "output_type": "stream",
          "name": "stdout",
          "text": [
            "Model: \"model_12\"\n",
            "_________________________________________________________________\n",
            "Layer (type)                 Output Shape              Param #   \n",
            "=================================================================\n",
            "input_13 (InputLayer)        [(None, 68, 14)]          0         \n",
            "_________________________________________________________________\n",
            "conv1d_12 (Conv1D)           (None, 68, 256)           18176     \n",
            "_________________________________________________________________\n",
            "bidirectional_50 (Bidirectio (None, 68, 256)           98560     \n",
            "_________________________________________________________________\n",
            "bidirectional_51 (Bidirectio (None, 68, 256)           98560     \n",
            "_________________________________________________________________\n",
            "bidirectional_52 (Bidirectio (None, 68, 256)           98560     \n",
            "_________________________________________________________________\n",
            "dense_28 (Dense)             (None, 68, 5)             1285      \n",
            "=================================================================\n",
            "Total params: 315,141\n",
            "Trainable params: 315,141\n",
            "Non-trainable params: 0\n",
            "_________________________________________________________________\n"
          ]
        }
      ]
    },
    {
      "cell_type": "code",
      "metadata": {
        "colab": {
          "base_uri": "https://localhost:8080/",
          "height": 644
        },
        "id": "SIwuwp3jmVuS",
        "outputId": "c5fd470b-10b3-40da-86aa-31dcc4ff77ce"
      },
      "source": [
        "tf.keras.utils.plot_model(model_simple_rnn, \"SimpleRNN_model.png\", show_shapes=True)"
      ],
      "execution_count": 373,
      "outputs": [
        {
          "output_type": "execute_result",
          "data": {
            "image/png": "[encoded data removed]",
            "text/plain": [
              "<IPython.core.display.Image object>"
            ]
          },
          "metadata": {},
          "execution_count": 373
        }
      ]
    },
    {
      "cell_type": "code",
      "metadata": {
        "colab": {
          "base_uri": "https://localhost:8080/"
        },
        "id": "oNohJ0VGmZjp",
        "outputId": "3ec22f1f-3c12-4b6d-85e1-c38966f54538"
      },
      "source": [
        "history_simple_rnn = model_simple_rnn.fit(x_train, y_train, epochs = 50, batch_size = 128, validation_split= 0.2)"
      ],
      "execution_count": 286,
      "outputs": [
        {
          "output_type": "stream",
          "name": "stdout",
          "text": [
            "Epoch 1/50\n",
            "10/10 [==============================] - 16s 1s/step - loss: 0.7579 - accuracy: 0.2176 - val_loss: 0.4680 - val_accuracy: 0.3409\n",
            "Epoch 2/50\n",
            "10/10 [==============================] - 9s 930ms/step - loss: 0.5119 - accuracy: 0.2399 - val_loss: 0.3770 - val_accuracy: 0.2208\n",
            "Epoch 3/50\n",
            "10/10 [==============================] - 9s 919ms/step - loss: 0.4258 - accuracy: 0.2606 - val_loss: 0.3532 - val_accuracy: 0.2081\n",
            "Epoch 4/50\n",
            "10/10 [==============================] - 9s 917ms/step - loss: 0.3826 - accuracy: 0.2638 - val_loss: 0.3368 - val_accuracy: 0.3565\n",
            "Epoch 5/50\n",
            "10/10 [==============================] - 9s 910ms/step - loss: 0.3566 - accuracy: 0.2844 - val_loss: 0.3262 - val_accuracy: 0.3397\n",
            "Epoch 6/50\n",
            "10/10 [==============================] - 9s 909ms/step - loss: 0.3413 - accuracy: 0.2927 - val_loss: 0.3233 - val_accuracy: 0.3571\n",
            "Epoch 7/50\n",
            "10/10 [==============================] - 9s 914ms/step - loss: 0.3315 - accuracy: 0.3105 - val_loss: 0.3158 - val_accuracy: 0.3572\n",
            "Epoch 8/50\n",
            "10/10 [==============================] - 9s 910ms/step - loss: 0.3257 - accuracy: 0.3188 - val_loss: 0.3133 - val_accuracy: 0.3733\n",
            "Epoch 9/50\n",
            "10/10 [==============================] - 9s 908ms/step - loss: 0.3198 - accuracy: 0.3270 - val_loss: 0.3101 - val_accuracy: 0.3874\n",
            "Epoch 10/50\n",
            "10/10 [==============================] - 9s 910ms/step - loss: 0.3160 - accuracy: 0.3462 - val_loss: 0.3126 - val_accuracy: 0.3890\n",
            "Epoch 11/50\n",
            "10/10 [==============================] - 9s 908ms/step - loss: 0.3151 - accuracy: 0.3522 - val_loss: 0.3055 - val_accuracy: 0.4065\n",
            "Epoch 12/50\n",
            "10/10 [==============================] - 9s 908ms/step - loss: 0.3099 - accuracy: 0.3558 - val_loss: 0.3059 - val_accuracy: 0.3994\n",
            "Epoch 13/50\n",
            "10/10 [==============================] - 9s 915ms/step - loss: 0.3070 - accuracy: 0.3669 - val_loss: 0.3021 - val_accuracy: 0.4090\n",
            "Epoch 14/50\n",
            "10/10 [==============================] - 9s 931ms/step - loss: 0.3033 - accuracy: 0.3730 - val_loss: 0.3015 - val_accuracy: 0.4177\n",
            "Epoch 15/50\n",
            "10/10 [==============================] - 9s 912ms/step - loss: 0.3021 - accuracy: 0.3774 - val_loss: 0.2963 - val_accuracy: 0.4112\n",
            "Epoch 16/50\n",
            "10/10 [==============================] - 9s 914ms/step - loss: 0.2972 - accuracy: 0.3835 - val_loss: 0.2933 - val_accuracy: 0.4157\n",
            "Epoch 17/50\n",
            "10/10 [==============================] - 9s 920ms/step - loss: 0.2954 - accuracy: 0.3842 - val_loss: 0.2911 - val_accuracy: 0.4167\n",
            "Epoch 18/50\n",
            "10/10 [==============================] - 9s 914ms/step - loss: 0.2939 - accuracy: 0.3888 - val_loss: 0.2902 - val_accuracy: 0.4157\n",
            "Epoch 19/50\n",
            "10/10 [==============================] - 9s 907ms/step - loss: 0.2933 - accuracy: 0.3912 - val_loss: 0.2898 - val_accuracy: 0.4231\n",
            "Epoch 20/50\n",
            "10/10 [==============================] - 9s 918ms/step - loss: 0.2905 - accuracy: 0.3951 - val_loss: 0.2869 - val_accuracy: 0.4227\n",
            "Epoch 21/50\n",
            "10/10 [==============================] - 9s 915ms/step - loss: 0.2882 - accuracy: 0.3977 - val_loss: 0.2878 - val_accuracy: 0.4192\n",
            "Epoch 22/50\n",
            "10/10 [==============================] - 9s 917ms/step - loss: 0.2866 - accuracy: 0.3984 - val_loss: 0.2843 - val_accuracy: 0.4224\n",
            "Epoch 23/50\n",
            "10/10 [==============================] - 9s 912ms/step - loss: 0.2852 - accuracy: 0.4009 - val_loss: 0.2823 - val_accuracy: 0.4263\n",
            "Epoch 24/50\n",
            "10/10 [==============================] - 9s 913ms/step - loss: 0.2834 - accuracy: 0.4035 - val_loss: 0.2835 - val_accuracy: 0.4132\n",
            "Epoch 25/50\n",
            "10/10 [==============================] - 9s 921ms/step - loss: 0.2819 - accuracy: 0.4010 - val_loss: 0.2803 - val_accuracy: 0.4156\n",
            "Epoch 26/50\n",
            "10/10 [==============================] - 9s 919ms/step - loss: 0.2823 - accuracy: 0.4014 - val_loss: 0.2844 - val_accuracy: 0.4212\n",
            "Epoch 27/50\n",
            "10/10 [==============================] - 9s 927ms/step - loss: 0.2817 - accuracy: 0.4067 - val_loss: 0.2783 - val_accuracy: 0.4246\n",
            "Epoch 28/50\n",
            "10/10 [==============================] - 9s 924ms/step - loss: 0.2792 - accuracy: 0.4100 - val_loss: 0.2801 - val_accuracy: 0.4188\n",
            "Epoch 29/50\n",
            "10/10 [==============================] - 9s 926ms/step - loss: 0.2788 - accuracy: 0.4101 - val_loss: 0.2770 - val_accuracy: 0.4252\n",
            "Epoch 30/50\n",
            "10/10 [==============================] - 9s 925ms/step - loss: 0.2771 - accuracy: 0.4076 - val_loss: 0.2822 - val_accuracy: 0.4224\n",
            "Epoch 31/50\n",
            "10/10 [==============================] - 9s 919ms/step - loss: 0.2762 - accuracy: 0.4096 - val_loss: 0.2729 - val_accuracy: 0.4255\n",
            "Epoch 32/50\n",
            "10/10 [==============================] - 9s 925ms/step - loss: 0.2761 - accuracy: 0.4146 - val_loss: 0.2718 - val_accuracy: 0.4381\n",
            "Epoch 33/50\n",
            "10/10 [==============================] - 9s 913ms/step - loss: 0.2734 - accuracy: 0.4158 - val_loss: 0.2716 - val_accuracy: 0.4356\n",
            "Epoch 34/50\n",
            "10/10 [==============================] - 9s 928ms/step - loss: 0.2707 - accuracy: 0.4171 - val_loss: 0.2729 - val_accuracy: 0.4368\n",
            "Epoch 35/50\n",
            "10/10 [==============================] - 9s 912ms/step - loss: 0.2699 - accuracy: 0.4229 - val_loss: 0.2715 - val_accuracy: 0.4335\n",
            "Epoch 36/50\n",
            "10/10 [==============================] - 9s 911ms/step - loss: 0.2691 - accuracy: 0.4197 - val_loss: 0.2683 - val_accuracy: 0.4418\n",
            "Epoch 37/50\n",
            "10/10 [==============================] - 9s 923ms/step - loss: 0.2671 - accuracy: 0.4221 - val_loss: 0.2675 - val_accuracy: 0.4446\n",
            "Epoch 38/50\n",
            "10/10 [==============================] - 10s 959ms/step - loss: 0.2672 - accuracy: 0.4219 - val_loss: 0.2675 - val_accuracy: 0.4392\n",
            "Epoch 39/50\n",
            "10/10 [==============================] - 10s 968ms/step - loss: 0.2677 - accuracy: 0.4233 - val_loss: 0.2665 - val_accuracy: 0.4419\n",
            "Epoch 40/50\n",
            "10/10 [==============================] - 10s 979ms/step - loss: 0.2659 - accuracy: 0.4233 - val_loss: 0.2660 - val_accuracy: 0.4397\n",
            "Epoch 41/50\n",
            "10/10 [==============================] - 10s 970ms/step - loss: 0.2635 - accuracy: 0.4273 - val_loss: 0.2635 - val_accuracy: 0.4430\n",
            "Epoch 42/50\n",
            "10/10 [==============================] - 9s 924ms/step - loss: 0.2643 - accuracy: 0.4231 - val_loss: 0.2637 - val_accuracy: 0.4457\n",
            "Epoch 43/50\n",
            "10/10 [==============================] - 9s 914ms/step - loss: 0.2618 - accuracy: 0.4223 - val_loss: 0.2616 - val_accuracy: 0.4444\n",
            "Epoch 44/50\n",
            "10/10 [==============================] - 9s 917ms/step - loss: 0.2616 - accuracy: 0.4312 - val_loss: 0.2620 - val_accuracy: 0.4487\n",
            "Epoch 45/50\n",
            "10/10 [==============================] - 9s 914ms/step - loss: 0.2606 - accuracy: 0.4305 - val_loss: 0.2624 - val_accuracy: 0.4464\n",
            "Epoch 46/50\n",
            "10/10 [==============================] - 9s 910ms/step - loss: 0.2577 - accuracy: 0.4348 - val_loss: 0.2606 - val_accuracy: 0.4531\n",
            "Epoch 47/50\n",
            "10/10 [==============================] - 9s 917ms/step - loss: 0.2565 - accuracy: 0.4341 - val_loss: 0.2594 - val_accuracy: 0.4575\n",
            "Epoch 48/50\n",
            "10/10 [==============================] - 9s 909ms/step - loss: 0.2580 - accuracy: 0.4325 - val_loss: 0.2621 - val_accuracy: 0.4438\n",
            "Epoch 49/50\n",
            "10/10 [==============================] - 9s 912ms/step - loss: 0.2568 - accuracy: 0.4332 - val_loss: 0.2592 - val_accuracy: 0.4544\n",
            "Epoch 50/50\n",
            "10/10 [==============================] - 9s 913ms/step - loss: 0.2568 - accuracy: 0.4373 - val_loss: 0.2590 - val_accuracy: 0.4390\n"
          ]
        }
      ]
    },
    {
      "cell_type": "code",
      "metadata": {
        "colab": {
          "base_uri": "https://localhost:8080/",
          "height": 295
        },
        "id": "fL3xfMo-mdov",
        "outputId": "85e40c1a-4233-457e-8df3-5458da030972"
      },
      "source": [
        "plot_loss(history_simple_rnn, \"Simple RNN model\")"
      ],
      "execution_count": 287,
      "outputs": [
        {
          "output_type": "display_data",
          "data": {
            "image/png": "[encoded data removed]",
            "text/plain": [
              "<Figure size 432x288 with 1 Axes>"
            ]
          },
          "metadata": {
            "needs_background": "light"
          }
        }
      ]
    },
    {
      "cell_type": "code",
      "metadata": {
        "colab": {
          "base_uri": "https://localhost:8080/",
          "height": 295
        },
        "id": "gzaV_jGsEYRR",
        "outputId": "5131edee-a3f2-4f6c-b9d9-034388427d20"
      },
      "source": [
        "plot_acc(history_simple_rnn, \"Simple RNN model\")"
      ],
      "execution_count": 288,
      "outputs": [
        {
          "output_type": "display_data",
          "data": {
            "image/png": "[encoded data removed]",
            "text/plain": [
              "<Figure size 432x288 with 1 Axes>"
            ]
          },
          "metadata": {
            "needs_background": "light"
          }
        }
      ]
    },
    {
      "cell_type": "markdown",
      "metadata": {
        "id": "5yy_JxMO2qIb"
      },
      "source": [
        "Le RNN simple n'apprend pas de manière optimale car il n'est pas fiable pour les dépendances à long terme à cause de la disparition du gradient, dans cette optique les solutions possibles sont l'utilisation de RNN plus complexes comme LSTM et GRU.\n"
      ]
    },
    {
      "cell_type": "markdown",
      "metadata": {
        "id": "i_b5xO_Mz_uL"
      },
      "source": [
        "## Modèle GRU\n",
        "\n",
        "On construit dans un premiers temps un modèle GRU à trois couche et un couche Dense pour redimensioner les sorties sur les 5 paramètres à prédire :"
      ]
    },
    {
      "cell_type": "code",
      "metadata": {
        "colab": {
          "base_uri": "https://localhost:8080/"
        },
        "id": "FzPe6hBE4NFh",
        "outputId": "546dc0a5-36f0-4bb0-a5b7-79f82ec56700"
      },
      "source": [
        "model_gru = build_model(rnn = 'gru', convolve=True) # construction d'un modèle GRU à 3 couches\n",
        "model_gru.summary()"
      ],
      "execution_count": 289,
      "outputs": [
        {
          "output_type": "stream",
          "name": "stdout",
          "text": [
            "Model: \"model_9\"\n",
            "_________________________________________________________________\n",
            "Layer (type)                 Output Shape              Param #   \n",
            "=================================================================\n",
            "input_10 (InputLayer)        [(None, 68, 14)]          0         \n",
            "_________________________________________________________________\n",
            "conv1d_9 (Conv1D)            (None, 68, 256)           18176     \n",
            "_________________________________________________________________\n",
            "bidirectional_41 (Bidirectio (None, 68, 256)           296448    \n",
            "_________________________________________________________________\n",
            "bidirectional_42 (Bidirectio (None, 68, 256)           296448    \n",
            "_________________________________________________________________\n",
            "bidirectional_43 (Bidirectio (None, 68, 256)           296448    \n",
            "_________________________________________________________________\n",
            "dense_21 (Dense)             (None, 68, 5)             1285      \n",
            "=================================================================\n",
            "Total params: 908,805\n",
            "Trainable params: 908,805\n",
            "Non-trainable params: 0\n",
            "_________________________________________________________________\n"
          ]
        }
      ]
    },
    {
      "cell_type": "code",
      "metadata": {
        "colab": {
          "base_uri": "https://localhost:8080/",
          "height": 644
        },
        "id": "IniUr6BO9Yog",
        "outputId": "a58550a6-da15-410f-9a5d-494fb5d81cde"
      },
      "source": [
        "tf.keras.utils.plot_model(model_gru, \"GRU_model.png\", show_shapes=True)"
      ],
      "execution_count": 290,
      "outputs": [
        {
          "output_type": "execute_result",
          "data": {
            "image/png": "[encoded data removed]",
            "text/plain": [
              "<IPython.core.display.Image object>"
            ]
          },
          "metadata": {},
          "execution_count": 290
        }
      ]
    },
    {
      "cell_type": "markdown",
      "metadata": {
        "id": "uFVf2CuctiTi"
      },
      "source": [
        "Fit du modèle GRU précédemment construit sur les données d'entrainement du modèle. On désigne 50 époques avec des tailles de batchs de 64, la fin de chaque époque considère une validation de 20% des données d'entrainement, sur lesquels ont détermine notre erreur (ou loss) selon la MCRMSE, comme indiqué dans le sujet :"
      ]
    },
    {
      "cell_type": "code",
      "metadata": {
        "colab": {
          "base_uri": "https://localhost:8080/"
        },
        "id": "qcdHT-lz70QM",
        "outputId": "9c774ee1-932b-43fb-d26e-f852ca233866"
      },
      "source": [
        "history_gru = model_gru.fit(x_train, y_train, epochs=50, batch_size=128, validation_split=0.2)"
      ],
      "execution_count": 291,
      "outputs": [
        {
          "output_type": "stream",
          "name": "stdout",
          "text": [
            "Epoch 1/50\n",
            "10/10 [==============================] - 31s 2s/step - loss: 0.4850 - accuracy: 0.2862 - val_loss: 0.4206 - val_accuracy: 0.3400\n",
            "Epoch 2/50\n",
            "10/10 [==============================] - 19s 2s/step - loss: 0.4031 - accuracy: 0.3306 - val_loss: 0.3926 - val_accuracy: 0.2999\n",
            "Epoch 3/50\n",
            "10/10 [==============================] - 19s 2s/step - loss: 0.3814 - accuracy: 0.3346 - val_loss: 0.3715 - val_accuracy: 0.3366\n",
            "Epoch 4/50\n",
            "10/10 [==============================] - 19s 2s/step - loss: 0.3666 - accuracy: 0.3471 - val_loss: 0.3585 - val_accuracy: 0.3819\n",
            "Epoch 5/50\n",
            "10/10 [==============================] - 19s 2s/step - loss: 0.3536 - accuracy: 0.3661 - val_loss: 0.3479 - val_accuracy: 0.3851\n",
            "Epoch 6/50\n",
            "10/10 [==============================] - 19s 2s/step - loss: 0.3433 - accuracy: 0.3720 - val_loss: 0.3369 - val_accuracy: 0.3890\n",
            "Epoch 7/50\n",
            "10/10 [==============================] - 19s 2s/step - loss: 0.3341 - accuracy: 0.3772 - val_loss: 0.3323 - val_accuracy: 0.3972\n",
            "Epoch 8/50\n",
            "10/10 [==============================] - 19s 2s/step - loss: 0.3295 - accuracy: 0.3821 - val_loss: 0.3263 - val_accuracy: 0.3994\n",
            "Epoch 9/50\n",
            "10/10 [==============================] - 19s 2s/step - loss: 0.3235 - accuracy: 0.3899 - val_loss: 0.3216 - val_accuracy: 0.4019\n",
            "Epoch 10/50\n",
            "10/10 [==============================] - 19s 2s/step - loss: 0.3200 - accuracy: 0.3946 - val_loss: 0.3187 - val_accuracy: 0.4066\n",
            "Epoch 11/50\n",
            "10/10 [==============================] - 19s 2s/step - loss: 0.3162 - accuracy: 0.3955 - val_loss: 0.3154 - val_accuracy: 0.4051\n",
            "Epoch 12/50\n",
            "10/10 [==============================] - 19s 2s/step - loss: 0.3135 - accuracy: 0.4003 - val_loss: 0.3144 - val_accuracy: 0.4184\n",
            "Epoch 13/50\n",
            "10/10 [==============================] - 19s 2s/step - loss: 0.3107 - accuracy: 0.4041 - val_loss: 0.3110 - val_accuracy: 0.4121\n",
            "Epoch 14/50\n",
            "10/10 [==============================] - 19s 2s/step - loss: 0.3087 - accuracy: 0.3990 - val_loss: 0.3086 - val_accuracy: 0.4163\n",
            "Epoch 15/50\n",
            "10/10 [==============================] - 19s 2s/step - loss: 0.3059 - accuracy: 0.4060 - val_loss: 0.3062 - val_accuracy: 0.4235\n",
            "Epoch 16/50\n",
            "10/10 [==============================] - 19s 2s/step - loss: 0.3035 - accuracy: 0.4100 - val_loss: 0.3059 - val_accuracy: 0.4139\n",
            "Epoch 17/50\n",
            "10/10 [==============================] - 19s 2s/step - loss: 0.3020 - accuracy: 0.4125 - val_loss: 0.3029 - val_accuracy: 0.4204\n",
            "Epoch 18/50\n",
            "10/10 [==============================] - 19s 2s/step - loss: 0.3006 - accuracy: 0.4148 - val_loss: 0.3000 - val_accuracy: 0.4241\n",
            "Epoch 19/50\n",
            "10/10 [==============================] - 19s 2s/step - loss: 0.2970 - accuracy: 0.4172 - val_loss: 0.2960 - val_accuracy: 0.4286\n",
            "Epoch 20/50\n",
            "10/10 [==============================] - 19s 2s/step - loss: 0.2946 - accuracy: 0.4226 - val_loss: 0.2946 - val_accuracy: 0.4318\n",
            "Epoch 21/50\n",
            "10/10 [==============================] - 19s 2s/step - loss: 0.2907 - accuracy: 0.4209 - val_loss: 0.2892 - val_accuracy: 0.4348\n",
            "Epoch 22/50\n",
            "10/10 [==============================] - 19s 2s/step - loss: 0.2868 - accuracy: 0.4253 - val_loss: 0.2882 - val_accuracy: 0.4342\n",
            "Epoch 23/50\n",
            "10/10 [==============================] - 19s 2s/step - loss: 0.2846 - accuracy: 0.4228 - val_loss: 0.2843 - val_accuracy: 0.4380\n",
            "Epoch 24/50\n",
            "10/10 [==============================] - 19s 2s/step - loss: 0.2812 - accuracy: 0.4291 - val_loss: 0.2823 - val_accuracy: 0.4263\n",
            "Epoch 25/50\n",
            "10/10 [==============================] - 19s 2s/step - loss: 0.2794 - accuracy: 0.4279 - val_loss: 0.2798 - val_accuracy: 0.4452\n",
            "Epoch 26/50\n",
            "10/10 [==============================] - 19s 2s/step - loss: 0.2760 - accuracy: 0.4353 - val_loss: 0.2775 - val_accuracy: 0.4368\n",
            "Epoch 27/50\n",
            "10/10 [==============================] - 19s 2s/step - loss: 0.2752 - accuracy: 0.4350 - val_loss: 0.2752 - val_accuracy: 0.4445\n",
            "Epoch 28/50\n",
            "10/10 [==============================] - 19s 2s/step - loss: 0.2730 - accuracy: 0.4356 - val_loss: 0.2746 - val_accuracy: 0.4342\n",
            "Epoch 29/50\n",
            "10/10 [==============================] - 19s 2s/step - loss: 0.2716 - accuracy: 0.4362 - val_loss: 0.2744 - val_accuracy: 0.4246\n",
            "Epoch 30/50\n",
            "10/10 [==============================] - 19s 2s/step - loss: 0.2679 - accuracy: 0.4399 - val_loss: 0.2702 - val_accuracy: 0.4448\n",
            "Epoch 31/50\n",
            "10/10 [==============================] - 19s 2s/step - loss: 0.2653 - accuracy: 0.4417 - val_loss: 0.2669 - val_accuracy: 0.4541\n",
            "Epoch 32/50\n",
            "10/10 [==============================] - 19s 2s/step - loss: 0.2636 - accuracy: 0.4449 - val_loss: 0.2668 - val_accuracy: 0.4501\n",
            "Epoch 33/50\n",
            "10/10 [==============================] - 19s 2s/step - loss: 0.2619 - accuracy: 0.4483 - val_loss: 0.2642 - val_accuracy: 0.4477\n",
            "Epoch 34/50\n",
            "10/10 [==============================] - 19s 2s/step - loss: 0.2593 - accuracy: 0.4465 - val_loss: 0.2624 - val_accuracy: 0.4488\n",
            "Epoch 35/50\n",
            "10/10 [==============================] - 19s 2s/step - loss: 0.2578 - accuracy: 0.4458 - val_loss: 0.2605 - val_accuracy: 0.4546\n",
            "Epoch 36/50\n",
            "10/10 [==============================] - 19s 2s/step - loss: 0.2568 - accuracy: 0.4475 - val_loss: 0.2592 - val_accuracy: 0.4555\n",
            "Epoch 37/50\n",
            "10/10 [==============================] - 19s 2s/step - loss: 0.2551 - accuracy: 0.4549 - val_loss: 0.2577 - val_accuracy: 0.4569\n",
            "Epoch 38/50\n",
            "10/10 [==============================] - 19s 2s/step - loss: 0.2529 - accuracy: 0.4506 - val_loss: 0.2576 - val_accuracy: 0.4655\n",
            "Epoch 39/50\n",
            "10/10 [==============================] - 19s 2s/step - loss: 0.2519 - accuracy: 0.4550 - val_loss: 0.2563 - val_accuracy: 0.4664\n",
            "Epoch 40/50\n",
            "10/10 [==============================] - 19s 2s/step - loss: 0.2511 - accuracy: 0.4590 - val_loss: 0.2539 - val_accuracy: 0.4728\n",
            "Epoch 41/50\n",
            "10/10 [==============================] - 19s 2s/step - loss: 0.2468 - accuracy: 0.4631 - val_loss: 0.2532 - val_accuracy: 0.4635\n",
            "Epoch 42/50\n",
            "10/10 [==============================] - 19s 2s/step - loss: 0.2467 - accuracy: 0.4631 - val_loss: 0.2504 - val_accuracy: 0.4644\n",
            "Epoch 43/50\n",
            "10/10 [==============================] - 19s 2s/step - loss: 0.2444 - accuracy: 0.4622 - val_loss: 0.2490 - val_accuracy: 0.4695\n",
            "Epoch 44/50\n",
            "10/10 [==============================] - 19s 2s/step - loss: 0.2425 - accuracy: 0.4659 - val_loss: 0.2486 - val_accuracy: 0.4660\n",
            "Epoch 45/50\n",
            "10/10 [==============================] - 19s 2s/step - loss: 0.2417 - accuracy: 0.4688 - val_loss: 0.2492 - val_accuracy: 0.4671\n",
            "Epoch 46/50\n",
            "10/10 [==============================] - 19s 2s/step - loss: 0.2408 - accuracy: 0.4673 - val_loss: 0.2464 - val_accuracy: 0.4618\n",
            "Epoch 47/50\n",
            "10/10 [==============================] - 19s 2s/step - loss: 0.2388 - accuracy: 0.4674 - val_loss: 0.2445 - val_accuracy: 0.4736\n",
            "Epoch 48/50\n",
            "10/10 [==============================] - 19s 2s/step - loss: 0.2381 - accuracy: 0.4709 - val_loss: 0.2453 - val_accuracy: 0.4792\n",
            "Epoch 49/50\n",
            "10/10 [==============================] - 19s 2s/step - loss: 0.2377 - accuracy: 0.4743 - val_loss: 0.2439 - val_accuracy: 0.4781\n",
            "Epoch 50/50\n",
            "10/10 [==============================] - 19s 2s/step - loss: 0.2350 - accuracy: 0.4746 - val_loss: 0.2422 - val_accuracy: 0.4815\n"
          ]
        }
      ]
    },
    {
      "cell_type": "markdown",
      "metadata": {
        "id": "Q1Fl6fI_uqDr"
      },
      "source": [
        "On trace la valeur de la MCRMSE à chaque époques, en fonction de l'entrainement et de la validation du modèle :"
      ]
    },
    {
      "cell_type": "code",
      "metadata": {
        "colab": {
          "base_uri": "https://localhost:8080/",
          "height": 295
        },
        "id": "26Ah9qL_8viy",
        "outputId": "08363625-1542-45f6-ac48-ea5b248c6abf"
      },
      "source": [
        "plot_loss(history_gru, \"GRU model\")"
      ],
      "execution_count": 292,
      "outputs": [
        {
          "output_type": "display_data",
          "data": {
            "image/png": "[encoded data removed]",
            "text/plain": [
              "<Figure size 432x288 with 1 Axes>"
            ]
          },
          "metadata": {
            "needs_background": "light"
          }
        }
      ]
    },
    {
      "cell_type": "code",
      "metadata": {
        "colab": {
          "base_uri": "https://localhost:8080/",
          "height": 295
        },
        "id": "LD8whc5UEjnI",
        "outputId": "322b6317-fdd3-497c-b266-f19c185d0681"
      },
      "source": [
        "plot_acc(history_gru, \"GRU model\")"
      ],
      "execution_count": 293,
      "outputs": [
        {
          "output_type": "display_data",
          "data": {
            "image/png": "[encoded data removed]",
            "text/plain": [
              "<Figure size 432x288 with 1 Axes>"
            ]
          },
          "metadata": {
            "needs_background": "light"
          }
        }
      ]
    },
    {
      "cell_type": "markdown",
      "metadata": {
        "id": "XZsNNtZCwMr-"
      },
      "source": [
        "## Modèle LSTM\n",
        "\n"
      ]
    },
    {
      "cell_type": "code",
      "metadata": {
        "colab": {
          "base_uri": "https://localhost:8080/"
        },
        "id": "c7WKj6KA9Lb4",
        "outputId": "44ef9ddf-e963-4d36-9038-ad88ca798f5b"
      },
      "source": [
        "model_lstm = build_model(rnn = 'lstm', convolve=True)\n",
        "model_lstm.summary()"
      ],
      "execution_count": 294,
      "outputs": [
        {
          "output_type": "stream",
          "name": "stdout",
          "text": [
            "Model: \"model_10\"\n",
            "_________________________________________________________________\n",
            "Layer (type)                 Output Shape              Param #   \n",
            "=================================================================\n",
            "input_11 (InputLayer)        [(None, 68, 14)]          0         \n",
            "_________________________________________________________________\n",
            "conv1d_10 (Conv1D)           (None, 68, 256)           18176     \n",
            "_________________________________________________________________\n",
            "bidirectional_44 (Bidirectio (None, 68, 256)           394240    \n",
            "_________________________________________________________________\n",
            "bidirectional_45 (Bidirectio (None, 68, 256)           394240    \n",
            "_________________________________________________________________\n",
            "bidirectional_46 (Bidirectio (None, 68, 256)           394240    \n",
            "_________________________________________________________________\n",
            "dense_22 (Dense)             (None, 68, 5)             1285      \n",
            "=================================================================\n",
            "Total params: 1,202,181\n",
            "Trainable params: 1,202,181\n",
            "Non-trainable params: 0\n",
            "_________________________________________________________________\n"
          ]
        }
      ]
    },
    {
      "cell_type": "code",
      "metadata": {
        "colab": {
          "base_uri": "https://localhost:8080/",
          "height": 644
        },
        "id": "VM57HBNKr2di",
        "outputId": "7ca8eee4-0856-49e8-84c5-d7ca656c3fbc"
      },
      "source": [
        "tf.keras.utils.plot_model(model_lstm, \"LSTM_model.png\", show_shapes=True)"
      ],
      "execution_count": 295,
      "outputs": [
        {
          "output_type": "execute_result",
          "data": {
            "image/png": "[encoded data removed]",
            "text/plain": [
              "<IPython.core.display.Image object>"
            ]
          },
          "metadata": {},
          "execution_count": 295
        }
      ]
    },
    {
      "cell_type": "code",
      "metadata": {
        "colab": {
          "base_uri": "https://localhost:8080/"
        },
        "id": "rtlyuG199vYR",
        "outputId": "89f8c37e-ff4e-4f61-e233-d872d0174127"
      },
      "source": [
        "history_lstm = model_lstm.fit(x_train, y_train, epochs = 50, batch_size = 128, validation_split=0.2)"
      ],
      "execution_count": 296,
      "outputs": [
        {
          "output_type": "stream",
          "name": "stdout",
          "text": [
            "Epoch 1/50\n",
            "10/10 [==============================] - 37s 3s/step - loss: 0.5144 - accuracy: 0.2778 - val_loss: 0.4654 - val_accuracy: 0.3124\n",
            "Epoch 2/50\n",
            "10/10 [==============================] - 22s 2s/step - loss: 0.4365 - accuracy: 0.2968 - val_loss: 0.4172 - val_accuracy: 0.3035\n",
            "Epoch 3/50\n",
            "10/10 [==============================] - 22s 2s/step - loss: 0.3978 - accuracy: 0.3183 - val_loss: 0.3875 - val_accuracy: 0.3426\n",
            "Epoch 4/50\n",
            "10/10 [==============================] - 22s 2s/step - loss: 0.3819 - accuracy: 0.3271 - val_loss: 0.3757 - val_accuracy: 0.3412\n",
            "Epoch 5/50\n",
            "10/10 [==============================] - 23s 2s/step - loss: 0.3701 - accuracy: 0.3413 - val_loss: 0.3679 - val_accuracy: 0.3201\n",
            "Epoch 6/50\n",
            "10/10 [==============================] - 23s 2s/step - loss: 0.3620 - accuracy: 0.3449 - val_loss: 0.3623 - val_accuracy: 0.3384\n",
            "Epoch 7/50\n",
            "10/10 [==============================] - 22s 2s/step - loss: 0.3552 - accuracy: 0.3510 - val_loss: 0.3534 - val_accuracy: 0.3768\n",
            "Epoch 8/50\n",
            "10/10 [==============================] - 23s 2s/step - loss: 0.3484 - accuracy: 0.3675 - val_loss: 0.3467 - val_accuracy: 0.3780\n",
            "Epoch 9/50\n",
            "10/10 [==============================] - 22s 2s/step - loss: 0.3420 - accuracy: 0.3705 - val_loss: 0.3436 - val_accuracy: 0.3806\n",
            "Epoch 10/50\n",
            "10/10 [==============================] - 23s 2s/step - loss: 0.3377 - accuracy: 0.3702 - val_loss: 0.3354 - val_accuracy: 0.3810\n",
            "Epoch 11/50\n",
            "10/10 [==============================] - 23s 2s/step - loss: 0.3285 - accuracy: 0.3704 - val_loss: 0.3289 - val_accuracy: 0.3780\n",
            "Epoch 12/50\n",
            "10/10 [==============================] - 24s 2s/step - loss: 0.3214 - accuracy: 0.3702 - val_loss: 0.3191 - val_accuracy: 0.3825\n",
            "Epoch 13/50\n",
            "10/10 [==============================] - 22s 2s/step - loss: 0.3149 - accuracy: 0.3836 - val_loss: 0.3158 - val_accuracy: 0.3952\n",
            "Epoch 14/50\n",
            "10/10 [==============================] - 23s 2s/step - loss: 0.3105 - accuracy: 0.3905 - val_loss: 0.3079 - val_accuracy: 0.4019\n",
            "Epoch 15/50\n",
            "10/10 [==============================] - 23s 2s/step - loss: 0.3042 - accuracy: 0.3922 - val_loss: 0.3058 - val_accuracy: 0.4102\n",
            "Epoch 16/50\n",
            "10/10 [==============================] - 23s 2s/step - loss: 0.3009 - accuracy: 0.3983 - val_loss: 0.3020 - val_accuracy: 0.4073\n",
            "Epoch 17/50\n",
            "10/10 [==============================] - 22s 2s/step - loss: 0.2982 - accuracy: 0.4029 - val_loss: 0.2993 - val_accuracy: 0.4026\n",
            "Epoch 18/50\n",
            "10/10 [==============================] - 23s 2s/step - loss: 0.2947 - accuracy: 0.4043 - val_loss: 0.2986 - val_accuracy: 0.4104\n",
            "Epoch 19/50\n",
            "10/10 [==============================] - 23s 2s/step - loss: 0.2931 - accuracy: 0.4085 - val_loss: 0.2951 - val_accuracy: 0.4089\n",
            "Epoch 20/50\n",
            "10/10 [==============================] - 22s 2s/step - loss: 0.2913 - accuracy: 0.4105 - val_loss: 0.2951 - val_accuracy: 0.4133\n",
            "Epoch 21/50\n",
            "10/10 [==============================] - 23s 2s/step - loss: 0.2881 - accuracy: 0.4153 - val_loss: 0.2934 - val_accuracy: 0.4307\n",
            "Epoch 22/50\n",
            "10/10 [==============================] - 23s 2s/step - loss: 0.2859 - accuracy: 0.4168 - val_loss: 0.2900 - val_accuracy: 0.4302\n",
            "Epoch 23/50\n",
            "10/10 [==============================] - 23s 2s/step - loss: 0.2837 - accuracy: 0.4133 - val_loss: 0.2885 - val_accuracy: 0.4284\n",
            "Epoch 24/50\n",
            "10/10 [==============================] - 24s 2s/step - loss: 0.2808 - accuracy: 0.4197 - val_loss: 0.2854 - val_accuracy: 0.4274\n",
            "Epoch 25/50\n",
            "10/10 [==============================] - 24s 2s/step - loss: 0.2785 - accuracy: 0.4218 - val_loss: 0.2832 - val_accuracy: 0.4345\n",
            "Epoch 26/50\n",
            "10/10 [==============================] - 24s 2s/step - loss: 0.2777 - accuracy: 0.4286 - val_loss: 0.2864 - val_accuracy: 0.4327\n",
            "Epoch 27/50\n",
            "10/10 [==============================] - 23s 2s/step - loss: 0.2760 - accuracy: 0.4266 - val_loss: 0.2807 - val_accuracy: 0.4403\n",
            "Epoch 28/50\n",
            "10/10 [==============================] - 23s 2s/step - loss: 0.2743 - accuracy: 0.4297 - val_loss: 0.2808 - val_accuracy: 0.4165\n",
            "Epoch 29/50\n",
            "10/10 [==============================] - 23s 2s/step - loss: 0.2716 - accuracy: 0.4322 - val_loss: 0.2773 - val_accuracy: 0.4355\n",
            "Epoch 30/50\n",
            "10/10 [==============================] - 24s 2s/step - loss: 0.2692 - accuracy: 0.4326 - val_loss: 0.2768 - val_accuracy: 0.4297\n",
            "Epoch 31/50\n",
            "10/10 [==============================] - 24s 2s/step - loss: 0.2680 - accuracy: 0.4355 - val_loss: 0.2761 - val_accuracy: 0.4447\n",
            "Epoch 32/50\n",
            "10/10 [==============================] - 23s 2s/step - loss: 0.2666 - accuracy: 0.4421 - val_loss: 0.2725 - val_accuracy: 0.4458\n",
            "Epoch 33/50\n",
            "10/10 [==============================] - 24s 2s/step - loss: 0.2644 - accuracy: 0.4422 - val_loss: 0.2725 - val_accuracy: 0.4481\n",
            "Epoch 34/50\n",
            "10/10 [==============================] - 24s 2s/step - loss: 0.2627 - accuracy: 0.4479 - val_loss: 0.2705 - val_accuracy: 0.4432\n",
            "Epoch 35/50\n",
            "10/10 [==============================] - 24s 2s/step - loss: 0.2607 - accuracy: 0.4426 - val_loss: 0.2703 - val_accuracy: 0.4526\n",
            "Epoch 36/50\n",
            "10/10 [==============================] - 24s 2s/step - loss: 0.2595 - accuracy: 0.4484 - val_loss: 0.2667 - val_accuracy: 0.4493\n",
            "Epoch 37/50\n",
            "10/10 [==============================] - 25s 3s/step - loss: 0.2566 - accuracy: 0.4535 - val_loss: 0.2659 - val_accuracy: 0.4560\n",
            "Epoch 38/50\n",
            "10/10 [==============================] - 24s 2s/step - loss: 0.2556 - accuracy: 0.4524 - val_loss: 0.2664 - val_accuracy: 0.4516\n",
            "Epoch 39/50\n",
            "10/10 [==============================] - 25s 2s/step - loss: 0.2551 - accuracy: 0.4556 - val_loss: 0.2635 - val_accuracy: 0.4584\n",
            "Epoch 40/50\n",
            "10/10 [==============================] - 24s 2s/step - loss: 0.2530 - accuracy: 0.4569 - val_loss: 0.2631 - val_accuracy: 0.4577\n",
            "Epoch 41/50\n",
            "10/10 [==============================] - 23s 2s/step - loss: 0.2521 - accuracy: 0.4605 - val_loss: 0.2658 - val_accuracy: 0.4595\n",
            "Epoch 42/50\n",
            "10/10 [==============================] - 23s 2s/step - loss: 0.2513 - accuracy: 0.4644 - val_loss: 0.2602 - val_accuracy: 0.4633\n",
            "Epoch 43/50\n",
            "10/10 [==============================] - 23s 2s/step - loss: 0.2490 - accuracy: 0.4615 - val_loss: 0.2597 - val_accuracy: 0.4599\n",
            "Epoch 44/50\n",
            "10/10 [==============================] - 23s 2s/step - loss: 0.2455 - accuracy: 0.4630 - val_loss: 0.2584 - val_accuracy: 0.4562\n",
            "Epoch 45/50\n",
            "10/10 [==============================] - 24s 2s/step - loss: 0.2441 - accuracy: 0.4652 - val_loss: 0.2633 - val_accuracy: 0.4630\n",
            "Epoch 46/50\n",
            "10/10 [==============================] - 23s 2s/step - loss: 0.2433 - accuracy: 0.4649 - val_loss: 0.2576 - val_accuracy: 0.4674\n",
            "Epoch 47/50\n",
            "10/10 [==============================] - 23s 2s/step - loss: 0.2412 - accuracy: 0.4658 - val_loss: 0.2573 - val_accuracy: 0.4649\n",
            "Epoch 48/50\n",
            "10/10 [==============================] - 24s 2s/step - loss: 0.2401 - accuracy: 0.4690 - val_loss: 0.2591 - val_accuracy: 0.4674\n",
            "Epoch 49/50\n",
            "10/10 [==============================] - 23s 2s/step - loss: 0.2392 - accuracy: 0.4674 - val_loss: 0.2553 - val_accuracy: 0.4730\n",
            "Epoch 50/50\n",
            "10/10 [==============================] - 24s 2s/step - loss: 0.2367 - accuracy: 0.4722 - val_loss: 0.2528 - val_accuracy: 0.4752\n"
          ]
        }
      ]
    },
    {
      "cell_type": "code",
      "metadata": {
        "colab": {
          "base_uri": "https://localhost:8080/",
          "height": 295
        },
        "id": "OKRwIVbRn7DW",
        "outputId": "c5458deb-dd1e-46ef-b32e-4a33c74110be"
      },
      "source": [
        "plot_loss(history_lstm, \"LSTM model\")"
      ],
      "execution_count": 297,
      "outputs": [
        {
          "output_type": "display_data",
          "data": {
            "image/png": "[encoded data removed]",
            "text/plain": [
              "<Figure size 432x288 with 1 Axes>"
            ]
          },
          "metadata": {
            "needs_background": "light"
          }
        }
      ]
    },
    {
      "cell_type": "code",
      "metadata": {
        "colab": {
          "base_uri": "https://localhost:8080/",
          "height": 295
        },
        "id": "luxQ_ZvKEuUf",
        "outputId": "c2728537-cce3-4572-d859-14cec1ef4e32"
      },
      "source": [
        "plot_acc(history_lstm, \"LSTM model\")"
      ],
      "execution_count": 298,
      "outputs": [
        {
          "output_type": "display_data",
          "data": {
            "image/png": "[encoded data removed]",
            "text/plain": [
              "<Figure size 432x288 with 1 Axes>"
            ]
          },
          "metadata": {
            "needs_background": "light"
          }
        }
      ]
    },
    {
      "cell_type": "markdown",
      "metadata": {
        "id": "l-BSE4S93um6"
      },
      "source": [
        "# Test et Création des modèles sur les données Test privées et Test publiques"
      ]
    },
    {
      "cell_type": "markdown",
      "metadata": {
        "id": "0_CgG5B6iAwh"
      },
      "source": [
        "## Creation de y_pred_107"
      ]
    },
    {
      "cell_type": "code",
      "metadata": {
        "id": "Rn6XcPgFsVu7"
      },
      "source": [
        "X_test_107_all = X_test_107_all[:,:68,:]"
      ],
      "execution_count": 299,
      "outputs": []
    },
    {
      "cell_type": "code",
      "metadata": {
        "id": "i0kh0FjNLmne",
        "colab": {
          "base_uri": "https://localhost:8080/"
        },
        "outputId": "119ce19a-37f2-41e9-ebec-755d293d0623"
      },
      "source": [
        "y_pred_107"
      ],
      "execution_count": 300,
      "outputs": [
        {
          "output_type": "execute_result",
          "data": {
            "text/plain": [
              "array([[[ 0.84136426,  0.67445123,  0.6275376 ,  2.0862355 ,\n",
              "          0.75275475],\n",
              "        [ 2.7958517 ,  3.7490776 ,  3.7865555 ,  5.0956016 ,\n",
              "          3.1176686 ],\n",
              "        [ 1.6990275 ,  0.6397338 ,  0.99030024,  0.7828387 ,\n",
              "          0.7995934 ],\n",
              "        ...,\n",
              "        [ 0.27759942,  0.62680817,  0.5453924 ,  0.38983783,\n",
              "          0.3273067 ],\n",
              "        [ 0.21745667,  0.5879618 ,  0.569338  ,  0.5849478 ,\n",
              "          0.5443819 ],\n",
              "        [ 0.23058835,  0.6579917 ,  0.48121822,  0.8770796 ,\n",
              "          0.5706666 ]],\n",
              "\n",
              "       [[ 0.5583596 ,  0.5942317 ,  0.50350285,  2.447615  ,\n",
              "          0.64122605],\n",
              "        [ 1.3742884 ,  1.5143178 ,  1.6848607 ,  3.0442028 ,\n",
              "          1.763679  ],\n",
              "        [ 1.3236331 ,  0.8439295 ,  1.2202411 ,  1.2494352 ,\n",
              "          1.0755744 ],\n",
              "        ...,\n",
              "        [ 0.3153082 ,  0.70079005,  0.8910148 ,  0.7853315 ,\n",
              "          0.6630028 ],\n",
              "        [ 0.4596242 ,  0.34825474,  0.46152687,  0.40662295,\n",
              "          0.46794632],\n",
              "        [ 0.32439038,  0.5896785 ,  0.43594566,  0.93233144,\n",
              "          0.5283322 ]],\n",
              "\n",
              "       [[ 0.8515339 ,  0.80878186,  0.6008102 ,  2.079714  ,\n",
              "          0.7632858 ],\n",
              "        [ 2.2443113 ,  2.4383194 ,  2.0186079 ,  3.350277  ,\n",
              "          1.8270447 ],\n",
              "        [ 1.9084154 ,  1.5477747 ,  2.219208  ,  1.7554181 ,\n",
              "          1.6234124 ],\n",
              "        ...,\n",
              "        [ 0.59935725,  0.67000175,  0.60630375,  0.8421471 ,\n",
              "          0.5997339 ],\n",
              "        [ 0.31388894,  0.3618876 ,  0.3213408 ,  0.395895  ,\n",
              "          0.22119889],\n",
              "        [ 0.18736379,  0.50411355,  0.38491482,  0.7599916 ,\n",
              "          0.45290715]],\n",
              "\n",
              "       ...,\n",
              "\n",
              "       [[ 0.28680018,  0.25580662,  0.23631544,  1.9016165 ,\n",
              "          0.35538587],\n",
              "        [ 0.8684059 ,  0.92111766,  1.1862748 ,  2.0396795 ,\n",
              "          1.2825099 ],\n",
              "        [ 0.61831236, -0.00990833,  0.0858092 ,  0.22979766,\n",
              "          0.36677635],\n",
              "        ...,\n",
              "        [ 0.21270321,  0.3544089 ,  0.40565217,  0.16442321,\n",
              "          0.36076218],\n",
              "        [ 0.08801519,  0.24478078,  0.25783572,  0.14010778,\n",
              "          0.27947828],\n",
              "        [ 0.20813695,  0.45832175,  0.37753403,  0.4242363 ,\n",
              "          0.4329247 ]],\n",
              "\n",
              "       [[ 0.91951656,  0.97402215,  0.8056467 ,  2.5284328 ,\n",
              "          0.80375236],\n",
              "        [ 2.314662  ,  3.0439334 ,  2.6966567 ,  3.7388935 ,\n",
              "          2.054538  ],\n",
              "        [ 1.8942382 ,  1.63371   ,  2.3993745 ,  1.7763903 ,\n",
              "          1.7333469 ],\n",
              "        ...,\n",
              "        [ 0.06796917,  0.37313774,  0.38344023,  0.413955  ,\n",
              "          0.4249989 ],\n",
              "        [ 0.6064571 ,  0.47878352,  0.52427834,  0.58835304,\n",
              "          0.54861253],\n",
              "        [ 0.47067675,  1.0114074 ,  0.63787013,  1.4657803 ,\n",
              "          0.71611536]],\n",
              "\n",
              "       [[ 0.4604016 ,  0.4540332 ,  0.44163853,  1.7832648 ,\n",
              "          0.5802778 ],\n",
              "        [ 1.01542   ,  1.0185347 ,  1.1247246 ,  1.805851  ,\n",
              "          1.1651995 ],\n",
              "        [ 0.9633912 ,  0.7336664 ,  1.152073  ,  0.88028544,\n",
              "          1.0142022 ],\n",
              "        ...,\n",
              "        [ 0.19055264,  1.2762088 ,  1.2334249 ,  0.9717923 ,\n",
              "          0.7110799 ],\n",
              "        [ 0.25368217,  0.49873188,  0.5083616 ,  0.4558009 ,\n",
              "          0.39899412],\n",
              "        [ 0.23419549,  0.58703446,  0.4728288 ,  0.6366614 ,\n",
              "          0.43691903]]], dtype=float32)"
            ]
          },
          "metadata": {},
          "execution_count": 300
        }
      ]
    },
    {
      "cell_type": "code",
      "metadata": {
        "colab": {
          "base_uri": "https://localhost:8080/"
        },
        "id": "iFuCHH4ljMzl",
        "outputId": "fda91a7e-66a5-4df7-a252-027099a40ce7"
      },
      "source": [
        "np.shape(y_pred_107)"
      ],
      "execution_count": 301,
      "outputs": [
        {
          "output_type": "execute_result",
          "data": {
            "text/plain": [
              "(629, 68, 5)"
            ]
          },
          "metadata": {},
          "execution_count": 301
        }
      ]
    },
    {
      "cell_type": "code",
      "metadata": {
        "colab": {
          "base_uri": "https://localhost:8080/"
        },
        "id": "o51sjJKRpa2t",
        "outputId": "c4a51689-a303-4012-9c6e-4b0d0ecb0a0b"
      },
      "source": [
        "flag = 1\n",
        "for line in signal_noise:\n",
        "  if min(line) > -0.5:\n",
        "    flag = flag * 1\n",
        "  else:\n",
        "    flage = flag * 0\n",
        "if flag == 1:\n",
        "  print(\"test réussi\")\n",
        "else:\n",
        "  print(\"test échoué\")"
      ],
      "execution_count": 302,
      "outputs": [
        {
          "output_type": "stream",
          "name": "stdout",
          "text": [
            "test réussi\n"
          ]
        }
      ]
    },
    {
      "cell_type": "code",
      "metadata": {
        "id": "NJdge3dCn7zW"
      },
      "source": [
        "import scipy"
      ],
      "execution_count": 303,
      "outputs": []
    },
    {
      "cell_type": "code",
      "metadata": {
        "id": "PS0p2-8kkNbU"
      },
      "source": [
        "signal_noise = []\n",
        "for line in y_pred_107:\n",
        "  signal_noise.append(np.mean(line)/scipy.stats.sem(line))"
      ],
      "execution_count": 304,
      "outputs": []
    },
    {
      "cell_type": "code",
      "metadata": {
        "colab": {
          "base_uri": "https://localhost:8080/"
        },
        "id": "pUoGk8qmoUc0",
        "outputId": "6b8ddaaa-05db-44a5-dcb5-51f2460520fc"
      },
      "source": [
        "flag = 1\n",
        "for line in signal_noise:\n",
        "  if min(line) < 1:\n",
        "    flage = flag * 0\n",
        "  else:\n",
        "    flag = flag * 1\n",
        "\n",
        "if flag == 1:\n",
        "  print(\"test réussi\")\n",
        "else:\n",
        "  print(\"test échoué\")"
      ],
      "execution_count": 305,
      "outputs": [
        {
          "output_type": "stream",
          "name": "stdout",
          "text": [
            "test réussi\n"
          ]
        }
      ]
    },
    {
      "cell_type": "markdown",
      "metadata": {
        "id": "wQE3qwT0q2qp"
      },
      "source": [
        "- Le test sur la valeur minimale pour les 5 conditions qui doit être supérieure à -0,5. est ok\n",
        "- Le test sur le rapport signal/bruit moyen dans les 5 conditions qui doit être supérieur à 1,0. (Le signal / bruit est défini comme moyenne (valeur de mesure supérieure à 68 nts) / moyenne (erreur statistique de la valeur de mesure supérieure à 68 nts)) Est réussi !\n",
        "\n",
        "On peut dire que le modèle semble plutot fiable, mais on ne peut pas être à 100%. (On pourrait eventuelklement effectuer des modeles plus complexe avec une meilleur loss pour tendre vers une plus grande fiabilité)"
      ]
    },
    {
      "cell_type": "markdown",
      "metadata": {
        "id": "t47ZxpgLdhPP"
      },
      "source": [
        "## Creation du y_pred_130"
      ]
    },
    {
      "cell_type": "code",
      "metadata": {
        "id": "_VFPcc5ysvvp"
      },
      "source": [
        "X_test_130_all = X_test_130_all[:,:91,:]"
      ],
      "execution_count": 306,
      "outputs": []
    },
    {
      "cell_type": "code",
      "metadata": {
        "colab": {
          "base_uri": "https://localhost:8080/"
        },
        "id": "SrK6P4Ias-oD",
        "outputId": "0d53b3b9-cc5e-41a9-a640-9593f849dd12"
      },
      "source": [
        "np.shape(X_test_130_all)"
      ],
      "execution_count": 307,
      "outputs": [
        {
          "output_type": "execute_result",
          "data": {
            "text/plain": [
              "(3005, 91, 14)"
            ]
          },
          "metadata": {},
          "execution_count": 307
        }
      ]
    },
    {
      "cell_type": "code",
      "metadata": {
        "id": "KSP3OK_Ew0s9"
      },
      "source": [
        "model_gru_130 = build_model(rnn='gru', pred_len=91, convolve=True)"
      ],
      "execution_count": 308,
      "outputs": []
    },
    {
      "cell_type": "code",
      "metadata": {
        "colab": {
          "base_uri": "https://localhost:8080/"
        },
        "id": "a9_EFqdZt2_Z",
        "outputId": "60be95c8-8d39-4409-f429-0fda824b1f39"
      },
      "source": [
        "model_gru_130.summary()"
      ],
      "execution_count": 309,
      "outputs": [
        {
          "output_type": "stream",
          "name": "stdout",
          "text": [
            "Model: \"model_11\"\n",
            "_________________________________________________________________\n",
            "Layer (type)                 Output Shape              Param #   \n",
            "=================================================================\n",
            "input_12 (InputLayer)        [(None, 91, 14)]          0         \n",
            "_________________________________________________________________\n",
            "conv1d_11 (Conv1D)           (None, 91, 256)           18176     \n",
            "_________________________________________________________________\n",
            "bidirectional_47 (Bidirectio (None, 91, 256)           296448    \n",
            "_________________________________________________________________\n",
            "bidirectional_48 (Bidirectio (None, 91, 256)           296448    \n",
            "_________________________________________________________________\n",
            "bidirectional_49 (Bidirectio (None, 91, 256)           296448    \n",
            "_________________________________________________________________\n",
            "dense_23 (Dense)             (None, 91, 5)             1285      \n",
            "=================================================================\n",
            "Total params: 908,805\n",
            "Trainable params: 908,805\n",
            "Non-trainable params: 0\n",
            "_________________________________________________________________\n"
          ]
        }
      ]
    },
    {
      "cell_type": "code",
      "metadata": {
        "id": "LFbCLRv6t_AV"
      },
      "source": [
        "model_gru_130.set_weights(model_gru.get_weights())"
      ],
      "execution_count": 310,
      "outputs": []
    },
    {
      "cell_type": "code",
      "metadata": {
        "id": "peMzlKwvsCHs"
      },
      "source": [
        "y_pred_130 = model_gru_130.predict(X_test_130_all)"
      ],
      "execution_count": 311,
      "outputs": []
    },
    {
      "cell_type": "code",
      "metadata": {
        "colab": {
          "base_uri": "https://localhost:8080/"
        },
        "id": "VXIYLefxsCHs",
        "outputId": "afdceae2-564d-46e6-f910-18f28c29bbb2"
      },
      "source": [
        "y_pred_130"
      ],
      "execution_count": 312,
      "outputs": [
        {
          "output_type": "execute_result",
          "data": {
            "text/plain": [
              "array([[[ 0.63733137,  0.6735015 ,  0.514787  ,  1.7233236 ,\n",
              "          0.60291433],\n",
              "        [ 1.4372928 ,  2.2474134 ,  1.965734  ,  2.52692   ,\n",
              "          1.4665165 ],\n",
              "        [ 1.1993508 ,  0.79701346,  1.0118043 ,  1.0312355 ,\n",
              "          1.0701588 ],\n",
              "        ...,\n",
              "        [ 0.30080602,  0.75961065,  0.7810803 ,  0.88402647,\n",
              "          0.6715245 ],\n",
              "        [ 0.44953716,  0.48605344,  0.5095356 ,  0.5858491 ,\n",
              "          0.51290643],\n",
              "        [ 0.2523579 ,  0.6521358 ,  0.4579745 ,  0.92561346,\n",
              "          0.5310923 ]],\n",
              "\n",
              "       [[ 0.63942   ,  0.7231948 ,  0.52325165,  1.5909585 ,\n",
              "          0.56223166],\n",
              "        [ 1.547584  ,  2.6937706 ,  2.2534351 ,  2.695279  ,\n",
              "          1.55462   ],\n",
              "        [ 1.1351844 ,  0.9017021 ,  1.0382956 ,  1.0772625 ,\n",
              "          0.9595444 ],\n",
              "        ...,\n",
              "        [-0.01651619,  0.13972622,  0.06020609,  0.08761413,\n",
              "          0.09673852],\n",
              "        [ 0.06120928,  0.32891333,  0.1556775 ,  0.29801208,\n",
              "          0.23295842],\n",
              "        [ 0.22131829,  0.90770453,  0.43806678,  0.94137436,\n",
              "          0.61083555]],\n",
              "\n",
              "       [[ 0.53333133,  0.59325904,  0.53081125,  1.893693  ,\n",
              "          0.65957797],\n",
              "        [ 1.2595477 ,  1.5165219 ,  1.4355711 ,  2.1736681 ,\n",
              "          1.352678  ],\n",
              "        [ 1.1733613 ,  1.1824391 ,  1.5063215 ,  1.2165595 ,\n",
              "          1.2335538 ],\n",
              "        ...,\n",
              "        [ 0.50458884,  0.5431261 ,  0.64440715,  0.36959457,\n",
              "          0.4817151 ],\n",
              "        [ 0.25790548,  0.39379996,  0.38501897,  0.35066062,\n",
              "          0.3615158 ],\n",
              "        [ 0.31264216,  0.70154274,  0.47021684,  0.8976319 ,\n",
              "          0.5686595 ]],\n",
              "\n",
              "       ...,\n",
              "\n",
              "       [[ 0.85605127,  0.94184   ,  0.72364664,  2.5048814 ,\n",
              "          0.8577268 ],\n",
              "        [ 2.0031471 ,  2.865551  ,  2.490905  ,  3.5801084 ,\n",
              "          2.0520508 ],\n",
              "        [ 1.5402026 ,  1.4831    ,  1.9134825 ,  1.6390731 ,\n",
              "          1.735096  ],\n",
              "        ...,\n",
              "        [ 0.02165139,  0.14417535,  0.02072303,  0.15338212,\n",
              "          0.07772602],\n",
              "        [-0.01724758,  0.16421378,  0.04069063,  0.23789641,\n",
              "          0.10934046],\n",
              "        [-0.02121129,  0.50858843,  0.21780033,  0.8365992 ,\n",
              "          0.49370065]],\n",
              "\n",
              "       [[ 0.39294598,  0.5441298 ,  0.47791925,  1.8131237 ,\n",
              "          0.5987351 ],\n",
              "        [ 0.96287966,  1.5588099 ,  1.5354602 ,  2.2927375 ,\n",
              "          1.467251  ],\n",
              "        [ 0.9653172 ,  0.68833274,  0.8620517 ,  0.85905594,\n",
              "          0.9328852 ],\n",
              "        ...,\n",
              "        [ 0.12888865,  0.24873483,  0.18899426,  0.24957404,\n",
              "          0.19846411],\n",
              "        [ 0.03254715,  0.185271  ,  0.16196641,  0.22115302,\n",
              "          0.13322404],\n",
              "        [ 0.10266525,  0.59606475,  0.3841571 ,  0.8746955 ,\n",
              "          0.57611525]],\n",
              "\n",
              "       [[ 0.6377229 ,  0.624957  ,  0.5553175 ,  2.1047966 ,\n",
              "          0.741536  ],\n",
              "        [ 2.0406673 ,  2.8818052 ,  3.082242  ,  4.081656  ,\n",
              "          2.7935562 ],\n",
              "        [ 1.3641198 ,  0.8992173 ,  1.0426491 ,  0.78450125,\n",
              "          1.0960536 ],\n",
              "        ...,\n",
              "        [ 0.91684884,  1.3762277 ,  1.2132484 ,  1.0871612 ,\n",
              "          0.76184344],\n",
              "        [ 0.71039   ,  1.1549611 ,  0.884466  ,  1.0877787 ,\n",
              "          0.7795076 ],\n",
              "        [ 0.37743253,  0.91880846,  0.6358666 ,  1.0991865 ,\n",
              "          0.65718055]]], dtype=float32)"
            ]
          },
          "metadata": {},
          "execution_count": 312
        }
      ]
    },
    {
      "cell_type": "markdown",
      "metadata": {
        "id": "L-Qx4iLm1SFj"
      },
      "source": [
        "On ne sait pas si ça passe le SN_Filer sur les données Privates, donc on ne peut pas checker. (On peut essayer de calculer le signal_noise pour voir la proportions des privates et voir combien passent, mais donne aucune indication réelle)"
      ]
    },
    {
      "cell_type": "markdown",
      "metadata": {
        "id": "XvKVHCp5voAf"
      },
      "source": [
        "# Création de tableau des résultats (CSV)"
      ]
    },
    {
      "cell_type": "code",
      "metadata": {
        "id": "IWiQZp7WhhM1"
      },
      "source": [
        "#Télécharger les fichiers de données\n",
        "from google.colab import files"
      ],
      "execution_count": 313,
      "outputs": []
    },
    {
      "cell_type": "code",
      "metadata": {
        "id": "qnR2b6KyrqZD",
        "colab": {
          "base_uri": "https://localhost:8080/",
          "height": 17
        },
        "outputId": "538e1ffb-8245-4ae0-856a-fcfd08739789"
      },
      "source": [
        "ls_prediction = []\n",
        "cols_prediction = [\"reactivity\", \"deg_Mg_pH10\", \"deg_pH10\", \"deg_Mg_50C\", \"deg_50C\"]\n",
        "for df, prediction in [(X_test_107, y_pred_107), (X_test_130, y_pred_130)]:\n",
        "    for i, uid in enumerate(df.id):\n",
        "        unique_predicate = prediction[i]\n",
        "        data_unique = pd.DataFrame(unique_predicate, columns=cols_prediction)\n",
        "        data_unique['id_seqpos'] = [f'{uid}_{x}' for x in range(data_unique.shape[0])]\n",
        "        ls_prediction.append(data_unique)\n",
        "data_prediction = pd.concat(ls_prediction)\n",
        "submission = sample_data[['id_seqpos']].merge(data_prediction, on=['id_seqpos'])\n",
        "submission.to_csv('submission.csv', index=False)\n",
        "files.download('submission.csv')"
      ],
      "execution_count": 314,
      "outputs": [
        {
          "output_type": "display_data",
          "data": {
            "application/javascript": [
              "\n",
              "    async function download(id, filename, size) {\n",
              "      if (!google.colab.kernel.accessAllowed) {\n",
              "        return;\n",
              "      }\n",
              "      const div = document.createElement('div');\n",
              "      const label = document.createElement('label');\n",
              "      label.textContent = `Downloading \"${filename}\": `;\n",
              "      div.appendChild(label);\n",
              "      const progress = document.createElement('progress');\n",
              "      progress.max = size;\n",
              "      div.appendChild(progress);\n",
              "      document.body.appendChild(div);\n",
              "\n",
              "      const buffers = [];\n",
              "      let downloaded = 0;\n",
              "\n",
              "      const channel = await google.colab.kernel.comms.open(id);\n",
              "      // Send a message to notify the kernel that we're ready.\n",
              "      channel.send({})\n",
              "\n",
              "      for await (const message of channel.messages) {\n",
              "        // Send a message to notify the kernel that we're ready.\n",
              "        channel.send({})\n",
              "        if (message.buffers) {\n",
              "          for (const buffer of message.buffers) {\n",
              "            buffers.push(buffer);\n",
              "            downloaded += buffer.byteLength;\n",
              "            progress.value = downloaded;\n",
              "          }\n",
              "        }\n",
              "      }\n",
              "      const blob = new Blob(buffers, {type: 'application/binary'});\n",
              "      const a = document.createElement('a');\n",
              "      a.href = window.URL.createObjectURL(blob);\n",
              "      a.download = filename;\n",
              "      div.appendChild(a);\n",
              "      a.click();\n",
              "      div.remove();\n",
              "    }\n",
              "  "
            ],
            "text/plain": [
              "<IPython.core.display.Javascript object>"
            ]
          },
          "metadata": {}
        },
        {
          "output_type": "display_data",
          "data": {
            "application/javascript": [
              "download(\"download_68b64975-c63b-40c7-934e-701f6bcc243d\", \"submission.csv\", 22166664)"
            ],
            "text/plain": [
              "<IPython.core.display.Javascript object>"
            ]
          },
          "metadata": {}
        }
      ]
    }
  ]
}